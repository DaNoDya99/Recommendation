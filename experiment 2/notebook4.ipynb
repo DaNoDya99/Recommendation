{
 "cells": [
  {
   "cell_type": "code",
   "execution_count": 1,
   "outputs": [],
   "source": [
    "import pandas as pd\n",
    "from nltk.corpus import stopwords\n",
    "import difflib\n",
    "from sklearn.feature_extraction.text import TfidfVectorizer\n",
    "from sklearn.metrics.pairwise import cosine_similarity"
   ],
   "metadata": {
    "collapsed": false,
    "ExecuteTime": {
     "end_time": "2024-09-11T16:46:39.705972300Z",
     "start_time": "2024-09-11T16:46:36.967863200Z"
    }
   },
   "id": "3c53551e0cf630a4"
  },
  {
   "cell_type": "code",
   "execution_count": 2,
   "outputs": [],
   "source": [
    "users_df = pd.read_excel(\"../data/Visitors Preference Dataset.xlsx\")\n",
    "places_df = pd.read_excel(\"../data/Places Dataset.xlsx\")"
   ],
   "metadata": {
    "collapsed": false,
    "ExecuteTime": {
     "end_time": "2024-09-11T16:46:41.533808Z",
     "start_time": "2024-09-11T16:46:39.707977700Z"
    }
   },
   "id": "dc9260880d0c4efd"
  },
  {
   "cell_type": "code",
   "execution_count": 3,
   "outputs": [
    {
     "data": {
      "text/plain": "   User ID              Name                         Email  \\\n0        1    Jennifer Quinn    jennifer.quinn@example.com   \n1        2       Emily Perry       emily.perry@example.com   \n2        3  Danielle Mcbride  danielle.mcbride@example.com   \n3        4   Angelica Wilson   angelica.wilson@example.com   \n4        5     Laurie Powers     laurie.powers@example.com   \n\n                                Preferred Activities  \\\n0  ['cycling', 'historical monuments', 'village h...   \n1  ['butterfly watching', 'hot springs', 'wildlif...   \n2  ['sea cruises', 'themed parks', 'craft worksho...   \n3              ['fishing', 'hot springs', 'sailing']   \n4     ['history tours', 'sailing', 'literary tours']   \n\n                  Bucket list destinations Sri Lanka  \n0  ['Polonnaruwa', 'Hatton', 'Anuradhapura', 'Ell...  \n1  ['Madunagala Hot Water Spring', 'Wilpattu Nati...  \n2  ['Mirissa Beach', 'Negombo Lagoon', 'Batadomba...  \n3  ['Maha Oya Hot Water Springs', 'Colombo Port C...  \n4  ['Negombo Lagoon', 'Colombo Port City', 'Galle...  ",
      "text/html": "<div>\n<style scoped>\n    .dataframe tbody tr th:only-of-type {\n        vertical-align: middle;\n    }\n\n    .dataframe tbody tr th {\n        vertical-align: top;\n    }\n\n    .dataframe thead th {\n        text-align: right;\n    }\n</style>\n<table border=\"1\" class=\"dataframe\">\n  <thead>\n    <tr style=\"text-align: right;\">\n      <th></th>\n      <th>User ID</th>\n      <th>Name</th>\n      <th>Email</th>\n      <th>Preferred Activities</th>\n      <th>Bucket list destinations Sri Lanka</th>\n    </tr>\n  </thead>\n  <tbody>\n    <tr>\n      <th>0</th>\n      <td>1</td>\n      <td>Jennifer Quinn</td>\n      <td>jennifer.quinn@example.com</td>\n      <td>['cycling', 'historical monuments', 'village h...</td>\n      <td>['Polonnaruwa', 'Hatton', 'Anuradhapura', 'Ell...</td>\n    </tr>\n    <tr>\n      <th>1</th>\n      <td>2</td>\n      <td>Emily Perry</td>\n      <td>emily.perry@example.com</td>\n      <td>['butterfly watching', 'hot springs', 'wildlif...</td>\n      <td>['Madunagala Hot Water Spring', 'Wilpattu Nati...</td>\n    </tr>\n    <tr>\n      <th>2</th>\n      <td>3</td>\n      <td>Danielle Mcbride</td>\n      <td>danielle.mcbride@example.com</td>\n      <td>['sea cruises', 'themed parks', 'craft worksho...</td>\n      <td>['Mirissa Beach', 'Negombo Lagoon', 'Batadomba...</td>\n    </tr>\n    <tr>\n      <th>3</th>\n      <td>4</td>\n      <td>Angelica Wilson</td>\n      <td>angelica.wilson@example.com</td>\n      <td>['fishing', 'hot springs', 'sailing']</td>\n      <td>['Maha Oya Hot Water Springs', 'Colombo Port C...</td>\n    </tr>\n    <tr>\n      <th>4</th>\n      <td>5</td>\n      <td>Laurie Powers</td>\n      <td>laurie.powers@example.com</td>\n      <td>['history tours', 'sailing', 'literary tours']</td>\n      <td>['Negombo Lagoon', 'Colombo Port City', 'Galle...</td>\n    </tr>\n  </tbody>\n</table>\n</div>"
     },
     "execution_count": 3,
     "metadata": {},
     "output_type": "execute_result"
    }
   ],
   "source": [
    "users_df.head()"
   ],
   "metadata": {
    "collapsed": false,
    "ExecuteTime": {
     "end_time": "2024-09-11T16:46:41.560249300Z",
     "start_time": "2024-09-11T16:46:41.534807200Z"
    }
   },
   "id": "6737988042d19dd2"
  },
  {
   "cell_type": "code",
   "execution_count": 4,
   "outputs": [
    {
     "data": {
      "text/plain": "                             name       lat        lng  \\\n0                Arugam Bay Beach  6.840408  81.836848   \n1                   Mirissa Beach  5.944703  80.459161   \n2  Weligama Beach (surf and stay)  5.972486  80.435714   \n3                        Ahangama  5.973975  80.362159   \n4                 Hikkaduwa Beach  6.137727  80.099060   \n\n             formatted_address  rating  user_ratings_total  \\\n0  Arugam Bay Beach, Sri Lanka     4.8              1591.0   \n1           Mirissa, Sri Lanka     4.6              1748.0   \n2          Weligama, Sri Lanka     4.4               325.0   \n3          Ahangama, Sri Lanka     NaN                 NaN   \n4   Hikkaduwa Beach, Sri Lanka     4.7              1438.0   \n\n                                      latest_reviews  \n0  ['Arugam Bay Beach is a surfer's paradise! I s...  \n1  ['Mirissa Beach is truly a gem on Sri LankaÃ¢Â...  \n2  ['Weligama Beach is a fantastic spot for both ...  \n3  ['Ahangama was a bit disappointing for me as a...  \n4  ['Hikkaduwa Beach is a delightful escape for s...  ",
      "text/html": "<div>\n<style scoped>\n    .dataframe tbody tr th:only-of-type {\n        vertical-align: middle;\n    }\n\n    .dataframe tbody tr th {\n        vertical-align: top;\n    }\n\n    .dataframe thead th {\n        text-align: right;\n    }\n</style>\n<table border=\"1\" class=\"dataframe\">\n  <thead>\n    <tr style=\"text-align: right;\">\n      <th></th>\n      <th>name</th>\n      <th>lat</th>\n      <th>lng</th>\n      <th>formatted_address</th>\n      <th>rating</th>\n      <th>user_ratings_total</th>\n      <th>latest_reviews</th>\n    </tr>\n  </thead>\n  <tbody>\n    <tr>\n      <th>0</th>\n      <td>Arugam Bay Beach</td>\n      <td>6.840408</td>\n      <td>81.836848</td>\n      <td>Arugam Bay Beach, Sri Lanka</td>\n      <td>4.8</td>\n      <td>1591.0</td>\n      <td>['Arugam Bay Beach is a surfer's paradise! I s...</td>\n    </tr>\n    <tr>\n      <th>1</th>\n      <td>Mirissa Beach</td>\n      <td>5.944703</td>\n      <td>80.459161</td>\n      <td>Mirissa, Sri Lanka</td>\n      <td>4.6</td>\n      <td>1748.0</td>\n      <td>['Mirissa Beach is truly a gem on Sri LankaÃ¢Â...</td>\n    </tr>\n    <tr>\n      <th>2</th>\n      <td>Weligama Beach (surf and stay)</td>\n      <td>5.972486</td>\n      <td>80.435714</td>\n      <td>Weligama, Sri Lanka</td>\n      <td>4.4</td>\n      <td>325.0</td>\n      <td>['Weligama Beach is a fantastic spot for both ...</td>\n    </tr>\n    <tr>\n      <th>3</th>\n      <td>Ahangama</td>\n      <td>5.973975</td>\n      <td>80.362159</td>\n      <td>Ahangama, Sri Lanka</td>\n      <td>NaN</td>\n      <td>NaN</td>\n      <td>['Ahangama was a bit disappointing for me as a...</td>\n    </tr>\n    <tr>\n      <th>4</th>\n      <td>Hikkaduwa Beach</td>\n      <td>6.137727</td>\n      <td>80.099060</td>\n      <td>Hikkaduwa Beach, Sri Lanka</td>\n      <td>4.7</td>\n      <td>1438.0</td>\n      <td>['Hikkaduwa Beach is a delightful escape for s...</td>\n    </tr>\n  </tbody>\n</table>\n</div>"
     },
     "execution_count": 4,
     "metadata": {},
     "output_type": "execute_result"
    }
   ],
   "source": [
    "places_df.head()"
   ],
   "metadata": {
    "collapsed": false,
    "ExecuteTime": {
     "end_time": "2024-09-11T16:46:41.622396200Z",
     "start_time": "2024-09-11T16:46:41.550381800Z"
    }
   },
   "id": "12275f599f819d28"
  },
  {
   "cell_type": "code",
   "execution_count": 5,
   "outputs": [],
   "source": [
    "selected_features_user = ['Preferred Activities', 'Bucket list destinations Sri Lanka']\n",
    "selected_features_places = ['name', 'latest_reviews']"
   ],
   "metadata": {
    "collapsed": false,
    "ExecuteTime": {
     "end_time": "2024-09-11T16:46:41.649428400Z",
     "start_time": "2024-09-11T16:46:41.562248700Z"
    }
   },
   "id": "a87c0ce6313b67a5"
  },
  {
   "cell_type": "code",
   "execution_count": 6,
   "outputs": [],
   "source": [
    "users_df = users_df[selected_features_user]\n",
    "places_df = places_df[selected_features_places]"
   ],
   "metadata": {
    "collapsed": false,
    "ExecuteTime": {
     "end_time": "2024-09-11T16:46:41.685660400Z",
     "start_time": "2024-09-11T16:46:41.569682100Z"
    }
   },
   "id": "92a93aa3cef65389"
  },
  {
   "cell_type": "code",
   "execution_count": 7,
   "outputs": [],
   "source": [
    "users_df.fillna(\"\", inplace=True)\n",
    "places_df.fillna(\"\", inplace=True)"
   ],
   "metadata": {
    "collapsed": false,
    "ExecuteTime": {
     "end_time": "2024-09-11T16:46:41.777739600Z",
     "start_time": "2024-09-11T16:46:41.577144700Z"
    }
   },
   "id": "f9e0500ab439fa09"
  },
  {
   "cell_type": "code",
   "execution_count": 8,
   "outputs": [],
   "source": [
    "users_df['Preferred Activities'] = users_df['Preferred Activities'].apply(lambda x: ' '.join(x.split()))\n",
    "users_df['Bucket list destinations Sri Lanka'] = users_df['Bucket list destinations Sri Lanka'].apply(lambda x: ' '.join(x.split()))"
   ],
   "metadata": {
    "collapsed": false,
    "ExecuteTime": {
     "end_time": "2024-09-11T16:46:41.777739600Z",
     "start_time": "2024-09-11T16:46:41.584050800Z"
    }
   },
   "id": "36b2b18bb2f88726"
  },
  {
   "cell_type": "code",
   "execution_count": 9,
   "outputs": [],
   "source": [
    "users_df['Preferred Activities'] = users_df['Preferred Activities'].apply(\n",
    "    lambda x: eval(x) if isinstance(x, str) and x.strip() != '' else ''\n",
    ")\n",
    "users_df['Bucket list destinations Sri Lanka'] = users_df['Bucket list destinations Sri Lanka'].apply(\n",
    "    lambda x: eval(x) if isinstance(x, str) and x.strip() != '' else ''\n",
    ")"
   ],
   "metadata": {
    "collapsed": false,
    "ExecuteTime": {
     "end_time": "2024-09-11T16:46:42.116123500Z",
     "start_time": "2024-09-11T16:46:41.716658200Z"
    }
   },
   "id": "a03086872e737675"
  },
  {
   "cell_type": "code",
   "execution_count": 10,
   "outputs": [],
   "source": [
    "users_df['Preferred Activities'] = users_df['Preferred Activities'].apply(lambda x: \" \".join(x))\n",
    "users_df['Bucket list destinations Sri Lanka'] = users_df['Bucket list destinations Sri Lanka'].apply(lambda x: \" \".join(x))"
   ],
   "metadata": {
    "collapsed": false,
    "ExecuteTime": {
     "end_time": "2024-09-11T16:46:42.117127Z",
     "start_time": "2024-09-11T16:46:42.010656Z"
    }
   },
   "id": "d9bff381a56d0fd"
  },
  {
   "cell_type": "code",
   "execution_count": 11,
   "outputs": [
    {
     "data": {
      "text/plain": "                              Preferred Activities  \\\n0   cycling historical monuments village homestays   \n1  butterfly watching hot springs wildlife viewing   \n2         sea cruises themed parks craft workshops   \n3                      fishing hot springs sailing   \n4             history tours sailing literary tours   \n\n                  Bucket list destinations Sri Lanka  \n0      Polonnaruwa Hatton Anuradhapura Ella Haputale  \n1  Madunagala Hot Water Spring Wilpattu National ...  \n2  Mirissa Beach Negombo Lagoon Batadombalena Cra...  \n3  Maha Oya Hot Water Springs Colombo Port City N...  \n4  Negombo Lagoon Colombo Port City Galle Dutch F...  ",
      "text/html": "<div>\n<style scoped>\n    .dataframe tbody tr th:only-of-type {\n        vertical-align: middle;\n    }\n\n    .dataframe tbody tr th {\n        vertical-align: top;\n    }\n\n    .dataframe thead th {\n        text-align: right;\n    }\n</style>\n<table border=\"1\" class=\"dataframe\">\n  <thead>\n    <tr style=\"text-align: right;\">\n      <th></th>\n      <th>Preferred Activities</th>\n      <th>Bucket list destinations Sri Lanka</th>\n    </tr>\n  </thead>\n  <tbody>\n    <tr>\n      <th>0</th>\n      <td>cycling historical monuments village homestays</td>\n      <td>Polonnaruwa Hatton Anuradhapura Ella Haputale</td>\n    </tr>\n    <tr>\n      <th>1</th>\n      <td>butterfly watching hot springs wildlife viewing</td>\n      <td>Madunagala Hot Water Spring Wilpattu National ...</td>\n    </tr>\n    <tr>\n      <th>2</th>\n      <td>sea cruises themed parks craft workshops</td>\n      <td>Mirissa Beach Negombo Lagoon Batadombalena Cra...</td>\n    </tr>\n    <tr>\n      <th>3</th>\n      <td>fishing hot springs sailing</td>\n      <td>Maha Oya Hot Water Springs Colombo Port City N...</td>\n    </tr>\n    <tr>\n      <th>4</th>\n      <td>history tours sailing literary tours</td>\n      <td>Negombo Lagoon Colombo Port City Galle Dutch F...</td>\n    </tr>\n  </tbody>\n</table>\n</div>"
     },
     "execution_count": 11,
     "metadata": {},
     "output_type": "execute_result"
    }
   ],
   "source": [
    "users_df.head()"
   ],
   "metadata": {
    "collapsed": false,
    "ExecuteTime": {
     "end_time": "2024-09-11T16:46:42.117127Z",
     "start_time": "2024-09-11T16:46:42.026886100Z"
    }
   },
   "id": "f35d7a063f2a1ae0"
  },
  {
   "cell_type": "code",
   "execution_count": 12,
   "outputs": [],
   "source": [
    "places_df['latest_reviews'] = places_df['latest_reviews'].apply(\n",
    "    lambda x: ''.join([i if i.isalpha() or i.isspace() else '' for i in x])\n",
    ")"
   ],
   "metadata": {
    "collapsed": false,
    "ExecuteTime": {
     "end_time": "2024-09-11T16:46:42.118122700Z",
     "start_time": "2024-09-11T16:46:42.075673Z"
    }
   },
   "id": "91aa50f24c2fe4ae"
  },
  {
   "cell_type": "code",
   "execution_count": 13,
   "outputs": [],
   "source": [
    "places_df['latest_reviews'] = places_df['latest_reviews'].apply(lambda x: x.lower())\n",
    "places_df['name'] = places_df['name'].apply(lambda x: x.lower())\n",
    "users_df['Preferred Activities'] = users_df['Preferred Activities'].apply(lambda x: x.lower())\n",
    "users_df['Bucket list destinations Sri Lanka'] = users_df['Bucket list destinations Sri Lanka'].apply(lambda x: x.lower())"
   ],
   "metadata": {
    "collapsed": false,
    "ExecuteTime": {
     "end_time": "2024-09-11T16:46:42.207738700Z",
     "start_time": "2024-09-11T16:46:42.125386800Z"
    }
   },
   "id": "d48a30e734e220b0"
  },
  {
   "cell_type": "code",
   "execution_count": 14,
   "outputs": [],
   "source": [
    "stop_words = set(stopwords.words('english'))\n",
    "\n",
    "places_df['latest_reviews'] = places_df['latest_reviews'].apply(\n",
    "    lambda x: ' '.join([word for word in x.split() if word not in stop_words])\n",
    ")"
   ],
   "metadata": {
    "collapsed": false,
    "ExecuteTime": {
     "end_time": "2024-09-11T16:46:42.228737900Z",
     "start_time": "2024-09-11T16:46:42.133395500Z"
    }
   },
   "id": "12752ade1281fb65"
  },
  {
   "cell_type": "code",
   "execution_count": 15,
   "outputs": [
    {
     "data": {
      "text/plain": "                             name  \\\n0                arugam bay beach   \n1                   mirissa beach   \n2  weligama beach (surf and stay)   \n3                        ahangama   \n4                 hikkaduwa beach   \n\n                                      latest_reviews  \n0  arugam bay beach surfers paradise spent incred...  \n1  mirissa beach truly gem sri lankaãââs southern...  \n2  weligama beach fantastic spot beginner experie...  \n3  ahangama bit disappointing solo traveler surfi...  \n4  hikkaduwa beach delightful escape solo travele...  ",
      "text/html": "<div>\n<style scoped>\n    .dataframe tbody tr th:only-of-type {\n        vertical-align: middle;\n    }\n\n    .dataframe tbody tr th {\n        vertical-align: top;\n    }\n\n    .dataframe thead th {\n        text-align: right;\n    }\n</style>\n<table border=\"1\" class=\"dataframe\">\n  <thead>\n    <tr style=\"text-align: right;\">\n      <th></th>\n      <th>name</th>\n      <th>latest_reviews</th>\n    </tr>\n  </thead>\n  <tbody>\n    <tr>\n      <th>0</th>\n      <td>arugam bay beach</td>\n      <td>arugam bay beach surfers paradise spent incred...</td>\n    </tr>\n    <tr>\n      <th>1</th>\n      <td>mirissa beach</td>\n      <td>mirissa beach truly gem sri lankaãââs southern...</td>\n    </tr>\n    <tr>\n      <th>2</th>\n      <td>weligama beach (surf and stay)</td>\n      <td>weligama beach fantastic spot beginner experie...</td>\n    </tr>\n    <tr>\n      <th>3</th>\n      <td>ahangama</td>\n      <td>ahangama bit disappointing solo traveler surfi...</td>\n    </tr>\n    <tr>\n      <th>4</th>\n      <td>hikkaduwa beach</td>\n      <td>hikkaduwa beach delightful escape solo travele...</td>\n    </tr>\n  </tbody>\n</table>\n</div>"
     },
     "execution_count": 15,
     "metadata": {},
     "output_type": "execute_result"
    }
   ],
   "source": [
    "places_df.head()"
   ],
   "metadata": {
    "collapsed": false,
    "ExecuteTime": {
     "end_time": "2024-09-11T16:46:42.231750800Z",
     "start_time": "2024-09-11T16:46:42.165899Z"
    }
   },
   "id": "f5f461a82291c6a9"
  },
  {
   "cell_type": "code",
   "execution_count": 16,
   "outputs": [],
   "source": [
    "combined_features_places = places_df['name'] + ' ' + places_df['latest_reviews']\n",
    "combined_features_users = users_df['Preferred Activities'] + ' ' + users_df['Bucket list destinations Sri Lanka']"
   ],
   "metadata": {
    "collapsed": false,
    "ExecuteTime": {
     "end_time": "2024-09-11T16:46:42.233741600Z",
     "start_time": "2024-09-11T16:46:42.176710200Z"
    }
   },
   "id": "2b4d1bd26caffa83"
  },
  {
   "cell_type": "code",
   "execution_count": 17,
   "outputs": [
    {
     "data": {
      "text/plain": "('arugam bay beach arugam bay beach surfers paradise spent incredible days riding waves local surf schools fantastic beginners like atmosphere laidback friendly locals fellow travelers long day surfing sunsets simply magical beach bit crowded especially peak season adds lively vibe canãâât wait return friends unforgettable time arugam bay beach surfing conditions excellent managed catch great waves beach beautiful soft sand clear waters perfect swimming however noticed litter beach bit disappointing overall vibrant nightlife delicious food made definitely worth visit couple looking relaxation arugam bay beach offered perfect blend tranquility excitement enjoyed lazy days lounging beach indulging fresh seafood beachside restaurants surf scene lively easy find quieter spots unwind downside occasional noise nearby parties didnãâât detract much experience lovely getaway visited arugam bay beach family children loved surf lessons found beach bit overcrowded atmosphere vibrant locals warm welcoming spent time exploring nearby attractions like elephant rock highlight wish efforts keep beach clean detracted beauty overall memorable trip arugam bay beach charm also downsides surfing fantastic managed improve skills help local instructors however disappointed litter scattered along beach itãââs shame natural beauty stunning cafes restaurants great believe attention given maintaining beach enjoyed time overall hope improvements future',\n 'cycling historical monuments village homestays polonnaruwa hatton anuradhapura ella haputale')"
     },
     "execution_count": 17,
     "metadata": {},
     "output_type": "execute_result"
    }
   ],
   "source": [
    "combined_features_places[0], combined_features_users[0]"
   ],
   "metadata": {
    "collapsed": false,
    "ExecuteTime": {
     "end_time": "2024-09-11T16:46:42.233741600Z",
     "start_time": "2024-09-11T16:46:42.185675300Z"
    }
   },
   "id": "cc948650873dc057"
  },
  {
   "cell_type": "code",
   "execution_count": 18,
   "outputs": [],
   "source": [
    "tfidf_vectorizer = TfidfVectorizer()\n",
    "tfidf_matrix_places = tfidf_vectorizer.fit_transform(combined_features_places)"
   ],
   "metadata": {
    "collapsed": false,
    "ExecuteTime": {
     "end_time": "2024-09-11T16:54:47.614878800Z",
     "start_time": "2024-09-11T16:54:47.508775200Z"
    }
   },
   "id": "1de4e158942c76f3"
  },
  {
   "cell_type": "code",
   "execution_count": 19,
   "outputs": [
    {
     "data": {
      "text/plain": "(411, 4482)"
     },
     "execution_count": 19,
     "metadata": {},
     "output_type": "execute_result"
    }
   ],
   "source": [
    "tfidf_matrix_places.shape"
   ],
   "metadata": {
    "collapsed": false,
    "ExecuteTime": {
     "end_time": "2024-09-11T16:54:58.561184300Z",
     "start_time": "2024-09-11T16:54:58.407136400Z"
    }
   },
   "id": "bd2357a56645fc0a"
  },
  {
   "cell_type": "code",
   "execution_count": 20,
   "outputs": [],
   "source": [
    "tfidf_matrix_users = tfidf_vectorizer.transform(combined_features_users)"
   ],
   "metadata": {
    "collapsed": false,
    "ExecuteTime": {
     "end_time": "2024-09-11T16:55:04.051118200Z",
     "start_time": "2024-09-11T16:55:03.888704100Z"
    }
   },
   "id": "c5f049c73182f9f"
  },
  {
   "cell_type": "code",
   "execution_count": 21,
   "outputs": [
    {
     "data": {
      "text/plain": "(10000, 4482)"
     },
     "execution_count": 21,
     "metadata": {},
     "output_type": "execute_result"
    }
   ],
   "source": [
    "tfidf_matrix_users.shape"
   ],
   "metadata": {
    "collapsed": false,
    "ExecuteTime": {
     "end_time": "2024-09-11T16:55:05.297682700Z",
     "start_time": "2024-09-11T16:55:05.238515100Z"
    }
   },
   "id": "4da9e5263adc969c"
  },
  {
   "cell_type": "code",
   "execution_count": 22,
   "outputs": [],
   "source": [
    "cosine_sim = cosine_similarity(tfidf_matrix_users, tfidf_matrix_places)"
   ],
   "metadata": {
    "collapsed": false,
    "ExecuteTime": {
     "end_time": "2024-09-11T16:55:09.125707700Z",
     "start_time": "2024-09-11T16:55:09.044241Z"
    }
   },
   "id": "7510fb85ff419cf"
  },
  {
   "cell_type": "code",
   "execution_count": 23,
   "outputs": [
    {
     "data": {
      "text/plain": "(10000, 411)"
     },
     "execution_count": 23,
     "metadata": {},
     "output_type": "execute_result"
    }
   ],
   "source": [
    "cosine_sim.shape"
   ],
   "metadata": {
    "collapsed": false,
    "ExecuteTime": {
     "end_time": "2024-09-11T16:55:10.961432500Z",
     "start_time": "2024-09-11T16:55:10.911035500Z"
    }
   },
   "id": "2a40cf651a8be4ef"
  },
  {
   "cell_type": "code",
   "execution_count": 24,
   "outputs": [
    {
     "data": {
      "text/plain": "array([0.        , 0.        , 0.        , 0.        , 0.        ,\n       0.        , 0.        , 0.        , 0.01105138, 0.13069547,\n       0.01351424, 0.        , 0.        , 0.        , 0.        ,\n       0.        , 0.        , 0.        , 0.        , 0.        ,\n       0.        , 0.        , 0.        , 0.22026951, 0.00756479,\n       0.        , 0.08191422, 0.01228605, 0.        , 0.09333707,\n       0.07152591, 0.        , 0.        , 0.        , 0.        ,\n       0.        , 0.        , 0.        , 0.03290306, 0.        ,\n       0.        , 0.        , 0.01093219, 0.        , 0.01086236,\n       0.        , 0.        , 0.        , 0.01107503, 0.        ,\n       0.        , 0.        , 0.        , 0.        , 0.        ,\n       0.        , 0.        , 0.        , 0.        , 0.        ,\n       0.        , 0.        , 0.        , 0.        , 0.        ,\n       0.        , 0.        , 0.        , 0.        , 0.        ,\n       0.        , 0.        , 0.        , 0.        , 0.        ,\n       0.        , 0.        , 0.        , 0.25095415, 0.        ,\n       0.        , 0.        , 0.        , 0.        , 0.        ,\n       0.00810954, 0.        , 0.        , 0.        , 0.        ,\n       0.        , 0.        , 0.        , 0.        , 0.        ,\n       0.2155568 , 0.00607332, 0.        , 0.        , 0.00459831,\n       0.07738011, 0.        , 0.        , 0.        , 0.        ,\n       0.        , 0.        , 0.        , 0.        , 0.00743738,\n       0.        , 0.        , 0.09017747, 0.        , 0.07897139,\n       0.        , 0.        , 0.        , 0.        , 0.        ,\n       0.07691352, 0.        , 0.0052288 , 0.        , 0.        ,\n       0.        , 0.        , 0.        , 0.        , 0.        ,\n       0.        , 0.00536493, 0.        , 0.        , 0.        ,\n       0.        , 0.        , 0.        , 0.00512505, 0.        ,\n       0.        , 0.        , 0.        , 0.00425743, 0.02518297,\n       0.00445404, 0.01978403, 0.        , 0.02514638, 0.04499066,\n       0.0276718 , 0.        , 0.        , 0.00467493, 0.        ,\n       0.        , 0.        , 0.        , 0.        , 0.        ,\n       0.00568091, 0.00502301, 0.07596328, 0.        , 0.        ,\n       0.02526409, 0.00638605, 0.01386593, 0.00546782, 0.00629351,\n       0.00469778, 0.0161729 , 0.        , 0.        , 0.01141282,\n       0.        , 0.        , 0.        , 0.        , 0.        ,\n       0.        , 0.        , 0.        , 0.        , 0.        ,\n       0.        , 0.01134695, 0.        , 0.        , 0.        ,\n       0.        , 0.        , 0.0134008 , 0.00524071, 0.0117041 ,\n       0.00627396, 0.        , 0.0055941 , 0.        , 0.        ,\n       0.00525844, 0.        , 0.        , 0.        , 0.        ,\n       0.        , 0.        , 0.        , 0.        , 0.        ,\n       0.01050469, 0.00710931, 0.        , 0.        , 0.        ,\n       0.00560133, 0.        , 0.        , 0.01246631, 0.        ,\n       0.08338819, 0.        , 0.        , 0.        , 0.        ,\n       0.09009166, 0.        , 0.        , 0.        , 0.        ,\n       0.00489081, 0.        , 0.        , 0.        , 0.        ,\n       0.        , 0.00656893, 0.        , 0.        , 0.        ,\n       0.        , 0.        , 0.01547024, 0.        , 0.        ,\n       0.        , 0.        , 0.00704764, 0.        , 0.        ,\n       0.        , 0.        , 0.01534904, 0.01944712, 0.        ,\n       0.00714399, 0.        , 0.        , 0.        , 0.        ,\n       0.08499987, 0.        , 0.        , 0.        , 0.        ,\n       0.        , 0.        , 0.        , 0.        , 0.00638429,\n       0.        , 0.01069745, 0.03834623, 0.0483769 , 0.02197323,\n       0.02969357, 0.0543464 , 0.        , 0.04663361, 0.03209143,\n       0.02663294, 0.02287818, 0.01311786, 0.006404  , 0.07171405,\n       0.0117647 , 0.        , 0.        , 0.        , 0.        ,\n       0.        , 0.        , 0.09044744, 0.        , 0.        ,\n       0.08710303, 0.        , 0.08466871, 0.        , 0.1047263 ,\n       0.09789783, 0.1068348 , 0.        , 0.10161451, 0.        ,\n       0.        , 0.0060263 , 0.01961153, 0.        , 0.        ,\n       0.        , 0.        , 0.        , 0.00521045, 0.        ,\n       0.10127953, 0.06346732, 0.03205911, 0.0238502 , 0.03526473,\n       0.        , 0.        , 0.        , 0.08515326, 0.        ,\n       0.01133169, 0.        , 0.        , 0.        , 0.        ,\n       0.        , 0.06684094, 0.        , 0.        , 0.        ,\n       0.        , 0.00403426, 0.00642301, 0.        , 0.        ,\n       0.03502288, 0.        , 0.        , 0.        , 0.00614782,\n       0.        , 0.        , 0.        , 0.        , 0.        ,\n       0.        , 0.03060852, 0.        , 0.        , 0.        ,\n       0.        , 0.        , 0.00674581, 0.        , 0.        ,\n       0.        , 0.        , 0.06142075, 0.02330451, 0.        ,\n       0.        , 0.04206234, 0.        , 0.10405752, 0.02856706,\n       0.        , 0.        , 0.        , 0.00744039, 0.        ,\n       0.        , 0.        , 0.08790304, 0.08157262, 0.        ,\n       0.        , 0.        , 0.        , 0.        , 0.        ,\n       0.        , 0.        , 0.        , 0.        , 0.00750596,\n       0.        , 0.        , 0.        , 0.        , 0.        ,\n       0.        , 0.        , 0.        , 0.        , 0.        ,\n       0.        , 0.        , 0.        , 0.        , 0.        ,\n       0.        , 0.        , 0.        , 0.        , 0.        ,\n       0.        ])"
     },
     "execution_count": 24,
     "metadata": {},
     "output_type": "execute_result"
    }
   ],
   "source": [
    "cosine_sim[0]"
   ],
   "metadata": {
    "collapsed": false,
    "ExecuteTime": {
     "end_time": "2024-09-11T16:55:13.852087100Z",
     "start_time": "2024-09-11T16:55:13.750602800Z"
    }
   },
   "id": "38f34fc2fe0557f8"
  },
  {
   "cell_type": "code",
   "execution_count": 25,
   "outputs": [],
   "source": [
    "top_5_places = cosine_sim[0].argsort()[-5:][::-1]"
   ],
   "metadata": {
    "collapsed": false,
    "ExecuteTime": {
     "end_time": "2024-09-11T16:58:21.523740900Z",
     "start_time": "2024-09-11T16:58:21.333580500Z"
    }
   },
   "id": "1d9cec2dd81e567d"
  },
  {
   "cell_type": "code",
   "execution_count": 26,
   "outputs": [],
   "source": [
    "places_original = pd.read_excel(\"../data/Places Dataset.xlsx\")\n",
    "users_original = pd.read_excel(\"../data/Visitors Preference Dataset.xlsx\")"
   ],
   "metadata": {
    "collapsed": false,
    "ExecuteTime": {
     "end_time": "2024-09-11T16:58:35.503830900Z",
     "start_time": "2024-09-11T16:58:33.776954200Z"
    }
   },
   "id": "b01e6d227c93c3fc"
  },
  {
   "cell_type": "code",
   "execution_count": 27,
   "outputs": [
    {
     "data": {
      "text/plain": "                         name       lat        lng        formatted_address  \\\n78                   Haputale  6.765414  80.952565      Haputale, Sri Lanka   \n23               Anuradhapura  8.311352  80.403651  Anuradhapura, Sri Lanka   \n95                Polonnaruwa  7.940338  81.018798   Polonnaruwa, Sri Lanka   \n9    Polonnaruwa Ancient City  7.945942  81.000329   Polonnaruwa, Sri Lanka   \n301            Pandalawa Ella  6.737742  80.399637     Ratnapura, Sri Lanka   \n\n     rating  user_ratings_total  \\\n78      NaN                 NaN   \n23      NaN                 NaN   \n95      NaN                 NaN   \n9       4.3               878.0   \n301     3.8               130.0   \n\n                                        latest_reviews  \n78   ['Haputale is a beautiful location with stunni...  \n23   ['Anuradhapura is rich in history, but I found...  \n95   ['Polonnaruwa felt like a missed opportunity. ...  \n9    ['Polonnaruwa Ancient City is a stunning place...  \n301  ['Pandalawa Ella is a hidden gem! The scenic v...  ",
      "text/html": "<div>\n<style scoped>\n    .dataframe tbody tr th:only-of-type {\n        vertical-align: middle;\n    }\n\n    .dataframe tbody tr th {\n        vertical-align: top;\n    }\n\n    .dataframe thead th {\n        text-align: right;\n    }\n</style>\n<table border=\"1\" class=\"dataframe\">\n  <thead>\n    <tr style=\"text-align: right;\">\n      <th></th>\n      <th>name</th>\n      <th>lat</th>\n      <th>lng</th>\n      <th>formatted_address</th>\n      <th>rating</th>\n      <th>user_ratings_total</th>\n      <th>latest_reviews</th>\n    </tr>\n  </thead>\n  <tbody>\n    <tr>\n      <th>78</th>\n      <td>Haputale</td>\n      <td>6.765414</td>\n      <td>80.952565</td>\n      <td>Haputale, Sri Lanka</td>\n      <td>NaN</td>\n      <td>NaN</td>\n      <td>['Haputale is a beautiful location with stunni...</td>\n    </tr>\n    <tr>\n      <th>23</th>\n      <td>Anuradhapura</td>\n      <td>8.311352</td>\n      <td>80.403651</td>\n      <td>Anuradhapura, Sri Lanka</td>\n      <td>NaN</td>\n      <td>NaN</td>\n      <td>['Anuradhapura is rich in history, but I found...</td>\n    </tr>\n    <tr>\n      <th>95</th>\n      <td>Polonnaruwa</td>\n      <td>7.940338</td>\n      <td>81.018798</td>\n      <td>Polonnaruwa, Sri Lanka</td>\n      <td>NaN</td>\n      <td>NaN</td>\n      <td>['Polonnaruwa felt like a missed opportunity. ...</td>\n    </tr>\n    <tr>\n      <th>9</th>\n      <td>Polonnaruwa Ancient City</td>\n      <td>7.945942</td>\n      <td>81.000329</td>\n      <td>Polonnaruwa, Sri Lanka</td>\n      <td>4.3</td>\n      <td>878.0</td>\n      <td>['Polonnaruwa Ancient City is a stunning place...</td>\n    </tr>\n    <tr>\n      <th>301</th>\n      <td>Pandalawa Ella</td>\n      <td>6.737742</td>\n      <td>80.399637</td>\n      <td>Ratnapura, Sri Lanka</td>\n      <td>3.8</td>\n      <td>130.0</td>\n      <td>['Pandalawa Ella is a hidden gem! The scenic v...</td>\n    </tr>\n  </tbody>\n</table>\n</div>"
     },
     "execution_count": 27,
     "metadata": {},
     "output_type": "execute_result"
    }
   ],
   "source": [
    "places_original.iloc[top_5_places]"
   ],
   "metadata": {
    "collapsed": false,
    "ExecuteTime": {
     "end_time": "2024-09-11T16:58:37.815497200Z",
     "start_time": "2024-09-11T16:58:37.748033600Z"
    }
   },
   "id": "ed006cec706ce487"
  },
  {
   "cell_type": "code",
   "execution_count": 29,
   "outputs": [
    {
     "name": "stdout",
     "output_type": "stream",
     "text": [
      "Similarity measure for place Haputale is 0.25095414880914707\n",
      "Similarity measure for place Anuradhapura is 0.22026950906501558\n",
      "Similarity measure for place Polonnaruwa is 0.21555679987644327\n",
      "Similarity measure for place Polonnaruwa Ancient City is 0.130695473801295\n",
      "Similarity measure for place Pandalawa Ella is 0.10683480083621741\n"
     ]
    }
   ],
   "source": [
    "for i in top_5_places:\n",
    "    print(f\"Similarity measure for place {places_original.iloc[i]['name']} is {cosine_sim[0][i]}\")"
   ],
   "metadata": {
    "collapsed": false,
    "ExecuteTime": {
     "end_time": "2024-09-11T16:59:28.675138800Z",
     "start_time": "2024-09-11T16:59:28.627571700Z"
    }
   },
   "id": "7e372ccb50004edb"
  },
  {
   "cell_type": "code",
   "execution_count": 30,
   "outputs": [
    {
     "data": {
      "text/plain": "User ID                                                                               1\nName                                                                     Jennifer Quinn\nEmail                                                        jennifer.quinn@example.com\nPreferred Activities                  ['cycling', 'historical monuments', 'village h...\nBucket list destinations Sri Lanka    ['Polonnaruwa', 'Hatton', 'Anuradhapura', 'Ell...\nName: 0, dtype: object"
     },
     "execution_count": 30,
     "metadata": {},
     "output_type": "execute_result"
    }
   ],
   "source": [
    "users_original.iloc[0]"
   ],
   "metadata": {
    "collapsed": false,
    "ExecuteTime": {
     "end_time": "2024-09-11T16:59:41.590854600Z",
     "start_time": "2024-09-11T16:59:41.450419800Z"
    }
   },
   "id": "745cf40382cc0d89"
  },
  {
   "cell_type": "code",
   "execution_count": 43,
   "outputs": [],
   "source": [
    "# Let's put everything in a function\n",
    "def get_recommendations(user_id):\n",
    "    user = users_original.iloc[user_id]\n",
    "    user_features = user['Preferred Activities'] + ' ' + user['Bucket list destinations Sri Lanka']\n",
    "    user_features = user_features.lower()\n",
    "    print(f\"User features: {user_features}\")\n",
    "    user_features = ' '.join([word for word in user_features.split() if word not in stop_words])\n",
    "    user_features = [user_features]\n",
    "    user_tfidf = tfidf_vectorizer.transform(user_features)\n",
    "    cosine_sim = cosine_similarity(user_tfidf, tfidf_matrix_places)\n",
    "    top_5_places = cosine_sim[0].argsort()[-10:][::-1]\n",
    "    for i in top_5_places:\n",
    "        print(f\"Similarity measure for place {places_original.iloc[i]['name']} is {cosine_sim[0][i]}\")\n",
    "    return places_original.iloc[top_5_places]"
   ],
   "metadata": {
    "collapsed": false,
    "ExecuteTime": {
     "end_time": "2024-09-11T17:08:47.947540300Z",
     "start_time": "2024-09-11T17:08:47.679113200Z"
    }
   },
   "id": "1e51b2e68563c0db"
  },
  {
   "cell_type": "code",
   "execution_count": 44,
   "outputs": [
    {
     "name": "stdout",
     "output_type": "stream",
     "text": [
      "User features: ['cycling', 'historical monuments', 'village homestays'] ['polonnaruwa', 'hatton', 'anuradhapura', 'ella', 'haputale']\n",
      "Similarity measure for place Haputale is 0.25095414880914707\n",
      "Similarity measure for place Anuradhapura is 0.22026950906501558\n",
      "Similarity measure for place Polonnaruwa is 0.21555679987644327\n",
      "Similarity measure for place Polonnaruwa Ancient City is 0.130695473801295\n",
      "Similarity measure for place Pandalawa Ella is 0.10683480083621741\n",
      "Similarity measure for place Watawala Ella is 0.104726295317535\n",
      "Similarity measure for place Polonnaruwa Sivan Kovil is 0.10405751783972599\n",
      "Similarity measure for place Madola Ella is 0.1016145093498129\n",
      "Similarity measure for place Anuradhapura New Town is 0.10127952920262515\n",
      "Similarity measure for place Dhushan ella is 0.09789782806430625\n"
     ]
    },
    {
     "data": {
      "text/plain": "                         name       lat        lng        formatted_address  \\\n78                   Haputale  6.765414  80.952565      Haputale, Sri Lanka   \n23               Anuradhapura  8.311352  80.403651  Anuradhapura, Sri Lanka   \n95                Polonnaruwa  7.940338  81.018798   Polonnaruwa, Sri Lanka   \n9    Polonnaruwa Ancient City  7.945942  81.000329   Polonnaruwa, Sri Lanka   \n301            Pandalawa Ella  6.737742  80.399637     Ratnapura, Sri Lanka   \n299             Watawala Ella  6.628570  80.360297      Niriella, Sri Lanka   \n368   Polonnaruwa Sivan Kovil  7.946288  81.001328   Polonnaruwa, Sri Lanka   \n303               Madola Ella  6.621315  80.481563     Ratnapura, Sri Lanka   \n315     Anuradhapura New Town  8.322765  80.402577  Anuradhapura, Sri Lanka   \n300              Dhushan ella  6.631715  80.354231      Palawela, Sri Lanka   \n\n     rating  user_ratings_total  \\\n78      NaN                 NaN   \n23      NaN                 NaN   \n95      NaN                 NaN   \n9       4.3               878.0   \n301     3.8               130.0   \n299     NaN                 NaN   \n368     4.8               146.0   \n303     4.6                27.0   \n315     4.4               167.0   \n300     4.7                59.0   \n\n                                        latest_reviews  \n78   ['Haputale is a beautiful location with stunni...  \n23   ['Anuradhapura is rich in history, but I found...  \n95   ['Polonnaruwa felt like a missed opportunity. ...  \n9    ['Polonnaruwa Ancient City is a stunning place...  \n301  ['Pandalawa Ella is a hidden gem! The scenic v...  \n299  ['Watawala Ella has stunning views, but I foun...  \n368  ['Visiting Polonnaruwa Sivan Kovil was a fasci...  \n303  ['Madola Ella is a hidden gem! The journey to ...  \n315  ['Anuradhapura New Town is a fascinating blend...  \n300  ['Dhushan Ella is truly a hidden gem! The brea...  ",
      "text/html": "<div>\n<style scoped>\n    .dataframe tbody tr th:only-of-type {\n        vertical-align: middle;\n    }\n\n    .dataframe tbody tr th {\n        vertical-align: top;\n    }\n\n    .dataframe thead th {\n        text-align: right;\n    }\n</style>\n<table border=\"1\" class=\"dataframe\">\n  <thead>\n    <tr style=\"text-align: right;\">\n      <th></th>\n      <th>name</th>\n      <th>lat</th>\n      <th>lng</th>\n      <th>formatted_address</th>\n      <th>rating</th>\n      <th>user_ratings_total</th>\n      <th>latest_reviews</th>\n    </tr>\n  </thead>\n  <tbody>\n    <tr>\n      <th>78</th>\n      <td>Haputale</td>\n      <td>6.765414</td>\n      <td>80.952565</td>\n      <td>Haputale, Sri Lanka</td>\n      <td>NaN</td>\n      <td>NaN</td>\n      <td>['Haputale is a beautiful location with stunni...</td>\n    </tr>\n    <tr>\n      <th>23</th>\n      <td>Anuradhapura</td>\n      <td>8.311352</td>\n      <td>80.403651</td>\n      <td>Anuradhapura, Sri Lanka</td>\n      <td>NaN</td>\n      <td>NaN</td>\n      <td>['Anuradhapura is rich in history, but I found...</td>\n    </tr>\n    <tr>\n      <th>95</th>\n      <td>Polonnaruwa</td>\n      <td>7.940338</td>\n      <td>81.018798</td>\n      <td>Polonnaruwa, Sri Lanka</td>\n      <td>NaN</td>\n      <td>NaN</td>\n      <td>['Polonnaruwa felt like a missed opportunity. ...</td>\n    </tr>\n    <tr>\n      <th>9</th>\n      <td>Polonnaruwa Ancient City</td>\n      <td>7.945942</td>\n      <td>81.000329</td>\n      <td>Polonnaruwa, Sri Lanka</td>\n      <td>4.3</td>\n      <td>878.0</td>\n      <td>['Polonnaruwa Ancient City is a stunning place...</td>\n    </tr>\n    <tr>\n      <th>301</th>\n      <td>Pandalawa Ella</td>\n      <td>6.737742</td>\n      <td>80.399637</td>\n      <td>Ratnapura, Sri Lanka</td>\n      <td>3.8</td>\n      <td>130.0</td>\n      <td>['Pandalawa Ella is a hidden gem! The scenic v...</td>\n    </tr>\n    <tr>\n      <th>299</th>\n      <td>Watawala Ella</td>\n      <td>6.628570</td>\n      <td>80.360297</td>\n      <td>Niriella, Sri Lanka</td>\n      <td>NaN</td>\n      <td>NaN</td>\n      <td>['Watawala Ella has stunning views, but I foun...</td>\n    </tr>\n    <tr>\n      <th>368</th>\n      <td>Polonnaruwa Sivan Kovil</td>\n      <td>7.946288</td>\n      <td>81.001328</td>\n      <td>Polonnaruwa, Sri Lanka</td>\n      <td>4.8</td>\n      <td>146.0</td>\n      <td>['Visiting Polonnaruwa Sivan Kovil was a fasci...</td>\n    </tr>\n    <tr>\n      <th>303</th>\n      <td>Madola Ella</td>\n      <td>6.621315</td>\n      <td>80.481563</td>\n      <td>Ratnapura, Sri Lanka</td>\n      <td>4.6</td>\n      <td>27.0</td>\n      <td>['Madola Ella is a hidden gem! The journey to ...</td>\n    </tr>\n    <tr>\n      <th>315</th>\n      <td>Anuradhapura New Town</td>\n      <td>8.322765</td>\n      <td>80.402577</td>\n      <td>Anuradhapura, Sri Lanka</td>\n      <td>4.4</td>\n      <td>167.0</td>\n      <td>['Anuradhapura New Town is a fascinating blend...</td>\n    </tr>\n    <tr>\n      <th>300</th>\n      <td>Dhushan ella</td>\n      <td>6.631715</td>\n      <td>80.354231</td>\n      <td>Palawela, Sri Lanka</td>\n      <td>4.7</td>\n      <td>59.0</td>\n      <td>['Dhushan Ella is truly a hidden gem! The brea...</td>\n    </tr>\n  </tbody>\n</table>\n</div>"
     },
     "execution_count": 44,
     "metadata": {},
     "output_type": "execute_result"
    }
   ],
   "source": [
    "get_recommendations(0)"
   ],
   "metadata": {
    "collapsed": false,
    "ExecuteTime": {
     "end_time": "2024-09-11T17:08:48.163444300Z",
     "start_time": "2024-09-11T17:08:48.115447400Z"
    }
   },
   "id": "fd800ab2f0698b2b"
  },
  {
   "cell_type": "code",
   "execution_count": 45,
   "outputs": [
    {
     "name": "stdout",
     "output_type": "stream",
     "text": [
      "User features: ['butterfly watching', 'hot springs', 'wildlife viewing'] ['madunagala hot water spring', 'wilpattu national park', 'wasgamuwa national park', 'kanneliya national rain forest reserve', 'horton plains national park']\n",
      "Similarity measure for place Wasgamuwa National Park is 0.42217699168633355\n",
      "Similarity measure for place Wilpattu National Park is 0.3869646190154719\n",
      "Similarity measure for place Madunagala Hot Water Spring is 0.3573878873082388\n",
      "Similarity measure for place Horton Plains National Park is 0.3461344609732651\n",
      "Similarity measure for place Minneriya National Park is 0.34301179991299613\n",
      "Similarity measure for place Kumana National Park is 0.32978276705147347\n",
      "Similarity measure for place Angammedilla National Park is 0.3164453425530894\n",
      "Similarity measure for place Bundala National Park is 0.31123083910751104\n",
      "Similarity measure for place Bundala National Park is 0.30537855539068426\n",
      "Similarity measure for place Somawathiya National Park is 0.29754253386817364\n"
     ]
    },
    {
     "data": {
      "text/plain": "                            name       lat        lng  \\\n14       Wasgamuwa National Park  7.753242  80.920774   \n13        Wilpattu National Park  8.458182  80.051831   \n124  Madunagala Hot Water Spring  6.253630  80.981711   \n17   Horton Plains National Park  6.809446  80.802333   \n15       Minneriya National Park  8.015644  80.844670   \n18          Kumana National Park  6.572960  81.669253   \n269   Angammedilla National Park  7.925445  80.920774   \n19         Bundala National Park  6.199086  81.210493   \n405        Bundala National Park  6.193822  81.187854   \n271    Somawathiya National Park  8.169256  81.207816   \n\n              formatted_address  rating  user_ratings_total  \\\n14        Nuwaragala, Sri Lanka     4.3               963.0   \n13                    Sri Lanka     4.7              2708.0   \n124                   Sri Lanka     4.6              1117.0   \n17                    Sri Lanka     4.7              8564.0   \n15                    Sri Lanka     4.6              1293.0   \n18            Okanda, Sri Lanka     4.5               595.0   \n269       Diyabeduma, Sri Lanka     4.1               287.0   \n19          bundala , Sri Lanka     4.3               654.0   \n405        Weligatta, Sri Lanka     4.3               561.0   \n271  Gangapahalavila, Sri Lanka     4.3               719.0   \n\n                                        latest_reviews  \n14   ['Wasgamuwa National Park exceeded my expectat...  \n13   ['Wilpattu National Park is a fantastic destin...  \n124  ['Madunagala Hot Water Spring is a hidden gem!...  \n17   [\\n\"Horton Plains National Park was an incredi...  \n15   ['Minneriya National Park is a must-visit for ...  \n18   ['Kumana National Park is an absolute delight ...  \n269  ['Angammedilla National Park is a hidden gem! ...  \n19   ['Bundala National Park is a hidden gem for na...  \n405  ['Bundala National Park is a hidden gem! I arr...  \n271  ['Somawathiya National Park is a hidden gem in...  ",
      "text/html": "<div>\n<style scoped>\n    .dataframe tbody tr th:only-of-type {\n        vertical-align: middle;\n    }\n\n    .dataframe tbody tr th {\n        vertical-align: top;\n    }\n\n    .dataframe thead th {\n        text-align: right;\n    }\n</style>\n<table border=\"1\" class=\"dataframe\">\n  <thead>\n    <tr style=\"text-align: right;\">\n      <th></th>\n      <th>name</th>\n      <th>lat</th>\n      <th>lng</th>\n      <th>formatted_address</th>\n      <th>rating</th>\n      <th>user_ratings_total</th>\n      <th>latest_reviews</th>\n    </tr>\n  </thead>\n  <tbody>\n    <tr>\n      <th>14</th>\n      <td>Wasgamuwa National Park</td>\n      <td>7.753242</td>\n      <td>80.920774</td>\n      <td>Nuwaragala, Sri Lanka</td>\n      <td>4.3</td>\n      <td>963.0</td>\n      <td>['Wasgamuwa National Park exceeded my expectat...</td>\n    </tr>\n    <tr>\n      <th>13</th>\n      <td>Wilpattu National Park</td>\n      <td>8.458182</td>\n      <td>80.051831</td>\n      <td>Sri Lanka</td>\n      <td>4.7</td>\n      <td>2708.0</td>\n      <td>['Wilpattu National Park is a fantastic destin...</td>\n    </tr>\n    <tr>\n      <th>124</th>\n      <td>Madunagala Hot Water Spring</td>\n      <td>6.253630</td>\n      <td>80.981711</td>\n      <td>Sri Lanka</td>\n      <td>4.6</td>\n      <td>1117.0</td>\n      <td>['Madunagala Hot Water Spring is a hidden gem!...</td>\n    </tr>\n    <tr>\n      <th>17</th>\n      <td>Horton Plains National Park</td>\n      <td>6.809446</td>\n      <td>80.802333</td>\n      <td>Sri Lanka</td>\n      <td>4.7</td>\n      <td>8564.0</td>\n      <td>[\\n\"Horton Plains National Park was an incredi...</td>\n    </tr>\n    <tr>\n      <th>15</th>\n      <td>Minneriya National Park</td>\n      <td>8.015644</td>\n      <td>80.844670</td>\n      <td>Sri Lanka</td>\n      <td>4.6</td>\n      <td>1293.0</td>\n      <td>['Minneriya National Park is a must-visit for ...</td>\n    </tr>\n    <tr>\n      <th>18</th>\n      <td>Kumana National Park</td>\n      <td>6.572960</td>\n      <td>81.669253</td>\n      <td>Okanda, Sri Lanka</td>\n      <td>4.5</td>\n      <td>595.0</td>\n      <td>['Kumana National Park is an absolute delight ...</td>\n    </tr>\n    <tr>\n      <th>269</th>\n      <td>Angammedilla National Park</td>\n      <td>7.925445</td>\n      <td>80.920774</td>\n      <td>Diyabeduma, Sri Lanka</td>\n      <td>4.1</td>\n      <td>287.0</td>\n      <td>['Angammedilla National Park is a hidden gem! ...</td>\n    </tr>\n    <tr>\n      <th>19</th>\n      <td>Bundala National Park</td>\n      <td>6.199086</td>\n      <td>81.210493</td>\n      <td>bundala , Sri Lanka</td>\n      <td>4.3</td>\n      <td>654.0</td>\n      <td>['Bundala National Park is a hidden gem for na...</td>\n    </tr>\n    <tr>\n      <th>405</th>\n      <td>Bundala National Park</td>\n      <td>6.193822</td>\n      <td>81.187854</td>\n      <td>Weligatta, Sri Lanka</td>\n      <td>4.3</td>\n      <td>561.0</td>\n      <td>['Bundala National Park is a hidden gem! I arr...</td>\n    </tr>\n    <tr>\n      <th>271</th>\n      <td>Somawathiya National Park</td>\n      <td>8.169256</td>\n      <td>81.207816</td>\n      <td>Gangapahalavila, Sri Lanka</td>\n      <td>4.3</td>\n      <td>719.0</td>\n      <td>['Somawathiya National Park is a hidden gem in...</td>\n    </tr>\n  </tbody>\n</table>\n</div>"
     },
     "execution_count": 45,
     "metadata": {},
     "output_type": "execute_result"
    }
   ],
   "source": [
    "get_recommendations(1)"
   ],
   "metadata": {
    "collapsed": false,
    "ExecuteTime": {
     "end_time": "2024-09-11T17:08:49.540826700Z",
     "start_time": "2024-09-11T17:08:49.127555600Z"
    }
   },
   "id": "b40cdb948c84d9b4"
  },
  {
   "cell_type": "code",
   "execution_count": 46,
   "outputs": [
    {
     "name": "stdout",
     "output_type": "stream",
     "text": [
      "User features: ['sea cruises', 'themed parks', 'craft workshops'] ['mirissa beach', 'negombo lagoon', 'batadombalena craft centre', 'jungle beach', 'bentota']\n",
      "Similarity measure for place Jungle Beach is 0.23940425750008598\n",
      "Similarity measure for place Mirissa Beach is 0.23878115548554824\n",
      "Similarity measure for place Negombo Lagoon is 0.22992901042987984\n",
      "Similarity measure for place Cinnamon Bentota Beach is 0.22470662605329386\n",
      "Similarity measure for place Mirissa is 0.19672299681987143\n",
      "Similarity measure for place Negombo is 0.17656068995806073\n",
      "Similarity measure for place Unawatuna Beach is 0.15706429199616434\n",
      "Similarity measure for place Ventura Beach is 0.14675559085965212\n",
      "Similarity measure for place Nilaveli Beach is 0.14618210159899167\n",
      "Similarity measure for place Hambantota Beach is 0.1459167283640829\n"
     ]
    },
    {
     "data": {
      "text/plain": "                       name       lat        lng           formatted_address  \\\n33             Jungle Beach  6.018694  80.239410     Jungle Beach, Sri Lanka   \n1             Mirissa Beach  5.944703  80.459161          Mirissa, Sri Lanka   \n45           Negombo Lagoon  7.158004  79.846480   Negombo Lagoon, Sri Lanka   \n66   Cinnamon Bentota Beach  6.424905  79.996875         Bentota , Sri Lanka   \n46                  Mirissa  5.948262  80.471587          Mirissa, Sri Lanka   \n60                  Negombo  7.205521  79.851256          Negombo, Sri Lanka   \n6           Unawatuna Beach  6.009686  80.248424  Unawatuna Beach, Sri Lanka   \n402           Ventura Beach  6.423471  79.995320    Ventura Beach, Sri Lanka   \n404          Nilaveli Beach  8.700307  81.192050   Nilaveli Beach, Sri Lanka   \n201        Hambantota Beach  6.127993  81.127204       Hambantota, Sri Lanka   \n\n     rating  user_ratings_total  \\\n33      4.6              2395.0   \n1       4.6              1748.0   \n45      4.5               268.0   \n66      4.9              3929.0   \n46      NaN                 NaN   \n60      NaN                 NaN   \n6       4.8              1868.0   \n402     4.4               502.0   \n404     4.5              1247.0   \n201     4.3               168.0   \n\n                                        latest_reviews  \n33   ['Jungle Beach is a hidden gem! The trek to ge...  \n1    ['Mirissa Beach is truly a gem on Sri LankaÃ¢Â...  \n45   ['Negombo Lagoon was a delightful escape! We t...  \n66   ['Cinnamon Bentota Beach was a delightful esca...  \n46   ['I recently went on a sea cruise in Mirissa, ...  \n60   ['Negombo was a bit of a letdown for me. I exp...  \n6    ['Unawatuna Beach is a slice of paradise! The ...  \n402  ['Ventura Beach is a hidden gem! The golden sa...  \n404  ['Nilaveli Beach is a beautiful escape with st...  \n201  ['Hambantota Beach truly exceeded my expectati...  ",
      "text/html": "<div>\n<style scoped>\n    .dataframe tbody tr th:only-of-type {\n        vertical-align: middle;\n    }\n\n    .dataframe tbody tr th {\n        vertical-align: top;\n    }\n\n    .dataframe thead th {\n        text-align: right;\n    }\n</style>\n<table border=\"1\" class=\"dataframe\">\n  <thead>\n    <tr style=\"text-align: right;\">\n      <th></th>\n      <th>name</th>\n      <th>lat</th>\n      <th>lng</th>\n      <th>formatted_address</th>\n      <th>rating</th>\n      <th>user_ratings_total</th>\n      <th>latest_reviews</th>\n    </tr>\n  </thead>\n  <tbody>\n    <tr>\n      <th>33</th>\n      <td>Jungle Beach</td>\n      <td>6.018694</td>\n      <td>80.239410</td>\n      <td>Jungle Beach, Sri Lanka</td>\n      <td>4.6</td>\n      <td>2395.0</td>\n      <td>['Jungle Beach is a hidden gem! The trek to ge...</td>\n    </tr>\n    <tr>\n      <th>1</th>\n      <td>Mirissa Beach</td>\n      <td>5.944703</td>\n      <td>80.459161</td>\n      <td>Mirissa, Sri Lanka</td>\n      <td>4.6</td>\n      <td>1748.0</td>\n      <td>['Mirissa Beach is truly a gem on Sri LankaÃ¢Â...</td>\n    </tr>\n    <tr>\n      <th>45</th>\n      <td>Negombo Lagoon</td>\n      <td>7.158004</td>\n      <td>79.846480</td>\n      <td>Negombo Lagoon, Sri Lanka</td>\n      <td>4.5</td>\n      <td>268.0</td>\n      <td>['Negombo Lagoon was a delightful escape! We t...</td>\n    </tr>\n    <tr>\n      <th>66</th>\n      <td>Cinnamon Bentota Beach</td>\n      <td>6.424905</td>\n      <td>79.996875</td>\n      <td>Bentota , Sri Lanka</td>\n      <td>4.9</td>\n      <td>3929.0</td>\n      <td>['Cinnamon Bentota Beach was a delightful esca...</td>\n    </tr>\n    <tr>\n      <th>46</th>\n      <td>Mirissa</td>\n      <td>5.948262</td>\n      <td>80.471587</td>\n      <td>Mirissa, Sri Lanka</td>\n      <td>NaN</td>\n      <td>NaN</td>\n      <td>['I recently went on a sea cruise in Mirissa, ...</td>\n    </tr>\n    <tr>\n      <th>60</th>\n      <td>Negombo</td>\n      <td>7.205521</td>\n      <td>79.851256</td>\n      <td>Negombo, Sri Lanka</td>\n      <td>NaN</td>\n      <td>NaN</td>\n      <td>['Negombo was a bit of a letdown for me. I exp...</td>\n    </tr>\n    <tr>\n      <th>6</th>\n      <td>Unawatuna Beach</td>\n      <td>6.009686</td>\n      <td>80.248424</td>\n      <td>Unawatuna Beach, Sri Lanka</td>\n      <td>4.8</td>\n      <td>1868.0</td>\n      <td>['Unawatuna Beach is a slice of paradise! The ...</td>\n    </tr>\n    <tr>\n      <th>402</th>\n      <td>Ventura Beach</td>\n      <td>6.423471</td>\n      <td>79.995320</td>\n      <td>Ventura Beach, Sri Lanka</td>\n      <td>4.4</td>\n      <td>502.0</td>\n      <td>['Ventura Beach is a hidden gem! The golden sa...</td>\n    </tr>\n    <tr>\n      <th>404</th>\n      <td>Nilaveli Beach</td>\n      <td>8.700307</td>\n      <td>81.192050</td>\n      <td>Nilaveli Beach, Sri Lanka</td>\n      <td>4.5</td>\n      <td>1247.0</td>\n      <td>['Nilaveli Beach is a beautiful escape with st...</td>\n    </tr>\n    <tr>\n      <th>201</th>\n      <td>Hambantota Beach</td>\n      <td>6.127993</td>\n      <td>81.127204</td>\n      <td>Hambantota, Sri Lanka</td>\n      <td>4.3</td>\n      <td>168.0</td>\n      <td>['Hambantota Beach truly exceeded my expectati...</td>\n    </tr>\n  </tbody>\n</table>\n</div>"
     },
     "execution_count": 46,
     "metadata": {},
     "output_type": "execute_result"
    }
   ],
   "source": [
    "get_recommendations(2)"
   ],
   "metadata": {
    "collapsed": false,
    "ExecuteTime": {
     "end_time": "2024-09-11T17:08:49.971157100Z",
     "start_time": "2024-09-11T17:08:49.788881900Z"
    }
   },
   "id": "cf2083e6c81f2c7d"
  },
  {
   "cell_type": "code",
   "execution_count": 47,
   "outputs": [
    {
     "name": "stdout",
     "output_type": "stream",
     "text": [
      "User features: ['fishing', 'hot springs', 'sailing'] ['maha oya hot water springs', 'colombo port city', 'negombo lagoon', 'trincomalee harbour', 'kalpitiya']\n",
      "Similarity measure for place Maha Oya Hot Water Springs is 0.5415929165030327\n",
      "Similarity measure for place Kanniya Hot Water Springs is 0.37361605788529995\n",
      "Similarity measure for place Madunagala Hot Water Spring is 0.3461706350997142\n",
      "Similarity measure for place Madunagala Hot Water Spring is 0.31899562372911183\n",
      "Similarity measure for place Trincomalee Harbour is 0.2777921233679142\n",
      "Similarity measure for place Port City Colombo is 0.2584448220691907\n",
      "Similarity measure for place Negombo Lagoon is 0.2544462471037996\n",
      "Similarity measure for place Kalpitiya Lagoon is 0.24078702036118818\n",
      "Similarity measure for place Negombo is 0.22085738923772902\n",
      "Similarity measure for place Trincomalee is 0.17091420314550565\n"
     ]
    },
    {
     "data": {
      "text/plain": "                            name       lat        lng  \\\n123   Maha Oya Hot Water Springs  7.552181  81.353041   \n122    Kanniya Hot Water Springs  8.604498  81.171338   \n399  Madunagala Hot Water Spring  6.253630  80.981711   \n124  Madunagala Hot Water Spring  6.253630  80.981711   \n44           Trincomalee Harbour  8.533333  81.250000   \n47             Port City Colombo  6.937804  79.836843   \n45                Negombo Lagoon  7.158004  79.846480   \n74              Kalpitiya Lagoon  8.241272  79.744194   \n60                       Negombo  7.205521  79.851256   \n61                   Trincomalee  8.587364  81.215212   \n\n                         formatted_address  rating  user_ratings_total  \\\n123  Maha Oya Hot Water Springs, Sri Lanka     4.3               180.0   \n122                 Trincomalee, Sri Lanka     4.3              2538.0   \n399                              Sri Lanka     4.5              1151.0   \n124                              Sri Lanka     4.6              1117.0   \n44          Trincomalee Harbour, Sri Lanka     4.2               284.0   \n47            Port City Colombo, Sri Lanka     NaN                 NaN   \n45               Negombo Lagoon, Sri Lanka     4.5               268.0   \n74             Kalpitiya Lagoon, Sri Lanka     4.8               130.0   \n60                      Negombo, Sri Lanka     NaN                 NaN   \n61                  Trincomalee, Sri Lanka     NaN                 NaN   \n\n                                        latest_reviews  \n123  ['Maha Oya Hot Water Springs is a hidden gem! ...  \n122  ['Kanniya Hot Water Springs is a delightful sp...  \n399  ['Madunagala Hot Water Spring is a hidden gem!...  \n124  ['Madunagala Hot Water Spring is a hidden gem!...  \n44   ['Trincomalee Harbour is a stunning natural wo...  \n47   ['Port City Colombo has a lot of potential, bu...  \n45   ['Negombo Lagoon was a delightful escape! We t...  \n74   ['Kalpitiya Lagoon is a fantastic destination ...  \n60   ['Negombo was a bit of a letdown for me. I exp...  \n61   [\\n\"I had high expectations for Trincomalee, b...  ",
      "text/html": "<div>\n<style scoped>\n    .dataframe tbody tr th:only-of-type {\n        vertical-align: middle;\n    }\n\n    .dataframe tbody tr th {\n        vertical-align: top;\n    }\n\n    .dataframe thead th {\n        text-align: right;\n    }\n</style>\n<table border=\"1\" class=\"dataframe\">\n  <thead>\n    <tr style=\"text-align: right;\">\n      <th></th>\n      <th>name</th>\n      <th>lat</th>\n      <th>lng</th>\n      <th>formatted_address</th>\n      <th>rating</th>\n      <th>user_ratings_total</th>\n      <th>latest_reviews</th>\n    </tr>\n  </thead>\n  <tbody>\n    <tr>\n      <th>123</th>\n      <td>Maha Oya Hot Water Springs</td>\n      <td>7.552181</td>\n      <td>81.353041</td>\n      <td>Maha Oya Hot Water Springs, Sri Lanka</td>\n      <td>4.3</td>\n      <td>180.0</td>\n      <td>['Maha Oya Hot Water Springs is a hidden gem! ...</td>\n    </tr>\n    <tr>\n      <th>122</th>\n      <td>Kanniya Hot Water Springs</td>\n      <td>8.604498</td>\n      <td>81.171338</td>\n      <td>Trincomalee, Sri Lanka</td>\n      <td>4.3</td>\n      <td>2538.0</td>\n      <td>['Kanniya Hot Water Springs is a delightful sp...</td>\n    </tr>\n    <tr>\n      <th>399</th>\n      <td>Madunagala Hot Water Spring</td>\n      <td>6.253630</td>\n      <td>80.981711</td>\n      <td>Sri Lanka</td>\n      <td>4.5</td>\n      <td>1151.0</td>\n      <td>['Madunagala Hot Water Spring is a hidden gem!...</td>\n    </tr>\n    <tr>\n      <th>124</th>\n      <td>Madunagala Hot Water Spring</td>\n      <td>6.253630</td>\n      <td>80.981711</td>\n      <td>Sri Lanka</td>\n      <td>4.6</td>\n      <td>1117.0</td>\n      <td>['Madunagala Hot Water Spring is a hidden gem!...</td>\n    </tr>\n    <tr>\n      <th>44</th>\n      <td>Trincomalee Harbour</td>\n      <td>8.533333</td>\n      <td>81.250000</td>\n      <td>Trincomalee Harbour, Sri Lanka</td>\n      <td>4.2</td>\n      <td>284.0</td>\n      <td>['Trincomalee Harbour is a stunning natural wo...</td>\n    </tr>\n    <tr>\n      <th>47</th>\n      <td>Port City Colombo</td>\n      <td>6.937804</td>\n      <td>79.836843</td>\n      <td>Port City Colombo, Sri Lanka</td>\n      <td>NaN</td>\n      <td>NaN</td>\n      <td>['Port City Colombo has a lot of potential, bu...</td>\n    </tr>\n    <tr>\n      <th>45</th>\n      <td>Negombo Lagoon</td>\n      <td>7.158004</td>\n      <td>79.846480</td>\n      <td>Negombo Lagoon, Sri Lanka</td>\n      <td>4.5</td>\n      <td>268.0</td>\n      <td>['Negombo Lagoon was a delightful escape! We t...</td>\n    </tr>\n    <tr>\n      <th>74</th>\n      <td>Kalpitiya Lagoon</td>\n      <td>8.241272</td>\n      <td>79.744194</td>\n      <td>Kalpitiya Lagoon, Sri Lanka</td>\n      <td>4.8</td>\n      <td>130.0</td>\n      <td>['Kalpitiya Lagoon is a fantastic destination ...</td>\n    </tr>\n    <tr>\n      <th>60</th>\n      <td>Negombo</td>\n      <td>7.205521</td>\n      <td>79.851256</td>\n      <td>Negombo, Sri Lanka</td>\n      <td>NaN</td>\n      <td>NaN</td>\n      <td>['Negombo was a bit of a letdown for me. I exp...</td>\n    </tr>\n    <tr>\n      <th>61</th>\n      <td>Trincomalee</td>\n      <td>8.587364</td>\n      <td>81.215212</td>\n      <td>Trincomalee, Sri Lanka</td>\n      <td>NaN</td>\n      <td>NaN</td>\n      <td>[\\n\"I had high expectations for Trincomalee, b...</td>\n    </tr>\n  </tbody>\n</table>\n</div>"
     },
     "execution_count": 47,
     "metadata": {},
     "output_type": "execute_result"
    }
   ],
   "source": [
    "get_recommendations(3)"
   ],
   "metadata": {
    "collapsed": false,
    "ExecuteTime": {
     "end_time": "2024-09-11T17:08:50.569948700Z",
     "start_time": "2024-09-11T17:08:50.428818500Z"
    }
   },
   "id": "2074af2f1d6d7a3a"
  },
  {
   "cell_type": "code",
   "execution_count": 48,
   "outputs": [
    {
     "name": "stdout",
     "output_type": "stream",
     "text": [
      "User features: ['history tours', 'sailing', 'literary tours'] ['negombo lagoon', 'colombo port city', 'galle dutch fort', 'sigiriya', 'jaffna public library']\n",
      "Similarity measure for place Jaffna Public Library is 0.3588669983239066\n",
      "Similarity measure for place Dutch Fort - Jaffna is 0.28462977106583043\n",
      "Similarity measure for place Port City Colombo is 0.27105941996388255\n",
      "Similarity measure for place Galle Dutch Fort is 0.2635844334163427\n",
      "Similarity measure for place Negombo Lagoon is 0.25764445219600984\n",
      "Similarity measure for place Galle Fort Attractions and Jumpers Sri Lanka is 0.23123144870337575\n",
      "Similarity measure for place Batticaloa Dutch Fort is 0.21183523203991592\n",
      "Similarity measure for place Jaffna Lagoon Area is 0.20215521735626207\n",
      "Similarity measure for place Mannar Dutch Fort is 0.20204388201283052\n",
      "Similarity measure for place Negombo is 0.2008652892925052\n"
     ]
    },
    {
     "data": {
      "text/plain": "                                             name       lat        lng  \\\n53                          Jaffna Public Library  9.662128  80.011731   \n211                           Dutch Fort - Jaffna  9.662031  80.008425   \n47                              Port City Colombo  6.937804  79.836843   \n8                                Galle Dutch Fort  6.030459  80.215021   \n45                                 Negombo Lagoon  7.158004  79.846480   \n192  Galle Fort Attractions and Jumpers Sri Lanka  6.030464  80.215024   \n165                         Batticaloa Dutch Fort  7.711813  81.702124   \n212                            Jaffna Lagoon Area  9.657609  80.004428   \n242                             Mannar Dutch Fort  8.975856  79.916996   \n60                                        Negombo  7.205521  79.851256   \n\n                     formatted_address  rating  user_ratings_total  \\\n53                   Jaffna, Sri Lanka     4.9               575.0   \n211                  Jaffna, Sri Lanka     4.7              3672.0   \n47        Port City Colombo, Sri Lanka     NaN                 NaN   \n8               Galle 80000, Sri Lanka     4.6             16934.0   \n45           Negombo Lagoon, Sri Lanka     4.5               268.0   \n192                   Galle, Sri Lanka     4.7              1328.0   \n165              Batticaloa, Sri Lanka     4.0              1189.0   \n212  Jaffna-Pannai-Kayts Rd, Sri Lanka     3.9                44.0   \n242                  Mannar, Sri Lanka     4.4               817.0   \n60                  Negombo, Sri Lanka     NaN                 NaN   \n\n                                        latest_reviews  \n53   ['The Jaffna Public Library is a beautiful hom...  \n211  ['The Dutch Fort in Jaffna is a splendid testa...  \n47   ['Port City Colombo has a lot of potential, bu...  \n8    [\"Galle Dutch Fort is a stunning blend of hist...  \n45   ['Negombo Lagoon was a delightful escape! We t...  \n192  ['Galle Fort is an enchanting blend of history...  \n165  ['The Batticaloa Dutch Fort is a hidden gem! I...  \n212  ['Visiting the Jaffna Lagoon Area was a deligh...  \n242  ['Visiting Mannar Dutch Fort was a delightful ...  \n60   ['Negombo was a bit of a letdown for me. I exp...  ",
      "text/html": "<div>\n<style scoped>\n    .dataframe tbody tr th:only-of-type {\n        vertical-align: middle;\n    }\n\n    .dataframe tbody tr th {\n        vertical-align: top;\n    }\n\n    .dataframe thead th {\n        text-align: right;\n    }\n</style>\n<table border=\"1\" class=\"dataframe\">\n  <thead>\n    <tr style=\"text-align: right;\">\n      <th></th>\n      <th>name</th>\n      <th>lat</th>\n      <th>lng</th>\n      <th>formatted_address</th>\n      <th>rating</th>\n      <th>user_ratings_total</th>\n      <th>latest_reviews</th>\n    </tr>\n  </thead>\n  <tbody>\n    <tr>\n      <th>53</th>\n      <td>Jaffna Public Library</td>\n      <td>9.662128</td>\n      <td>80.011731</td>\n      <td>Jaffna, Sri Lanka</td>\n      <td>4.9</td>\n      <td>575.0</td>\n      <td>['The Jaffna Public Library is a beautiful hom...</td>\n    </tr>\n    <tr>\n      <th>211</th>\n      <td>Dutch Fort - Jaffna</td>\n      <td>9.662031</td>\n      <td>80.008425</td>\n      <td>Jaffna, Sri Lanka</td>\n      <td>4.7</td>\n      <td>3672.0</td>\n      <td>['The Dutch Fort in Jaffna is a splendid testa...</td>\n    </tr>\n    <tr>\n      <th>47</th>\n      <td>Port City Colombo</td>\n      <td>6.937804</td>\n      <td>79.836843</td>\n      <td>Port City Colombo, Sri Lanka</td>\n      <td>NaN</td>\n      <td>NaN</td>\n      <td>['Port City Colombo has a lot of potential, bu...</td>\n    </tr>\n    <tr>\n      <th>8</th>\n      <td>Galle Dutch Fort</td>\n      <td>6.030459</td>\n      <td>80.215021</td>\n      <td>Galle 80000, Sri Lanka</td>\n      <td>4.6</td>\n      <td>16934.0</td>\n      <td>[\"Galle Dutch Fort is a stunning blend of hist...</td>\n    </tr>\n    <tr>\n      <th>45</th>\n      <td>Negombo Lagoon</td>\n      <td>7.158004</td>\n      <td>79.846480</td>\n      <td>Negombo Lagoon, Sri Lanka</td>\n      <td>4.5</td>\n      <td>268.0</td>\n      <td>['Negombo Lagoon was a delightful escape! We t...</td>\n    </tr>\n    <tr>\n      <th>192</th>\n      <td>Galle Fort Attractions and Jumpers Sri Lanka</td>\n      <td>6.030464</td>\n      <td>80.215024</td>\n      <td>Galle, Sri Lanka</td>\n      <td>4.7</td>\n      <td>1328.0</td>\n      <td>['Galle Fort is an enchanting blend of history...</td>\n    </tr>\n    <tr>\n      <th>165</th>\n      <td>Batticaloa Dutch Fort</td>\n      <td>7.711813</td>\n      <td>81.702124</td>\n      <td>Batticaloa, Sri Lanka</td>\n      <td>4.0</td>\n      <td>1189.0</td>\n      <td>['The Batticaloa Dutch Fort is a hidden gem! I...</td>\n    </tr>\n    <tr>\n      <th>212</th>\n      <td>Jaffna Lagoon Area</td>\n      <td>9.657609</td>\n      <td>80.004428</td>\n      <td>Jaffna-Pannai-Kayts Rd, Sri Lanka</td>\n      <td>3.9</td>\n      <td>44.0</td>\n      <td>['Visiting the Jaffna Lagoon Area was a deligh...</td>\n    </tr>\n    <tr>\n      <th>242</th>\n      <td>Mannar Dutch Fort</td>\n      <td>8.975856</td>\n      <td>79.916996</td>\n      <td>Mannar, Sri Lanka</td>\n      <td>4.4</td>\n      <td>817.0</td>\n      <td>['Visiting Mannar Dutch Fort was a delightful ...</td>\n    </tr>\n    <tr>\n      <th>60</th>\n      <td>Negombo</td>\n      <td>7.205521</td>\n      <td>79.851256</td>\n      <td>Negombo, Sri Lanka</td>\n      <td>NaN</td>\n      <td>NaN</td>\n      <td>['Negombo was a bit of a letdown for me. I exp...</td>\n    </tr>\n  </tbody>\n</table>\n</div>"
     },
     "execution_count": 48,
     "metadata": {},
     "output_type": "execute_result"
    }
   ],
   "source": [
    "get_recommendations(4)"
   ],
   "metadata": {
    "collapsed": false,
    "ExecuteTime": {
     "end_time": "2024-09-11T17:08:51.104307800Z",
     "start_time": "2024-09-11T17:08:51.002239300Z"
    }
   },
   "id": "587290137c96386a"
  },
  {
   "cell_type": "code",
   "execution_count": 49,
   "outputs": [
    {
     "name": "stdout",
     "output_type": "stream",
     "text": [
      "User features: ['public art installations', 'temple pilgrimages', 'architecture tours'] ['colombo', 'sigiriya', 'mihintale', 'galle dutch fort', 'dambulla royal cave temple and golden temple']\n",
      "Similarity measure for place Dambulla Royal Cave Temple and Golden Temple is 0.4433799300637321\n",
      "Similarity measure for place Dambulla Royal Cave Temple and Golden Temple is 0.43945756214439763\n",
      "Similarity measure for place Korathota Royal Temple is 0.2636998308655849\n",
      "Similarity measure for place Manelwatta Temple is 0.23662122701424543\n",
      "Similarity measure for place Galle Dutch Fort is 0.22582333846677008\n",
      "Similarity measure for place Galle Fort Attractions and Jumpers Sri Lanka is 0.22088259405728214\n",
      "Similarity measure for place Dutch Fort - Jaffna is 0.21199954256128484\n",
      "Similarity measure for place Gangaramaya Temple is 0.20586414124893798\n",
      "Similarity measure for place ParappudÃƒÂ…Ã‚Â«va Island Temple is 0.20168793411633007\n",
      "Similarity measure for place Deliwala Kota Vehera Temple is 0.19768676841471805\n"
     ]
    },
    {
     "data": {
      "text/plain": "                                             name       lat        lng  \\\n22   Dambulla Royal Cave Temple and Golden Temple  7.854914  80.650570   \n395  Dambulla Royal Cave Temple and Golden Temple  7.854914  80.650570   \n330                        Korathota Royal Temple  6.915038  80.002135   \n342                             Manelwatta Temple  6.944921  79.951361   \n8                                Galle Dutch Fort  6.030459  80.215021   \n192  Galle Fort Attractions and Jumpers Sri Lanka  6.030464  80.215024   \n211                           Dutch Fort - Jaffna  9.662031  80.008425   \n54                             Gangaramaya Temple  6.916714  79.856646   \n183              ParappudÃƒÂ…Ã‚Â«va Island Temple  6.111568  80.138342   \n344                   Deliwala Kota Vehera Temple  7.352985  80.378044   \n\n          formatted_address  rating  user_ratings_total  \\\n22      Dambulla, Sri Lanka     4.2             11598.0   \n395     Dambulla, Sri Lanka     4.3             11690.0   \n330               Sri Lanka     4.8              1226.0   \n342               Sri Lanka     4.8              1673.0   \n8    Galle 80000, Sri Lanka     4.6             16934.0   \n192        Galle, Sri Lanka     4.7              1328.0   \n211       Jaffna, Sri Lanka     4.7              3672.0   \n54      Colombo , Sri Lanka     4.5             10671.0   \n183     Rathgama, Sri Lanka     4.5               136.0   \n344  Rambukkana , Sri Lanka     4.8               141.0   \n\n                                        latest_reviews  \n22   ['The Dambulla Royal Cave Temple is a breathta...  \n395  ['Dambulla Royal Cave Temple is a must-visit f...  \n330  ['Korathota Royal Temple is a hidden gem! The ...  \n342  ['Visiting Manelwatta Temple was a serene expe...  \n8    [\"Galle Dutch Fort is a stunning blend of hist...  \n192  ['Galle Fort is an enchanting blend of history...  \n211  ['The Dutch Fort in Jaffna is a splendid testa...  \n54   ['Visiting Gangaramaya Temple was a serene exp...  \n183  ['ParappudÃƒÂ¥va Island Temple is a hidden gem...  \n344  ['Deliwala Kota Vehera Temple is a hidden gem!...  ",
      "text/html": "<div>\n<style scoped>\n    .dataframe tbody tr th:only-of-type {\n        vertical-align: middle;\n    }\n\n    .dataframe tbody tr th {\n        vertical-align: top;\n    }\n\n    .dataframe thead th {\n        text-align: right;\n    }\n</style>\n<table border=\"1\" class=\"dataframe\">\n  <thead>\n    <tr style=\"text-align: right;\">\n      <th></th>\n      <th>name</th>\n      <th>lat</th>\n      <th>lng</th>\n      <th>formatted_address</th>\n      <th>rating</th>\n      <th>user_ratings_total</th>\n      <th>latest_reviews</th>\n    </tr>\n  </thead>\n  <tbody>\n    <tr>\n      <th>22</th>\n      <td>Dambulla Royal Cave Temple and Golden Temple</td>\n      <td>7.854914</td>\n      <td>80.650570</td>\n      <td>Dambulla, Sri Lanka</td>\n      <td>4.2</td>\n      <td>11598.0</td>\n      <td>['The Dambulla Royal Cave Temple is a breathta...</td>\n    </tr>\n    <tr>\n      <th>395</th>\n      <td>Dambulla Royal Cave Temple and Golden Temple</td>\n      <td>7.854914</td>\n      <td>80.650570</td>\n      <td>Dambulla, Sri Lanka</td>\n      <td>4.3</td>\n      <td>11690.0</td>\n      <td>['Dambulla Royal Cave Temple is a must-visit f...</td>\n    </tr>\n    <tr>\n      <th>330</th>\n      <td>Korathota Royal Temple</td>\n      <td>6.915038</td>\n      <td>80.002135</td>\n      <td>Sri Lanka</td>\n      <td>4.8</td>\n      <td>1226.0</td>\n      <td>['Korathota Royal Temple is a hidden gem! The ...</td>\n    </tr>\n    <tr>\n      <th>342</th>\n      <td>Manelwatta Temple</td>\n      <td>6.944921</td>\n      <td>79.951361</td>\n      <td>Sri Lanka</td>\n      <td>4.8</td>\n      <td>1673.0</td>\n      <td>['Visiting Manelwatta Temple was a serene expe...</td>\n    </tr>\n    <tr>\n      <th>8</th>\n      <td>Galle Dutch Fort</td>\n      <td>6.030459</td>\n      <td>80.215021</td>\n      <td>Galle 80000, Sri Lanka</td>\n      <td>4.6</td>\n      <td>16934.0</td>\n      <td>[\"Galle Dutch Fort is a stunning blend of hist...</td>\n    </tr>\n    <tr>\n      <th>192</th>\n      <td>Galle Fort Attractions and Jumpers Sri Lanka</td>\n      <td>6.030464</td>\n      <td>80.215024</td>\n      <td>Galle, Sri Lanka</td>\n      <td>4.7</td>\n      <td>1328.0</td>\n      <td>['Galle Fort is an enchanting blend of history...</td>\n    </tr>\n    <tr>\n      <th>211</th>\n      <td>Dutch Fort - Jaffna</td>\n      <td>9.662031</td>\n      <td>80.008425</td>\n      <td>Jaffna, Sri Lanka</td>\n      <td>4.7</td>\n      <td>3672.0</td>\n      <td>['The Dutch Fort in Jaffna is a splendid testa...</td>\n    </tr>\n    <tr>\n      <th>54</th>\n      <td>Gangaramaya Temple</td>\n      <td>6.916714</td>\n      <td>79.856646</td>\n      <td>Colombo , Sri Lanka</td>\n      <td>4.5</td>\n      <td>10671.0</td>\n      <td>['Visiting Gangaramaya Temple was a serene exp...</td>\n    </tr>\n    <tr>\n      <th>183</th>\n      <td>ParappudÃƒÂ…Ã‚Â«va Island Temple</td>\n      <td>6.111568</td>\n      <td>80.138342</td>\n      <td>Rathgama, Sri Lanka</td>\n      <td>4.5</td>\n      <td>136.0</td>\n      <td>['ParappudÃƒÂ¥va Island Temple is a hidden gem...</td>\n    </tr>\n    <tr>\n      <th>344</th>\n      <td>Deliwala Kota Vehera Temple</td>\n      <td>7.352985</td>\n      <td>80.378044</td>\n      <td>Rambukkana , Sri Lanka</td>\n      <td>4.8</td>\n      <td>141.0</td>\n      <td>['Deliwala Kota Vehera Temple is a hidden gem!...</td>\n    </tr>\n  </tbody>\n</table>\n</div>"
     },
     "execution_count": 49,
     "metadata": {},
     "output_type": "execute_result"
    }
   ],
   "source": [
    "get_recommendations(5)"
   ],
   "metadata": {
    "collapsed": false,
    "ExecuteTime": {
     "end_time": "2024-09-11T17:08:51.736157600Z",
     "start_time": "2024-09-11T17:08:51.673851100Z"
    }
   },
   "id": "271c06e6157ebe96"
  },
  {
   "cell_type": "code",
   "execution_count": 50,
   "outputs": [
    {
     "name": "stdout",
     "output_type": "stream",
     "text": [
      "User features: ['fishing', 'golfing', 'historical monuments'] ['hikkaduwa', 'kalpitiya', 'polonnaruwa', 'negombo lagoon', 'nuwara eliya golf club']\n",
      "Similarity measure for place Nuwara Eliya Golf Club is 0.42719382562100405\n",
      "Similarity measure for place Royal Colombo Golf Club is 0.3310211095986835\n",
      "Similarity measure for place Negombo Lagoon is 0.2831477458131939\n",
      "Similarity measure for place Kalpitiya Lagoon is 0.2777351613397181\n",
      "Similarity measure for place Nuwara Eliya is 0.2543414415958021\n",
      "Similarity measure for place Nuwara Eliya Mountains view point is 0.20925892462633258\n",
      "Similarity measure for place Negombo is 0.2038298196771215\n",
      "Similarity measure for place Hikkaduwa is 0.18994025438907533\n",
      "Similarity measure for place Polonnaruwa is 0.1855786228290465\n",
      "Similarity measure for place Kalpitiya is 0.1697620524785902\n"
     ]
    },
    {
     "data": {
      "text/plain": "                                  name       lat        lng  \\\n64              Nuwara Eliya Golf Club  6.971737  80.765731   \n65             Royal Colombo Golf Club  6.905227  79.884200   \n45                      Negombo Lagoon  7.158004  79.846480   \n74                    Kalpitiya Lagoon  8.241272  79.744194   \n77                        Nuwara Eliya  6.949717  80.789107   \n222  Nuwara Eliya Mountains view point  6.983455  80.750476   \n60                             Negombo  7.205521  79.851256   \n76                           Hikkaduwa  6.139468  80.106286   \n95                         Polonnaruwa  7.940338  81.018798   \n59                           Kalpitiya  8.229528  79.759614   \n\n               formatted_address  rating  user_ratings_total  \\\n64      Nuwara Eliya , Sri Lanka     4.1              1129.0   \n65            Colombo, Sri Lanka     4.4              1945.0   \n45     Negombo Lagoon, Sri Lanka     4.5               268.0   \n74   Kalpitiya Lagoon, Sri Lanka     4.8               130.0   \n77       Nuwara Eliya, Sri Lanka     NaN                 NaN   \n222      Nuwara Eliya, Sri Lanka     4.0               163.0   \n60            Negombo, Sri Lanka     NaN                 NaN   \n76          Hikkaduwa, Sri Lanka     NaN                 NaN   \n95        Polonnaruwa, Sri Lanka     NaN                 NaN   \n59          Kalpitiya, Sri Lanka     NaN                 NaN   \n\n                                        latest_reviews  \n64   ['Nuwara Eliya Golf Club offers a unique golfi...  \n65   ['The Royal Colombo Golf Club is a true oasis ...  \n45   ['Negombo Lagoon was a delightful escape! We t...  \n74   ['Kalpitiya Lagoon is a fantastic destination ...  \n77   ['Nuwara Eliya is a bit overrated for its char...  \n222  ['The Nuwara Eliya Mountains viewpoint is trul...  \n60   ['Negombo was a bit of a letdown for me. I exp...  \n76   ['Hikkaduwa was quite disappointing for a beac...  \n95   ['Polonnaruwa felt like a missed opportunity. ...  \n59   ['Kalpitiya has beautiful scenery, but I was d...  ",
      "text/html": "<div>\n<style scoped>\n    .dataframe tbody tr th:only-of-type {\n        vertical-align: middle;\n    }\n\n    .dataframe tbody tr th {\n        vertical-align: top;\n    }\n\n    .dataframe thead th {\n        text-align: right;\n    }\n</style>\n<table border=\"1\" class=\"dataframe\">\n  <thead>\n    <tr style=\"text-align: right;\">\n      <th></th>\n      <th>name</th>\n      <th>lat</th>\n      <th>lng</th>\n      <th>formatted_address</th>\n      <th>rating</th>\n      <th>user_ratings_total</th>\n      <th>latest_reviews</th>\n    </tr>\n  </thead>\n  <tbody>\n    <tr>\n      <th>64</th>\n      <td>Nuwara Eliya Golf Club</td>\n      <td>6.971737</td>\n      <td>80.765731</td>\n      <td>Nuwara Eliya , Sri Lanka</td>\n      <td>4.1</td>\n      <td>1129.0</td>\n      <td>['Nuwara Eliya Golf Club offers a unique golfi...</td>\n    </tr>\n    <tr>\n      <th>65</th>\n      <td>Royal Colombo Golf Club</td>\n      <td>6.905227</td>\n      <td>79.884200</td>\n      <td>Colombo, Sri Lanka</td>\n      <td>4.4</td>\n      <td>1945.0</td>\n      <td>['The Royal Colombo Golf Club is a true oasis ...</td>\n    </tr>\n    <tr>\n      <th>45</th>\n      <td>Negombo Lagoon</td>\n      <td>7.158004</td>\n      <td>79.846480</td>\n      <td>Negombo Lagoon, Sri Lanka</td>\n      <td>4.5</td>\n      <td>268.0</td>\n      <td>['Negombo Lagoon was a delightful escape! We t...</td>\n    </tr>\n    <tr>\n      <th>74</th>\n      <td>Kalpitiya Lagoon</td>\n      <td>8.241272</td>\n      <td>79.744194</td>\n      <td>Kalpitiya Lagoon, Sri Lanka</td>\n      <td>4.8</td>\n      <td>130.0</td>\n      <td>['Kalpitiya Lagoon is a fantastic destination ...</td>\n    </tr>\n    <tr>\n      <th>77</th>\n      <td>Nuwara Eliya</td>\n      <td>6.949717</td>\n      <td>80.789107</td>\n      <td>Nuwara Eliya, Sri Lanka</td>\n      <td>NaN</td>\n      <td>NaN</td>\n      <td>['Nuwara Eliya is a bit overrated for its char...</td>\n    </tr>\n    <tr>\n      <th>222</th>\n      <td>Nuwara Eliya Mountains view point</td>\n      <td>6.983455</td>\n      <td>80.750476</td>\n      <td>Nuwara Eliya, Sri Lanka</td>\n      <td>4.0</td>\n      <td>163.0</td>\n      <td>['The Nuwara Eliya Mountains viewpoint is trul...</td>\n    </tr>\n    <tr>\n      <th>60</th>\n      <td>Negombo</td>\n      <td>7.205521</td>\n      <td>79.851256</td>\n      <td>Negombo, Sri Lanka</td>\n      <td>NaN</td>\n      <td>NaN</td>\n      <td>['Negombo was a bit of a letdown for me. I exp...</td>\n    </tr>\n    <tr>\n      <th>76</th>\n      <td>Hikkaduwa</td>\n      <td>6.139468</td>\n      <td>80.106286</td>\n      <td>Hikkaduwa, Sri Lanka</td>\n      <td>NaN</td>\n      <td>NaN</td>\n      <td>['Hikkaduwa was quite disappointing for a beac...</td>\n    </tr>\n    <tr>\n      <th>95</th>\n      <td>Polonnaruwa</td>\n      <td>7.940338</td>\n      <td>81.018798</td>\n      <td>Polonnaruwa, Sri Lanka</td>\n      <td>NaN</td>\n      <td>NaN</td>\n      <td>['Polonnaruwa felt like a missed opportunity. ...</td>\n    </tr>\n    <tr>\n      <th>59</th>\n      <td>Kalpitiya</td>\n      <td>8.229528</td>\n      <td>79.759614</td>\n      <td>Kalpitiya, Sri Lanka</td>\n      <td>NaN</td>\n      <td>NaN</td>\n      <td>['Kalpitiya has beautiful scenery, but I was d...</td>\n    </tr>\n  </tbody>\n</table>\n</div>"
     },
     "execution_count": 50,
     "metadata": {},
     "output_type": "execute_result"
    }
   ],
   "source": [
    "get_recommendations(6)"
   ],
   "metadata": {
    "collapsed": false,
    "ExecuteTime": {
     "end_time": "2024-09-11T17:08:52.500781100Z",
     "start_time": "2024-09-11T17:08:52.462890100Z"
    }
   },
   "id": "4bf66e4d7090dab6"
  },
  {
   "cell_type": "code",
   "execution_count": null,
   "outputs": [],
   "source": [],
   "metadata": {
    "collapsed": false
   },
   "id": "4bb912029ae3512f"
  }
 ],
 "metadata": {
  "kernelspec": {
   "display_name": "Python 3",
   "language": "python",
   "name": "python3"
  },
  "language_info": {
   "codemirror_mode": {
    "name": "ipython",
    "version": 2
   },
   "file_extension": ".py",
   "mimetype": "text/x-python",
   "name": "python",
   "nbconvert_exporter": "python",
   "pygments_lexer": "ipython2",
   "version": "2.7.6"
  }
 },
 "nbformat": 4,
 "nbformat_minor": 5
}
