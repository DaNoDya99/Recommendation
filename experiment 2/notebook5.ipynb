{
 "cells": [
  {
   "cell_type": "code",
   "execution_count": 1,
   "outputs": [],
   "source": [
    "import pandas as pd\n",
    "from nltk.corpus import stopwords\n",
    "import difflib\n",
    "from sklearn.feature_extraction.text import TfidfVectorizer\n",
    "from sklearn.metrics.pairwise import cosine_similarity"
   ],
   "metadata": {
    "collapsed": false,
    "ExecuteTime": {
     "end_time": "2024-09-11T17:21:41.959126Z",
     "start_time": "2024-09-11T17:21:39.273321Z"
    }
   },
   "id": "3c53551e0cf630a4"
  },
  {
   "cell_type": "code",
   "execution_count": 2,
   "outputs": [],
   "source": [
    "users_df = pd.read_excel(\"../data/Visitors Preference Dataset.xlsx\")\n",
    "places_df = pd.read_excel(\"../data/Places Dataset.xlsx\")"
   ],
   "metadata": {
    "collapsed": false,
    "ExecuteTime": {
     "end_time": "2024-09-11T17:21:43.808000200Z",
     "start_time": "2024-09-11T17:21:41.960125Z"
    }
   },
   "id": "dc9260880d0c4efd"
  },
  {
   "cell_type": "code",
   "execution_count": 3,
   "outputs": [
    {
     "data": {
      "text/plain": "   User ID              Name                         Email  \\\n0        1    Jennifer Quinn    jennifer.quinn@example.com   \n1        2       Emily Perry       emily.perry@example.com   \n2        3  Danielle Mcbride  danielle.mcbride@example.com   \n3        4   Angelica Wilson   angelica.wilson@example.com   \n4        5     Laurie Powers     laurie.powers@example.com   \n\n                                Preferred Activities  \\\n0  ['cycling', 'historical monuments', 'village h...   \n1  ['butterfly watching', 'hot springs', 'wildlif...   \n2  ['sea cruises', 'themed parks', 'craft worksho...   \n3              ['fishing', 'hot springs', 'sailing']   \n4     ['history tours', 'sailing', 'literary tours']   \n\n                  Bucket list destinations Sri Lanka  \n0  ['Polonnaruwa', 'Hatton', 'Anuradhapura', 'Ell...  \n1  ['Madunagala Hot Water Spring', 'Wilpattu Nati...  \n2  ['Mirissa Beach', 'Negombo Lagoon', 'Batadomba...  \n3  ['Maha Oya Hot Water Springs', 'Colombo Port C...  \n4  ['Negombo Lagoon', 'Colombo Port City', 'Galle...  ",
      "text/html": "<div>\n<style scoped>\n    .dataframe tbody tr th:only-of-type {\n        vertical-align: middle;\n    }\n\n    .dataframe tbody tr th {\n        vertical-align: top;\n    }\n\n    .dataframe thead th {\n        text-align: right;\n    }\n</style>\n<table border=\"1\" class=\"dataframe\">\n  <thead>\n    <tr style=\"text-align: right;\">\n      <th></th>\n      <th>User ID</th>\n      <th>Name</th>\n      <th>Email</th>\n      <th>Preferred Activities</th>\n      <th>Bucket list destinations Sri Lanka</th>\n    </tr>\n  </thead>\n  <tbody>\n    <tr>\n      <th>0</th>\n      <td>1</td>\n      <td>Jennifer Quinn</td>\n      <td>jennifer.quinn@example.com</td>\n      <td>['cycling', 'historical monuments', 'village h...</td>\n      <td>['Polonnaruwa', 'Hatton', 'Anuradhapura', 'Ell...</td>\n    </tr>\n    <tr>\n      <th>1</th>\n      <td>2</td>\n      <td>Emily Perry</td>\n      <td>emily.perry@example.com</td>\n      <td>['butterfly watching', 'hot springs', 'wildlif...</td>\n      <td>['Madunagala Hot Water Spring', 'Wilpattu Nati...</td>\n    </tr>\n    <tr>\n      <th>2</th>\n      <td>3</td>\n      <td>Danielle Mcbride</td>\n      <td>danielle.mcbride@example.com</td>\n      <td>['sea cruises', 'themed parks', 'craft worksho...</td>\n      <td>['Mirissa Beach', 'Negombo Lagoon', 'Batadomba...</td>\n    </tr>\n    <tr>\n      <th>3</th>\n      <td>4</td>\n      <td>Angelica Wilson</td>\n      <td>angelica.wilson@example.com</td>\n      <td>['fishing', 'hot springs', 'sailing']</td>\n      <td>['Maha Oya Hot Water Springs', 'Colombo Port C...</td>\n    </tr>\n    <tr>\n      <th>4</th>\n      <td>5</td>\n      <td>Laurie Powers</td>\n      <td>laurie.powers@example.com</td>\n      <td>['history tours', 'sailing', 'literary tours']</td>\n      <td>['Negombo Lagoon', 'Colombo Port City', 'Galle...</td>\n    </tr>\n  </tbody>\n</table>\n</div>"
     },
     "execution_count": 3,
     "metadata": {},
     "output_type": "execute_result"
    }
   ],
   "source": [
    "users_df.head()"
   ],
   "metadata": {
    "collapsed": false,
    "ExecuteTime": {
     "end_time": "2024-09-11T17:21:43.842752400Z",
     "start_time": "2024-09-11T17:21:43.809000300Z"
    }
   },
   "id": "6737988042d19dd2"
  },
  {
   "cell_type": "code",
   "execution_count": 4,
   "outputs": [
    {
     "data": {
      "text/plain": "                             name       lat        lng  \\\n0                Arugam Bay Beach  6.840408  81.836848   \n1                   Mirissa Beach  5.944703  80.459161   \n2  Weligama Beach (surf and stay)  5.972486  80.435714   \n3                        Ahangama  5.973975  80.362159   \n4                 Hikkaduwa Beach  6.137727  80.099060   \n\n             formatted_address  rating  user_ratings_total  \\\n0  Arugam Bay Beach, Sri Lanka     4.8              1591.0   \n1           Mirissa, Sri Lanka     4.6              1748.0   \n2          Weligama, Sri Lanka     4.4               325.0   \n3          Ahangama, Sri Lanka     NaN                 NaN   \n4   Hikkaduwa Beach, Sri Lanka     4.7              1438.0   \n\n                                      latest_reviews  \n0  ['Arugam Bay Beach is a surfer's paradise! I s...  \n1  ['Mirissa Beach is truly a gem on Sri LankaÃ¢Â...  \n2  ['Weligama Beach is a fantastic spot for both ...  \n3  ['Ahangama was a bit disappointing for me as a...  \n4  ['Hikkaduwa Beach is a delightful escape for s...  ",
      "text/html": "<div>\n<style scoped>\n    .dataframe tbody tr th:only-of-type {\n        vertical-align: middle;\n    }\n\n    .dataframe tbody tr th {\n        vertical-align: top;\n    }\n\n    .dataframe thead th {\n        text-align: right;\n    }\n</style>\n<table border=\"1\" class=\"dataframe\">\n  <thead>\n    <tr style=\"text-align: right;\">\n      <th></th>\n      <th>name</th>\n      <th>lat</th>\n      <th>lng</th>\n      <th>formatted_address</th>\n      <th>rating</th>\n      <th>user_ratings_total</th>\n      <th>latest_reviews</th>\n    </tr>\n  </thead>\n  <tbody>\n    <tr>\n      <th>0</th>\n      <td>Arugam Bay Beach</td>\n      <td>6.840408</td>\n      <td>81.836848</td>\n      <td>Arugam Bay Beach, Sri Lanka</td>\n      <td>4.8</td>\n      <td>1591.0</td>\n      <td>['Arugam Bay Beach is a surfer's paradise! I s...</td>\n    </tr>\n    <tr>\n      <th>1</th>\n      <td>Mirissa Beach</td>\n      <td>5.944703</td>\n      <td>80.459161</td>\n      <td>Mirissa, Sri Lanka</td>\n      <td>4.6</td>\n      <td>1748.0</td>\n      <td>['Mirissa Beach is truly a gem on Sri LankaÃ¢Â...</td>\n    </tr>\n    <tr>\n      <th>2</th>\n      <td>Weligama Beach (surf and stay)</td>\n      <td>5.972486</td>\n      <td>80.435714</td>\n      <td>Weligama, Sri Lanka</td>\n      <td>4.4</td>\n      <td>325.0</td>\n      <td>['Weligama Beach is a fantastic spot for both ...</td>\n    </tr>\n    <tr>\n      <th>3</th>\n      <td>Ahangama</td>\n      <td>5.973975</td>\n      <td>80.362159</td>\n      <td>Ahangama, Sri Lanka</td>\n      <td>NaN</td>\n      <td>NaN</td>\n      <td>['Ahangama was a bit disappointing for me as a...</td>\n    </tr>\n    <tr>\n      <th>4</th>\n      <td>Hikkaduwa Beach</td>\n      <td>6.137727</td>\n      <td>80.099060</td>\n      <td>Hikkaduwa Beach, Sri Lanka</td>\n      <td>4.7</td>\n      <td>1438.0</td>\n      <td>['Hikkaduwa Beach is a delightful escape for s...</td>\n    </tr>\n  </tbody>\n</table>\n</div>"
     },
     "execution_count": 4,
     "metadata": {},
     "output_type": "execute_result"
    }
   ],
   "source": [
    "places_df.head()"
   ],
   "metadata": {
    "collapsed": false,
    "ExecuteTime": {
     "end_time": "2024-09-11T17:21:43.910320100Z",
     "start_time": "2024-09-11T17:21:43.832398800Z"
    }
   },
   "id": "12275f599f819d28"
  },
  {
   "cell_type": "code",
   "execution_count": 5,
   "outputs": [],
   "source": [
    "selected_features_user = ['Preferred Activities', 'Bucket list destinations Sri Lanka']\n",
    "selected_features_places = ['name', 'latest_reviews']"
   ],
   "metadata": {
    "collapsed": false,
    "ExecuteTime": {
     "end_time": "2024-09-11T17:21:43.911316700Z",
     "start_time": "2024-09-11T17:21:43.846753800Z"
    }
   },
   "id": "a87c0ce6313b67a5"
  },
  {
   "cell_type": "code",
   "execution_count": 6,
   "outputs": [],
   "source": [
    "users_df = users_df[selected_features_user]\n",
    "places_df = places_df[selected_features_places]"
   ],
   "metadata": {
    "collapsed": false,
    "ExecuteTime": {
     "end_time": "2024-09-11T17:21:43.955841800Z",
     "start_time": "2024-09-11T17:21:43.851374700Z"
    }
   },
   "id": "92a93aa3cef65389"
  },
  {
   "cell_type": "code",
   "execution_count": 7,
   "outputs": [],
   "source": [
    "users_df.fillna(\"\", inplace=True)\n",
    "places_df.fillna(\"\", inplace=True)"
   ],
   "metadata": {
    "collapsed": false,
    "ExecuteTime": {
     "end_time": "2024-09-11T17:21:44.018846300Z",
     "start_time": "2024-09-11T17:21:43.860000100Z"
    }
   },
   "id": "f9e0500ab439fa09"
  },
  {
   "cell_type": "code",
   "execution_count": 8,
   "outputs": [],
   "source": [
    "users_df['Preferred Activities'] = users_df['Preferred Activities'].apply(lambda x: ' '.join(x.split()))\n",
    "users_df['Bucket list destinations Sri Lanka'] = users_df['Bucket list destinations Sri Lanka'].apply(lambda x: ' '.join(x.split()))"
   ],
   "metadata": {
    "collapsed": false,
    "ExecuteTime": {
     "end_time": "2024-09-11T17:21:44.022846700Z",
     "start_time": "2024-09-11T17:21:43.866489500Z"
    }
   },
   "id": "36b2b18bb2f88726"
  },
  {
   "cell_type": "code",
   "execution_count": 9,
   "outputs": [],
   "source": [
    "users_df['Preferred Activities'] = users_df['Preferred Activities'].apply(\n",
    "    lambda x: eval(x) if isinstance(x, str) and x.strip() != '' else ''\n",
    ")\n",
    "users_df['Bucket list destinations Sri Lanka'] = users_df['Bucket list destinations Sri Lanka'].apply(\n",
    "    lambda x: eval(x) if isinstance(x, str) and x.strip() != '' else ''\n",
    ")"
   ],
   "metadata": {
    "collapsed": false,
    "ExecuteTime": {
     "end_time": "2024-09-11T17:21:44.335999900Z",
     "start_time": "2024-09-11T17:21:43.891319900Z"
    }
   },
   "id": "a03086872e737675"
  },
  {
   "cell_type": "code",
   "execution_count": 10,
   "outputs": [],
   "source": [
    "users_df['Preferred Activities'] = users_df['Preferred Activities'].apply(lambda x: \" \".join(x))\n",
    "users_df['Bucket list destinations Sri Lanka'] = users_df['Bucket list destinations Sri Lanka'].apply(lambda x: \" \".join(x))"
   ],
   "metadata": {
    "collapsed": false,
    "ExecuteTime": {
     "end_time": "2024-09-11T17:21:44.335999900Z",
     "start_time": "2024-09-11T17:21:44.286770800Z"
    }
   },
   "id": "d9bff381a56d0fd"
  },
  {
   "cell_type": "code",
   "execution_count": 11,
   "outputs": [
    {
     "data": {
      "text/plain": "                              Preferred Activities  \\\n0   cycling historical monuments village homestays   \n1  butterfly watching hot springs wildlife viewing   \n2         sea cruises themed parks craft workshops   \n3                      fishing hot springs sailing   \n4             history tours sailing literary tours   \n\n                  Bucket list destinations Sri Lanka  \n0      Polonnaruwa Hatton Anuradhapura Ella Haputale  \n1  Madunagala Hot Water Spring Wilpattu National ...  \n2  Mirissa Beach Negombo Lagoon Batadombalena Cra...  \n3  Maha Oya Hot Water Springs Colombo Port City N...  \n4  Negombo Lagoon Colombo Port City Galle Dutch F...  ",
      "text/html": "<div>\n<style scoped>\n    .dataframe tbody tr th:only-of-type {\n        vertical-align: middle;\n    }\n\n    .dataframe tbody tr th {\n        vertical-align: top;\n    }\n\n    .dataframe thead th {\n        text-align: right;\n    }\n</style>\n<table border=\"1\" class=\"dataframe\">\n  <thead>\n    <tr style=\"text-align: right;\">\n      <th></th>\n      <th>Preferred Activities</th>\n      <th>Bucket list destinations Sri Lanka</th>\n    </tr>\n  </thead>\n  <tbody>\n    <tr>\n      <th>0</th>\n      <td>cycling historical monuments village homestays</td>\n      <td>Polonnaruwa Hatton Anuradhapura Ella Haputale</td>\n    </tr>\n    <tr>\n      <th>1</th>\n      <td>butterfly watching hot springs wildlife viewing</td>\n      <td>Madunagala Hot Water Spring Wilpattu National ...</td>\n    </tr>\n    <tr>\n      <th>2</th>\n      <td>sea cruises themed parks craft workshops</td>\n      <td>Mirissa Beach Negombo Lagoon Batadombalena Cra...</td>\n    </tr>\n    <tr>\n      <th>3</th>\n      <td>fishing hot springs sailing</td>\n      <td>Maha Oya Hot Water Springs Colombo Port City N...</td>\n    </tr>\n    <tr>\n      <th>4</th>\n      <td>history tours sailing literary tours</td>\n      <td>Negombo Lagoon Colombo Port City Galle Dutch F...</td>\n    </tr>\n  </tbody>\n</table>\n</div>"
     },
     "execution_count": 11,
     "metadata": {},
     "output_type": "execute_result"
    }
   ],
   "source": [
    "users_df.head()"
   ],
   "metadata": {
    "collapsed": false,
    "ExecuteTime": {
     "end_time": "2024-09-11T17:21:44.335999900Z",
     "start_time": "2024-09-11T17:21:44.301418100Z"
    }
   },
   "id": "f35d7a063f2a1ae0"
  },
  {
   "cell_type": "code",
   "execution_count": 12,
   "outputs": [],
   "source": [
    "places_df['latest_reviews'] = places_df['latest_reviews'].apply(\n",
    "    lambda x: ''.join([i if i.isalpha() or i.isspace() else '' for i in x])\n",
    ")"
   ],
   "metadata": {
    "collapsed": false,
    "ExecuteTime": {
     "end_time": "2024-09-11T17:21:44.465317300Z",
     "start_time": "2024-09-11T17:21:44.320486200Z"
    }
   },
   "id": "91aa50f24c2fe4ae"
  },
  {
   "cell_type": "code",
   "execution_count": 13,
   "outputs": [],
   "source": [
    "places_df['latest_reviews'] = places_df['latest_reviews'].apply(lambda x: x.lower())\n",
    "places_df['name'] = places_df['name'].apply(lambda x: x.lower())\n",
    "users_df['Preferred Activities'] = users_df['Preferred Activities'].apply(lambda x: x.lower())\n",
    "users_df['Bucket list destinations Sri Lanka'] = users_df['Bucket list destinations Sri Lanka'].apply(lambda x: x.lower())"
   ],
   "metadata": {
    "collapsed": false,
    "ExecuteTime": {
     "end_time": "2024-09-11T17:21:44.484319100Z",
     "start_time": "2024-09-11T17:21:44.362783100Z"
    }
   },
   "id": "d48a30e734e220b0"
  },
  {
   "cell_type": "code",
   "execution_count": 14,
   "outputs": [],
   "source": [
    "stop_words = set(stopwords.words('english'))\n",
    "\n",
    "places_df['latest_reviews'] = places_df['latest_reviews'].apply(\n",
    "    lambda x: ' '.join([word for word in x.split() if word not in stop_words])\n",
    ")"
   ],
   "metadata": {
    "collapsed": false,
    "ExecuteTime": {
     "end_time": "2024-09-11T17:21:44.484319100Z",
     "start_time": "2024-09-11T17:21:44.383383500Z"
    }
   },
   "id": "12752ade1281fb65"
  },
  {
   "cell_type": "code",
   "execution_count": 15,
   "outputs": [
    {
     "data": {
      "text/plain": "                             name  \\\n0                arugam bay beach   \n1                   mirissa beach   \n2  weligama beach (surf and stay)   \n3                        ahangama   \n4                 hikkaduwa beach   \n\n                                      latest_reviews  \n0  arugam bay beach surfers paradise spent incred...  \n1  mirissa beach truly gem sri lankaãââs southern...  \n2  weligama beach fantastic spot beginner experie...  \n3  ahangama bit disappointing solo traveler surfi...  \n4  hikkaduwa beach delightful escape solo travele...  ",
      "text/html": "<div>\n<style scoped>\n    .dataframe tbody tr th:only-of-type {\n        vertical-align: middle;\n    }\n\n    .dataframe tbody tr th {\n        vertical-align: top;\n    }\n\n    .dataframe thead th {\n        text-align: right;\n    }\n</style>\n<table border=\"1\" class=\"dataframe\">\n  <thead>\n    <tr style=\"text-align: right;\">\n      <th></th>\n      <th>name</th>\n      <th>latest_reviews</th>\n    </tr>\n  </thead>\n  <tbody>\n    <tr>\n      <th>0</th>\n      <td>arugam bay beach</td>\n      <td>arugam bay beach surfers paradise spent incred...</td>\n    </tr>\n    <tr>\n      <th>1</th>\n      <td>mirissa beach</td>\n      <td>mirissa beach truly gem sri lankaãââs southern...</td>\n    </tr>\n    <tr>\n      <th>2</th>\n      <td>weligama beach (surf and stay)</td>\n      <td>weligama beach fantastic spot beginner experie...</td>\n    </tr>\n    <tr>\n      <th>3</th>\n      <td>ahangama</td>\n      <td>ahangama bit disappointing solo traveler surfi...</td>\n    </tr>\n    <tr>\n      <th>4</th>\n      <td>hikkaduwa beach</td>\n      <td>hikkaduwa beach delightful escape solo travele...</td>\n    </tr>\n  </tbody>\n</table>\n</div>"
     },
     "execution_count": 15,
     "metadata": {},
     "output_type": "execute_result"
    }
   ],
   "source": [
    "places_df.head()"
   ],
   "metadata": {
    "collapsed": false,
    "ExecuteTime": {
     "end_time": "2024-09-11T17:21:44.485316700Z",
     "start_time": "2024-09-11T17:21:44.411096800Z"
    }
   },
   "id": "f5f461a82291c6a9"
  },
  {
   "cell_type": "code",
   "execution_count": 16,
   "outputs": [],
   "source": [
    "combined_features_places = places_df['name'] + ' ' + places_df['latest_reviews']\n",
    "combined_features_users = users_df['Preferred Activities'] + ' ' + users_df['Bucket list destinations Sri Lanka']"
   ],
   "metadata": {
    "collapsed": false,
    "ExecuteTime": {
     "end_time": "2024-09-11T17:21:44.485316700Z",
     "start_time": "2024-09-11T17:21:44.420509800Z"
    }
   },
   "id": "2b4d1bd26caffa83"
  },
  {
   "cell_type": "code",
   "execution_count": 17,
   "outputs": [
    {
     "data": {
      "text/plain": "('arugam bay beach arugam bay beach surfers paradise spent incredible days riding waves local surf schools fantastic beginners like atmosphere laidback friendly locals fellow travelers long day surfing sunsets simply magical beach bit crowded especially peak season adds lively vibe canãâât wait return friends unforgettable time arugam bay beach surfing conditions excellent managed catch great waves beach beautiful soft sand clear waters perfect swimming however noticed litter beach bit disappointing overall vibrant nightlife delicious food made definitely worth visit couple looking relaxation arugam bay beach offered perfect blend tranquility excitement enjoyed lazy days lounging beach indulging fresh seafood beachside restaurants surf scene lively easy find quieter spots unwind downside occasional noise nearby parties didnãâât detract much experience lovely getaway visited arugam bay beach family children loved surf lessons found beach bit overcrowded atmosphere vibrant locals warm welcoming spent time exploring nearby attractions like elephant rock highlight wish efforts keep beach clean detracted beauty overall memorable trip arugam bay beach charm also downsides surfing fantastic managed improve skills help local instructors however disappointed litter scattered along beach itãââs shame natural beauty stunning cafes restaurants great believe attention given maintaining beach enjoyed time overall hope improvements future',\n 'cycling historical monuments village homestays polonnaruwa hatton anuradhapura ella haputale')"
     },
     "execution_count": 17,
     "metadata": {},
     "output_type": "execute_result"
    }
   ],
   "source": [
    "combined_features_places[0], combined_features_users[0]"
   ],
   "metadata": {
    "collapsed": false,
    "ExecuteTime": {
     "end_time": "2024-09-11T17:21:44.486315800Z",
     "start_time": "2024-09-11T17:21:44.427883200Z"
    }
   },
   "id": "cc948650873dc057"
  },
  {
   "cell_type": "code",
   "execution_count": 18,
   "outputs": [],
   "source": [
    "tfidf_vectorizer = TfidfVectorizer()\n",
    "tfidf_matrix_users = tfidf_vectorizer.fit_transform(combined_features_users)\n",
    "tfidf_matrix_places = tfidf_vectorizer.transform(combined_features_places)"
   ],
   "metadata": {
    "collapsed": false,
    "ExecuteTime": {
     "end_time": "2024-09-11T17:21:44.819226300Z",
     "start_time": "2024-09-11T17:21:44.435322500Z"
    }
   },
   "id": "1de4e158942c76f3"
  },
  {
   "cell_type": "code",
   "execution_count": 19,
   "outputs": [
    {
     "data": {
      "text/plain": "(411, 293)"
     },
     "execution_count": 19,
     "metadata": {},
     "output_type": "execute_result"
    }
   ],
   "source": [
    "tfidf_matrix_places.shape"
   ],
   "metadata": {
    "collapsed": false,
    "ExecuteTime": {
     "end_time": "2024-09-11T17:21:44.819226300Z",
     "start_time": "2024-09-11T17:21:44.647117800Z"
    }
   },
   "id": "bd2357a56645fc0a"
  },
  {
   "cell_type": "code",
   "execution_count": 20,
   "outputs": [
    {
     "data": {
      "text/plain": "(10000, 293)"
     },
     "execution_count": 20,
     "metadata": {},
     "output_type": "execute_result"
    }
   ],
   "source": [
    "tfidf_matrix_users.shape"
   ],
   "metadata": {
    "collapsed": false,
    "ExecuteTime": {
     "end_time": "2024-09-11T17:21:44.827221200Z",
     "start_time": "2024-09-11T17:21:44.652993600Z"
    }
   },
   "id": "4da9e5263adc969c"
  },
  {
   "cell_type": "code",
   "execution_count": 21,
   "outputs": [],
   "source": [
    "cosine_sim = cosine_similarity(tfidf_matrix_users, tfidf_matrix_places)"
   ],
   "metadata": {
    "collapsed": false,
    "ExecuteTime": {
     "end_time": "2024-09-11T17:21:44.828221600Z",
     "start_time": "2024-09-11T17:21:44.668775700Z"
    }
   },
   "id": "7510fb85ff419cf"
  },
  {
   "cell_type": "code",
   "execution_count": 22,
   "outputs": [
    {
     "data": {
      "text/plain": "(10000, 411)"
     },
     "execution_count": 22,
     "metadata": {},
     "output_type": "execute_result"
    }
   ],
   "source": [
    "cosine_sim.shape"
   ],
   "metadata": {
    "collapsed": false,
    "ExecuteTime": {
     "end_time": "2024-09-11T17:21:44.829226800Z",
     "start_time": "2024-09-11T17:21:44.724824Z"
    }
   },
   "id": "2a40cf651a8be4ef"
  },
  {
   "cell_type": "code",
   "execution_count": 23,
   "outputs": [
    {
     "data": {
      "text/plain": "array([0.        , 0.        , 0.        , 0.        , 0.        ,\n       0.        , 0.        , 0.        , 0.06155764, 0.25674769,\n       0.10321083, 0.        , 0.        , 0.        , 0.        ,\n       0.        , 0.        , 0.        , 0.        , 0.        ,\n       0.        , 0.        , 0.        , 0.31206528, 0.04395955,\n       0.        , 0.09391946, 0.06347571, 0.        , 0.08208183,\n       0.07879243, 0.        , 0.        , 0.        , 0.        ,\n       0.        , 0.        , 0.        , 0.05971237, 0.        ,\n       0.        , 0.        , 0.05959577, 0.        , 0.0626752 ,\n       0.        , 0.        , 0.        , 0.05208398, 0.        ,\n       0.        , 0.        , 0.        , 0.        , 0.        ,\n       0.        , 0.        , 0.        , 0.        , 0.        ,\n       0.        , 0.        , 0.        , 0.        , 0.        ,\n       0.        , 0.        , 0.        , 0.        , 0.        ,\n       0.        , 0.        , 0.        , 0.        , 0.        ,\n       0.        , 0.        , 0.        , 0.24510575, 0.        ,\n       0.        , 0.        , 0.        , 0.        , 0.        ,\n       0.05134704, 0.        , 0.        , 0.        , 0.        ,\n       0.        , 0.        , 0.        , 0.        , 0.        ,\n       0.32155804, 0.02798414, 0.        , 0.        , 0.02425793,\n       0.06744737, 0.        , 0.        , 0.        , 0.        ,\n       0.        , 0.        , 0.        , 0.        , 0.05052105,\n       0.        , 0.        , 0.0675077 , 0.        , 0.06438053,\n       0.        , 0.        , 0.        , 0.        , 0.        ,\n       0.0605434 , 0.        , 0.02407999, 0.        , 0.        ,\n       0.        , 0.        , 0.        , 0.        , 0.        ,\n       0.        , 0.02574884, 0.        , 0.        , 0.        ,\n       0.        , 0.        , 0.        , 0.04621689, 0.        ,\n       0.        , 0.        , 0.        , 0.02812835, 0.17129604,\n       0.0560695 , 0.0438617 , 0.        , 0.07815857, 0.18924152,\n       0.12869557, 0.        , 0.        , 0.03197313, 0.        ,\n       0.        , 0.        , 0.        , 0.        , 0.        ,\n       0.04335332, 0.06020056, 0.09655338, 0.        , 0.        ,\n       0.1417601 , 0.07011874, 0.05911435, 0.02762792, 0.04894892,\n       0.06753354, 0.09777574, 0.        , 0.        , 0.11302951,\n       0.        , 0.        , 0.        , 0.        , 0.        ,\n       0.        , 0.        , 0.        , 0.        , 0.        ,\n       0.        , 0.17427802, 0.        , 0.        , 0.        ,\n       0.        , 0.        , 0.07206184, 0.03747531, 0.0824035 ,\n       0.05134319, 0.        , 0.05648674, 0.        , 0.        ,\n       0.0363046 , 0.        , 0.        , 0.        , 0.        ,\n       0.        , 0.        , 0.        , 0.        , 0.        ,\n       0.07151802, 0.03492562, 0.        , 0.        , 0.        ,\n       0.0616951 , 0.        , 0.        , 0.08275297, 0.        ,\n       0.08419997, 0.        , 0.        , 0.        , 0.        ,\n       0.07175307, 0.        , 0.        , 0.        , 0.        ,\n       0.03354264, 0.        , 0.        , 0.        , 0.        ,\n       0.        , 0.04163061, 0.        , 0.        , 0.        ,\n       0.        , 0.        , 0.0889145 , 0.        , 0.        ,\n       0.        , 0.        , 0.10836489, 0.        , 0.        ,\n       0.        , 0.        , 0.11326449, 0.01712737, 0.        ,\n       0.04956907, 0.        , 0.        , 0.        , 0.        ,\n       0.07757183, 0.        , 0.        , 0.        , 0.        ,\n       0.        , 0.        , 0.        , 0.        , 0.04279264,\n       0.        , 0.08795512, 0.25868719, 0.08311001, 0.06414783,\n       0.12200236, 0.21298525, 0.        , 0.17640779, 0.15413677,\n       0.13955694, 0.11098403, 0.09052054, 0.05809862, 0.2241105 ,\n       0.07241787, 0.        , 0.        , 0.        , 0.        ,\n       0.        , 0.        , 0.09537578, 0.        , 0.        ,\n       0.0773078 , 0.        , 0.09098851, 0.        , 0.18001493,\n       0.16050109, 0.10230564, 0.        , 0.10848332, 0.        ,\n       0.        , 0.09334666, 0.14762274, 0.        , 0.        ,\n       0.        , 0.        , 0.        , 0.0455758 , 0.        ,\n       0.21182306, 0.18850735, 0.08531489, 0.19404792, 0.1605099 ,\n       0.        , 0.        , 0.        , 0.08474244, 0.        ,\n       0.11531041, 0.        , 0.        , 0.        , 0.        ,\n       0.        , 0.09757342, 0.        , 0.        , 0.        ,\n       0.        , 0.0531314 , 0.10583851, 0.        , 0.        ,\n       0.04774766, 0.        , 0.        , 0.        , 0.03489881,\n       0.        , 0.        , 0.        , 0.        , 0.        ,\n       0.        , 0.14167062, 0.        , 0.        , 0.        ,\n       0.        , 0.        , 0.10207082, 0.        , 0.        ,\n       0.        , 0.        , 0.06987345, 0.04457221, 0.        ,\n       0.        , 0.22443271, 0.        , 0.20340523, 0.1666642 ,\n       0.        , 0.        , 0.        , 0.11979066, 0.        ,\n       0.        , 0.        , 0.07877321, 0.08817393, 0.        ,\n       0.        , 0.        , 0.        , 0.        , 0.        ,\n       0.        , 0.        , 0.        , 0.        , 0.10036693,\n       0.        , 0.        , 0.        , 0.        , 0.        ,\n       0.        , 0.        , 0.        , 0.        , 0.        ,\n       0.        , 0.        , 0.        , 0.        , 0.        ,\n       0.        , 0.        , 0.        , 0.        , 0.        ,\n       0.        ])"
     },
     "execution_count": 23,
     "metadata": {},
     "output_type": "execute_result"
    }
   ],
   "source": [
    "cosine_sim[0]"
   ],
   "metadata": {
    "collapsed": false,
    "ExecuteTime": {
     "end_time": "2024-09-11T17:21:44.829226800Z",
     "start_time": "2024-09-11T17:21:44.732401900Z"
    }
   },
   "id": "38f34fc2fe0557f8"
  },
  {
   "cell_type": "code",
   "execution_count": 24,
   "outputs": [],
   "source": [
    "top_5_places = cosine_sim[0].argsort()[-5:][::-1]"
   ],
   "metadata": {
    "collapsed": false,
    "ExecuteTime": {
     "end_time": "2024-09-11T17:21:44.932286600Z",
     "start_time": "2024-09-11T17:21:44.742370Z"
    }
   },
   "id": "1d9cec2dd81e567d"
  },
  {
   "cell_type": "code",
   "execution_count": 25,
   "outputs": [],
   "source": [
    "places_original = pd.read_excel(\"../data/Places Dataset.xlsx\")\n",
    "users_original = pd.read_excel(\"../data/Visitors Preference Dataset.xlsx\")"
   ],
   "metadata": {
    "collapsed": false,
    "ExecuteTime": {
     "end_time": "2024-09-11T17:21:46.336439800Z",
     "start_time": "2024-09-11T17:21:44.749218100Z"
    }
   },
   "id": "b01e6d227c93c3fc"
  },
  {
   "cell_type": "code",
   "execution_count": 26,
   "outputs": [
    {
     "data": {
      "text/plain": "                                                  name       lat        lng  \\\n95                                         Polonnaruwa  7.940338  81.018798   \n23                                        Anuradhapura  8.311352  80.403651   \n272  Lotus Pond (Nelum pokuna II (ÃƒÂ Ã‚Â¶Ã‚Â±ÃƒÂ Ã...  7.983824  81.003876   \n9                             Polonnaruwa Ancient City  7.945942  81.000329   \n78                                            Haputale  6.765414  80.952565   \n\n           formatted_address  rating  user_ratings_total  \\\n95    Polonnaruwa, Sri Lanka     NaN                 NaN   \n23   Anuradhapura, Sri Lanka     NaN                 NaN   \n272   Polonnaruwa, Sri Lanka     3.8                87.0   \n9     Polonnaruwa, Sri Lanka     4.3               878.0   \n78       Haputale, Sri Lanka     NaN                 NaN   \n\n                                        latest_reviews  \n95   ['Polonnaruwa felt like a missed opportunity. ...  \n23   ['Anuradhapura is rich in history, but I found...  \n272  ['Lotus Pond is a hidden gem in Polonnaruwa! T...  \n9    ['Polonnaruwa Ancient City is a stunning place...  \n78   ['Haputale is a beautiful location with stunni...  ",
      "text/html": "<div>\n<style scoped>\n    .dataframe tbody tr th:only-of-type {\n        vertical-align: middle;\n    }\n\n    .dataframe tbody tr th {\n        vertical-align: top;\n    }\n\n    .dataframe thead th {\n        text-align: right;\n    }\n</style>\n<table border=\"1\" class=\"dataframe\">\n  <thead>\n    <tr style=\"text-align: right;\">\n      <th></th>\n      <th>name</th>\n      <th>lat</th>\n      <th>lng</th>\n      <th>formatted_address</th>\n      <th>rating</th>\n      <th>user_ratings_total</th>\n      <th>latest_reviews</th>\n    </tr>\n  </thead>\n  <tbody>\n    <tr>\n      <th>95</th>\n      <td>Polonnaruwa</td>\n      <td>7.940338</td>\n      <td>81.018798</td>\n      <td>Polonnaruwa, Sri Lanka</td>\n      <td>NaN</td>\n      <td>NaN</td>\n      <td>['Polonnaruwa felt like a missed opportunity. ...</td>\n    </tr>\n    <tr>\n      <th>23</th>\n      <td>Anuradhapura</td>\n      <td>8.311352</td>\n      <td>80.403651</td>\n      <td>Anuradhapura, Sri Lanka</td>\n      <td>NaN</td>\n      <td>NaN</td>\n      <td>['Anuradhapura is rich in history, but I found...</td>\n    </tr>\n    <tr>\n      <th>272</th>\n      <td>Lotus Pond (Nelum pokuna II (ÃƒÂ Ã‚Â¶Ã‚Â±ÃƒÂ Ã...</td>\n      <td>7.983824</td>\n      <td>81.003876</td>\n      <td>Polonnaruwa, Sri Lanka</td>\n      <td>3.8</td>\n      <td>87.0</td>\n      <td>['Lotus Pond is a hidden gem in Polonnaruwa! T...</td>\n    </tr>\n    <tr>\n      <th>9</th>\n      <td>Polonnaruwa Ancient City</td>\n      <td>7.945942</td>\n      <td>81.000329</td>\n      <td>Polonnaruwa, Sri Lanka</td>\n      <td>4.3</td>\n      <td>878.0</td>\n      <td>['Polonnaruwa Ancient City is a stunning place...</td>\n    </tr>\n    <tr>\n      <th>78</th>\n      <td>Haputale</td>\n      <td>6.765414</td>\n      <td>80.952565</td>\n      <td>Haputale, Sri Lanka</td>\n      <td>NaN</td>\n      <td>NaN</td>\n      <td>['Haputale is a beautiful location with stunni...</td>\n    </tr>\n  </tbody>\n</table>\n</div>"
     },
     "execution_count": 26,
     "metadata": {},
     "output_type": "execute_result"
    }
   ],
   "source": [
    "places_original.iloc[top_5_places]"
   ],
   "metadata": {
    "collapsed": false,
    "ExecuteTime": {
     "end_time": "2024-09-11T17:21:46.375023300Z",
     "start_time": "2024-09-11T17:21:46.345438800Z"
    }
   },
   "id": "ed006cec706ce487"
  },
  {
   "cell_type": "code",
   "execution_count": 27,
   "outputs": [
    {
     "name": "stdout",
     "output_type": "stream",
     "text": [
      "Similarity measure for place Polonnaruwa is 0.321558044441415\n",
      "Similarity measure for place Anuradhapura is 0.31206528276255785\n",
      "Similarity measure for place Lotus Pond (Nelum pokuna II (ÃƒÂ Ã‚Â¶Ã‚Â±ÃƒÂ Ã‚Â·Ã‚Â™ÃƒÂ Ã‚Â·Ã‚Â…ÃƒÂ Ã‚Â·Ã‚Â”ÃƒÂ Ã‚Â¶Ã‚Â¸ÃƒÂ Ã‚Â·Ã‚ÂŠ ÃƒÂ Ã‚Â¶Ã‚Â´ÃƒÂ Ã‚Â·Ã‚ÂœÃƒÂ Ã‚Â¶Ã‚ÂšÃƒÂ Ã‚Â·Ã‚Â”ÃƒÂ Ã‚Â¶Ã‚Â« II)) is 0.25868718538124624\n",
      "Similarity measure for place Polonnaruwa Ancient City is 0.25674769048579826\n",
      "Similarity measure for place Haputale is 0.24510574723355055\n"
     ]
    }
   ],
   "source": [
    "for i in top_5_places:\n",
    "    print(f\"Similarity measure for place {places_original.iloc[i]['name']} is {cosine_sim[0][i]}\")"
   ],
   "metadata": {
    "collapsed": false,
    "ExecuteTime": {
     "end_time": "2024-09-11T17:21:46.375023300Z",
     "start_time": "2024-09-11T17:21:46.349956700Z"
    }
   },
   "id": "7e372ccb50004edb"
  },
  {
   "cell_type": "code",
   "execution_count": 28,
   "outputs": [
    {
     "data": {
      "text/plain": "User ID                                                                               1\nName                                                                     Jennifer Quinn\nEmail                                                        jennifer.quinn@example.com\nPreferred Activities                  ['cycling', 'historical monuments', 'village h...\nBucket list destinations Sri Lanka    ['Polonnaruwa', 'Hatton', 'Anuradhapura', 'Ell...\nName: 0, dtype: object"
     },
     "execution_count": 28,
     "metadata": {},
     "output_type": "execute_result"
    }
   ],
   "source": [
    "users_original.iloc[0]"
   ],
   "metadata": {
    "collapsed": false,
    "ExecuteTime": {
     "end_time": "2024-09-11T17:21:46.425113600Z",
     "start_time": "2024-09-11T17:21:46.358000300Z"
    }
   },
   "id": "745cf40382cc0d89"
  },
  {
   "cell_type": "code",
   "execution_count": 29,
   "outputs": [],
   "source": [
    "# Let's put everything in a function\n",
    "def get_recommendations(user_id):\n",
    "    user = users_original.iloc[user_id]\n",
    "    user_features = user['Preferred Activities'] + ' ' + user['Bucket list destinations Sri Lanka']\n",
    "    user_features = user_features.lower()\n",
    "    print(f\"User features: {user_features}\")\n",
    "    user_features = ' '.join([word for word in user_features.split() if word not in stop_words])\n",
    "    user_features = [user_features]\n",
    "    user_tfidf = tfidf_vectorizer.transform(user_features)\n",
    "    cosine_sim = cosine_similarity(user_tfidf, tfidf_matrix_places)\n",
    "    top_5_places = cosine_sim[0].argsort()[-10:][::-1]\n",
    "    for i in top_5_places:\n",
    "        print(f\"Similarity measure for place {places_original.iloc[i]['name']} is {cosine_sim[0][i]}\")\n",
    "    return places_original.iloc[top_5_places]"
   ],
   "metadata": {
    "collapsed": false,
    "ExecuteTime": {
     "end_time": "2024-09-11T17:21:46.426112600Z",
     "start_time": "2024-09-11T17:21:46.367477200Z"
    }
   },
   "id": "1e51b2e68563c0db"
  },
  {
   "cell_type": "code",
   "execution_count": 30,
   "outputs": [
    {
     "name": "stdout",
     "output_type": "stream",
     "text": [
      "User features: ['cycling', 'historical monuments', 'village homestays'] ['polonnaruwa', 'hatton', 'anuradhapura', 'ella', 'haputale']\n",
      "Similarity measure for place Polonnaruwa is 0.32155804444141506\n",
      "Similarity measure for place Anuradhapura is 0.31206528276255796\n",
      "Similarity measure for place Lotus Pond (Nelum pokuna II (ÃƒÂ Ã‚Â¶Ã‚Â±ÃƒÂ Ã‚Â·Ã‚Â™ÃƒÂ Ã‚Â·Ã‚Â…ÃƒÂ Ã‚Â·Ã‚Â”ÃƒÂ Ã‚Â¶Ã‚Â¸ÃƒÂ Ã‚Â·Ã‚ÂŠ ÃƒÂ Ã‚Â¶Ã‚Â´ÃƒÂ Ã‚Â·Ã‚ÂœÃƒÂ Ã‚Â¶Ã‚ÂšÃƒÂ Ã‚Â·Ã‚Â”ÃƒÂ Ã‚Â¶Ã‚Â« II)) is 0.2586871853812463\n",
      "Similarity measure for place Polonnaruwa Ancient City is 0.2567476904857983\n",
      "Similarity measure for place Haputale is 0.24510574723355058\n",
      "Similarity measure for place Alahana Pirivena is 0.224432706088184\n",
      "Similarity measure for place Potgul Temple is 0.2241105035938603\n",
      "Similarity measure for place Hatadage is 0.21298525380614178\n",
      "Similarity measure for place Anuradhapura New Town is 0.21182306005735435\n",
      "Similarity measure for place Polonnaruwa Sivan Kovil is 0.2034052339161116\n"
     ]
    },
    {
     "data": {
      "text/plain": "                                                  name       lat        lng  \\\n95                                         Polonnaruwa  7.940338  81.018798   \n23                                        Anuradhapura  8.311352  80.403651   \n272  Lotus Pond (Nelum pokuna II (ÃƒÂ Ã‚Â¶Ã‚Â±ÃƒÂ Ã...  7.983824  81.003876   \n9                             Polonnaruwa Ancient City  7.945942  81.000329   \n78                                            Haputale  6.765414  80.952565   \n366                                   Alahana Pirivena  7.961924  81.003995   \n284                                      Potgul Temple  7.924544  80.994533   \n276                                           Hatadage  7.947864  81.001302   \n315                              Anuradhapura New Town  8.322765  80.402577   \n368                            Polonnaruwa Sivan Kovil  7.946288  81.001328   \n\n           formatted_address  rating  user_ratings_total  \\\n95    Polonnaruwa, Sri Lanka     NaN                 NaN   \n23   Anuradhapura, Sri Lanka     NaN                 NaN   \n272   Polonnaruwa, Sri Lanka     3.8                87.0   \n9     Polonnaruwa, Sri Lanka     4.3               878.0   \n78       Haputale, Sri Lanka     NaN                 NaN   \n366   Polonnaruwa, Sri Lanka     4.8               121.0   \n284   Polonnaruwa, Sri Lanka     4.4               553.0   \n276   Polonnaruwa, Sri Lanka     4.5               375.0   \n315  Anuradhapura, Sri Lanka     4.4               167.0   \n368   Polonnaruwa, Sri Lanka     4.8               146.0   \n\n                                        latest_reviews  \n95   ['Polonnaruwa felt like a missed opportunity. ...  \n23   ['Anuradhapura is rich in history, but I found...  \n272  ['Lotus Pond is a hidden gem in Polonnaruwa! T...  \n9    ['Polonnaruwa Ancient City is a stunning place...  \n78   ['Haputale is a beautiful location with stunni...  \n366  [\"Visiting Alahana Pirivena was a spiritual jo...  \n284  ['Visiting Potgul Temple was a captivating jou...  \n276  ['Visiting Hatadage was a truly enriching expe...  \n315  ['Anuradhapura New Town is a fascinating blend...  \n368  ['Visiting Polonnaruwa Sivan Kovil was a fasci...  ",
      "text/html": "<div>\n<style scoped>\n    .dataframe tbody tr th:only-of-type {\n        vertical-align: middle;\n    }\n\n    .dataframe tbody tr th {\n        vertical-align: top;\n    }\n\n    .dataframe thead th {\n        text-align: right;\n    }\n</style>\n<table border=\"1\" class=\"dataframe\">\n  <thead>\n    <tr style=\"text-align: right;\">\n      <th></th>\n      <th>name</th>\n      <th>lat</th>\n      <th>lng</th>\n      <th>formatted_address</th>\n      <th>rating</th>\n      <th>user_ratings_total</th>\n      <th>latest_reviews</th>\n    </tr>\n  </thead>\n  <tbody>\n    <tr>\n      <th>95</th>\n      <td>Polonnaruwa</td>\n      <td>7.940338</td>\n      <td>81.018798</td>\n      <td>Polonnaruwa, Sri Lanka</td>\n      <td>NaN</td>\n      <td>NaN</td>\n      <td>['Polonnaruwa felt like a missed opportunity. ...</td>\n    </tr>\n    <tr>\n      <th>23</th>\n      <td>Anuradhapura</td>\n      <td>8.311352</td>\n      <td>80.403651</td>\n      <td>Anuradhapura, Sri Lanka</td>\n      <td>NaN</td>\n      <td>NaN</td>\n      <td>['Anuradhapura is rich in history, but I found...</td>\n    </tr>\n    <tr>\n      <th>272</th>\n      <td>Lotus Pond (Nelum pokuna II (ÃƒÂ Ã‚Â¶Ã‚Â±ÃƒÂ Ã...</td>\n      <td>7.983824</td>\n      <td>81.003876</td>\n      <td>Polonnaruwa, Sri Lanka</td>\n      <td>3.8</td>\n      <td>87.0</td>\n      <td>['Lotus Pond is a hidden gem in Polonnaruwa! T...</td>\n    </tr>\n    <tr>\n      <th>9</th>\n      <td>Polonnaruwa Ancient City</td>\n      <td>7.945942</td>\n      <td>81.000329</td>\n      <td>Polonnaruwa, Sri Lanka</td>\n      <td>4.3</td>\n      <td>878.0</td>\n      <td>['Polonnaruwa Ancient City is a stunning place...</td>\n    </tr>\n    <tr>\n      <th>78</th>\n      <td>Haputale</td>\n      <td>6.765414</td>\n      <td>80.952565</td>\n      <td>Haputale, Sri Lanka</td>\n      <td>NaN</td>\n      <td>NaN</td>\n      <td>['Haputale is a beautiful location with stunni...</td>\n    </tr>\n    <tr>\n      <th>366</th>\n      <td>Alahana Pirivena</td>\n      <td>7.961924</td>\n      <td>81.003995</td>\n      <td>Polonnaruwa, Sri Lanka</td>\n      <td>4.8</td>\n      <td>121.0</td>\n      <td>[\"Visiting Alahana Pirivena was a spiritual jo...</td>\n    </tr>\n    <tr>\n      <th>284</th>\n      <td>Potgul Temple</td>\n      <td>7.924544</td>\n      <td>80.994533</td>\n      <td>Polonnaruwa, Sri Lanka</td>\n      <td>4.4</td>\n      <td>553.0</td>\n      <td>['Visiting Potgul Temple was a captivating jou...</td>\n    </tr>\n    <tr>\n      <th>276</th>\n      <td>Hatadage</td>\n      <td>7.947864</td>\n      <td>81.001302</td>\n      <td>Polonnaruwa, Sri Lanka</td>\n      <td>4.5</td>\n      <td>375.0</td>\n      <td>['Visiting Hatadage was a truly enriching expe...</td>\n    </tr>\n    <tr>\n      <th>315</th>\n      <td>Anuradhapura New Town</td>\n      <td>8.322765</td>\n      <td>80.402577</td>\n      <td>Anuradhapura, Sri Lanka</td>\n      <td>4.4</td>\n      <td>167.0</td>\n      <td>['Anuradhapura New Town is a fascinating blend...</td>\n    </tr>\n    <tr>\n      <th>368</th>\n      <td>Polonnaruwa Sivan Kovil</td>\n      <td>7.946288</td>\n      <td>81.001328</td>\n      <td>Polonnaruwa, Sri Lanka</td>\n      <td>4.8</td>\n      <td>146.0</td>\n      <td>['Visiting Polonnaruwa Sivan Kovil was a fasci...</td>\n    </tr>\n  </tbody>\n</table>\n</div>"
     },
     "execution_count": 30,
     "metadata": {},
     "output_type": "execute_result"
    }
   ],
   "source": [
    "get_recommendations(0)"
   ],
   "metadata": {
    "collapsed": false,
    "ExecuteTime": {
     "end_time": "2024-09-11T17:21:46.663306400Z",
     "start_time": "2024-09-11T17:21:46.374022700Z"
    }
   },
   "id": "fd800ab2f0698b2b"
  },
  {
   "cell_type": "code",
   "execution_count": 31,
   "outputs": [
    {
     "name": "stdout",
     "output_type": "stream",
     "text": [
      "User features: ['butterfly watching', 'hot springs', 'wildlife viewing'] ['madunagala hot water spring', 'wilpattu national park', 'wasgamuwa national park', 'kanneliya national rain forest reserve', 'horton plains national park']\n",
      "Similarity measure for place Wilpattu National Park is 0.5631532210283656\n",
      "Similarity measure for place Madunagala Hot Water Spring is 0.5369587925101469\n",
      "Similarity measure for place Wasgamuwa National Park is 0.5369477319501574\n",
      "Similarity measure for place Somawathiya National Park is 0.5228311978255588\n",
      "Similarity measure for place Ussangoda National Park | ÃƒÂ Ã‚Â¶Ã‚Â‹ÃƒÂ Ã‚Â·Ã‚ÂƒÃƒÂ Ã‚Â·Ã‚ÂŠÃƒÂ Ã‚Â·Ã‚ÂƒÃƒÂ Ã‚Â¶Ã‚Â±ÃƒÂ Ã‚Â·Ã‚ÂŠÃƒÂ Ã‚Â¶Ã‚ÂœÃƒÂ Ã‚Â·Ã‚ÂœÃƒÂ Ã‚Â¶Ã‚Â© ÃƒÂ Ã‚Â¶Ã‚Â¢ÃƒÂ Ã‚Â·Ã‚Â_x008f_ÃƒÂ Ã‚Â¶Ã‚Â­ÃƒÂ Ã‚Â·Ã‚Â’ÃƒÂ Ã‚Â¶Ã‚Âš ÃƒÂ Ã‚Â¶Ã‚Â‹ÃƒÂ Ã‚Â¶Ã‚Â¯ÃƒÂ Ã‚Â·Ã‚ÂŠÃƒÂ¢Ã‚Â€Ã‚Â_x008d_ÃƒÂ Ã‚Â¶Ã‚ÂºÃƒÂ Ã‚Â·Ã‚Â_x008f_ÃƒÂ Ã‚Â¶Ã‚Â±ÃƒÂ Ã‚Â¶Ã‚Âº is 0.5019767144883026\n",
      "Similarity measure for place Kanneliya National Rain Forest Reserve | ÃƒÂ Ã‚Â¶Ã‚ÂšÃƒÂ Ã‚Â¶Ã‚Â±ÃƒÂ Ã‚Â·Ã‚ÂŠÃƒÂ Ã‚Â¶Ã‚Â±ÃƒÂ Ã‚Â·Ã‚Â™ÃƒÂ Ã‚Â¶Ã‚Â½ÃƒÂ Ã‚Â·Ã‚Â’ÃƒÂ Ã‚Â¶Ã‚Âº ÃƒÂ Ã‚Â¶Ã‚Â¢ÃƒÂ Ã‚Â·Ã‚Â_x008f_ÃƒÂ Ã‚Â¶Ã‚Â­ÃƒÂ Ã‚Â·Ã‚Â’ÃƒÂ Ã‚Â¶Ã‚Âš ÃƒÂ Ã‚Â·Ã‚Â€ÃƒÂ Ã‚Â·Ã‚Â_x0090_ÃƒÂ Ã‚Â·Ã‚ÂƒÃƒÂ Ã‚Â·Ã‚Â’ ÃƒÂ Ã‚Â·Ã‚Â€ÃƒÂ Ã‚Â¶Ã‚Â±ÃƒÂ Ã‚Â·Ã‚Â_x008f_ÃƒÂ Ã‚Â¶Ã‚Â±ÃƒÂ Ã‚Â·Ã‚ÂŠÃƒÂ Ã‚Â¶Ã‚Â­ÃƒÂ Ã‚Â¶Ã‚Â»ÃƒÂ Ã‚Â¶Ã‚Âº is 0.5014903384368155\n",
      "Similarity measure for place Angammedilla National Park is 0.5006394298466657\n",
      "Similarity measure for place Madunagala Hot Water Spring is 0.49010552340611785\n",
      "Similarity measure for place Minneriya National Park is 0.4301797296692605\n",
      "Similarity measure for place Horton Plains National Park is 0.41963771062506583\n"
     ]
    },
    {
     "data": {
      "text/plain": "                                                  name       lat        lng  \\\n13                              Wilpattu National Park  8.458182  80.051831   \n124                        Madunagala Hot Water Spring  6.253630  80.981711   \n14                             Wasgamuwa National Park  7.753242  80.920774   \n271                          Somawathiya National Park  8.169256  81.207816   \n203  Ussangoda National Park | ÃƒÂ Ã‚Â¶Ã‚Â‹ÃƒÂ Ã‚Â·...  6.098920  80.988343   \n403  Kanneliya National Rain Forest Reserve | ÃƒÂ Ã...  6.257642  80.359621   \n269                         Angammedilla National Park  7.925445  80.920774   \n399                        Madunagala Hot Water Spring  6.253630  80.981711   \n15                             Minneriya National Park  8.015644  80.844670   \n17                         Horton Plains National Park  6.809446  80.802333   \n\n              formatted_address  rating  user_ratings_total  \\\n13                    Sri Lanka     4.7              2708.0   \n124                   Sri Lanka     4.6              1117.0   \n14        Nuwaragala, Sri Lanka     4.3               963.0   \n271  Gangapahalavila, Sri Lanka     4.3               719.0   \n203        Ussangoda, Sri Lanka     4.7               674.0   \n403              Sri, Sri Lanka     4.7               143.0   \n269       Diyabeduma, Sri Lanka     4.1               287.0   \n399                   Sri Lanka     4.5              1151.0   \n15                    Sri Lanka     4.6              1293.0   \n17                    Sri Lanka     4.7              8564.0   \n\n                                        latest_reviews  \n13   ['Wilpattu National Park is a fantastic destin...  \n124  ['Madunagala Hot Water Spring is a hidden gem!...  \n14   ['Wasgamuwa National Park exceeded my expectat...  \n271  ['Somawathiya National Park is a hidden gem in...  \n203  ['Ussangoda National Park was an unexpected ge...  \n403  ['Kanneliya National Rain Forest Reserve is a ...  \n269  ['Angammedilla National Park is a hidden gem! ...  \n399  ['Madunagala Hot Water Spring is a hidden gem!...  \n15   ['Minneriya National Park is a must-visit for ...  \n17   [\\n\"Horton Plains National Park was an incredi...  ",
      "text/html": "<div>\n<style scoped>\n    .dataframe tbody tr th:only-of-type {\n        vertical-align: middle;\n    }\n\n    .dataframe tbody tr th {\n        vertical-align: top;\n    }\n\n    .dataframe thead th {\n        text-align: right;\n    }\n</style>\n<table border=\"1\" class=\"dataframe\">\n  <thead>\n    <tr style=\"text-align: right;\">\n      <th></th>\n      <th>name</th>\n      <th>lat</th>\n      <th>lng</th>\n      <th>formatted_address</th>\n      <th>rating</th>\n      <th>user_ratings_total</th>\n      <th>latest_reviews</th>\n    </tr>\n  </thead>\n  <tbody>\n    <tr>\n      <th>13</th>\n      <td>Wilpattu National Park</td>\n      <td>8.458182</td>\n      <td>80.051831</td>\n      <td>Sri Lanka</td>\n      <td>4.7</td>\n      <td>2708.0</td>\n      <td>['Wilpattu National Park is a fantastic destin...</td>\n    </tr>\n    <tr>\n      <th>124</th>\n      <td>Madunagala Hot Water Spring</td>\n      <td>6.253630</td>\n      <td>80.981711</td>\n      <td>Sri Lanka</td>\n      <td>4.6</td>\n      <td>1117.0</td>\n      <td>['Madunagala Hot Water Spring is a hidden gem!...</td>\n    </tr>\n    <tr>\n      <th>14</th>\n      <td>Wasgamuwa National Park</td>\n      <td>7.753242</td>\n      <td>80.920774</td>\n      <td>Nuwaragala, Sri Lanka</td>\n      <td>4.3</td>\n      <td>963.0</td>\n      <td>['Wasgamuwa National Park exceeded my expectat...</td>\n    </tr>\n    <tr>\n      <th>271</th>\n      <td>Somawathiya National Park</td>\n      <td>8.169256</td>\n      <td>81.207816</td>\n      <td>Gangapahalavila, Sri Lanka</td>\n      <td>4.3</td>\n      <td>719.0</td>\n      <td>['Somawathiya National Park is a hidden gem in...</td>\n    </tr>\n    <tr>\n      <th>203</th>\n      <td>Ussangoda National Park | ÃƒÂ Ã‚Â¶Ã‚Â‹ÃƒÂ Ã‚Â·...</td>\n      <td>6.098920</td>\n      <td>80.988343</td>\n      <td>Ussangoda, Sri Lanka</td>\n      <td>4.7</td>\n      <td>674.0</td>\n      <td>['Ussangoda National Park was an unexpected ge...</td>\n    </tr>\n    <tr>\n      <th>403</th>\n      <td>Kanneliya National Rain Forest Reserve | ÃƒÂ Ã...</td>\n      <td>6.257642</td>\n      <td>80.359621</td>\n      <td>Sri, Sri Lanka</td>\n      <td>4.7</td>\n      <td>143.0</td>\n      <td>['Kanneliya National Rain Forest Reserve is a ...</td>\n    </tr>\n    <tr>\n      <th>269</th>\n      <td>Angammedilla National Park</td>\n      <td>7.925445</td>\n      <td>80.920774</td>\n      <td>Diyabeduma, Sri Lanka</td>\n      <td>4.1</td>\n      <td>287.0</td>\n      <td>['Angammedilla National Park is a hidden gem! ...</td>\n    </tr>\n    <tr>\n      <th>399</th>\n      <td>Madunagala Hot Water Spring</td>\n      <td>6.253630</td>\n      <td>80.981711</td>\n      <td>Sri Lanka</td>\n      <td>4.5</td>\n      <td>1151.0</td>\n      <td>['Madunagala Hot Water Spring is a hidden gem!...</td>\n    </tr>\n    <tr>\n      <th>15</th>\n      <td>Minneriya National Park</td>\n      <td>8.015644</td>\n      <td>80.844670</td>\n      <td>Sri Lanka</td>\n      <td>4.6</td>\n      <td>1293.0</td>\n      <td>['Minneriya National Park is a must-visit for ...</td>\n    </tr>\n    <tr>\n      <th>17</th>\n      <td>Horton Plains National Park</td>\n      <td>6.809446</td>\n      <td>80.802333</td>\n      <td>Sri Lanka</td>\n      <td>4.7</td>\n      <td>8564.0</td>\n      <td>[\\n\"Horton Plains National Park was an incredi...</td>\n    </tr>\n  </tbody>\n</table>\n</div>"
     },
     "execution_count": 31,
     "metadata": {},
     "output_type": "execute_result"
    }
   ],
   "source": [
    "get_recommendations(1)"
   ],
   "metadata": {
    "collapsed": false,
    "ExecuteTime": {
     "end_time": "2024-09-11T17:21:46.665303700Z",
     "start_time": "2024-09-11T17:21:46.388411Z"
    }
   },
   "id": "b40cdb948c84d9b4"
  },
  {
   "cell_type": "code",
   "execution_count": 32,
   "outputs": [
    {
     "name": "stdout",
     "output_type": "stream",
     "text": [
      "User features: ['sea cruises', 'themed parks', 'craft workshops'] ['mirissa beach', 'negombo lagoon', 'batadombalena craft centre', 'jungle beach', 'bentota']\n",
      "Similarity measure for place Jungle Beach is 0.3886152826261924\n",
      "Similarity measure for place Cinnamon Bentota Beach is 0.3229426131361829\n",
      "Similarity measure for place Mullaitivu Beach is 0.3160128484790499\n",
      "Similarity measure for place ÃƒÂ Ã‚Â¶Ã‚ÂšÃƒÂ Ã‚Â·Ã‚Â_x009d_ÃƒÂ Ã‚Â¶Ã‚ÂšÃƒÂ Ã‚Â·Ã‚Â’ÃƒÂ Ã‚Â·Ã‚Â…ÃƒÂ Ã‚Â·Ã‚Â_x008f_ÃƒÂ Ã‚Â¶Ã‚ÂºÃƒÂ Ã‚Â·Ã‚Â’ ÃƒÂ Ã‚Â·Ã‚Â€ÃƒÂ Ã‚Â·Ã‚Â™ÃƒÂ Ã‚Â¶Ã‚Â»ÃƒÂ Ã‚Â·Ã‚Â… |Kokkilai Beach is 0.3159314039754804\n",
      "Similarity measure for place Mirissa is 0.3100937172787711\n",
      "Similarity measure for place Okanda Beach is 0.30807277369679764\n",
      "Similarity measure for place Mirissa Beach is 0.2891311757296992\n",
      "Similarity measure for place SUNDARAM BEACH is 0.2847907431564123\n",
      "Similarity measure for place Thambiluvil Beach is 0.28455347224300714\n",
      "Similarity measure for place Rumassala South Beach is 0.28277748981714806\n"
     ]
    },
    {
     "data": {
      "text/plain": "                                                  name       lat        lng  \\\n33                                        Jungle Beach  6.018694  80.239410   \n66                              Cinnamon Bentota Beach  6.424905  79.996875   \n259                                   Mullaitivu Beach  9.271618  80.819464   \n365  ÃƒÂ Ã‚Â¶Ã‚ÂšÃƒÂ Ã‚Â·Ã‚Â_x009d_ÃƒÂ Ã‚Â¶Ã‚ÂšÃƒÂ ...  9.064594  80.918706   \n46                                             Mirissa  5.948262  80.471587   \n255                                       Okanda Beach  6.650140  81.776187   \n1                                        Mirissa Beach  5.944703  80.459161   \n339                                     SUNDARAM BEACH  9.622718  80.005239   \n141                                  Thambiluvil Beach  7.125067  81.857297   \n182                              Rumassala South Beach  6.018463  80.235487   \n\n           formatted_address  rating  user_ratings_total  \\\n33   Jungle Beach, Sri Lanka     4.6              2395.0   \n66       Bentota , Sri Lanka     4.9              3929.0   \n259    Mullaitivu, Sri Lanka     4.1               708.0   \n365                Sri Lanka     3.9               140.0   \n46        Mirissa, Sri Lanka     NaN                 NaN   \n255        Okanda, Sri Lanka     4.0               154.0   \n1         Mirissa, Sri Lanka     4.6              1748.0   \n339        Jaffna, Sri Lanka     4.8                76.0   \n141   Thambiluvil, Sri Lanka     4.8                88.0   \n182     Unawatuna, Sri Lanka     5.0               267.0   \n\n                                        latest_reviews  \n33   ['Jungle Beach is a hidden gem! The trek to ge...  \n66   ['Cinnamon Bentota Beach was a delightful esca...  \n259  ['Mullaitivu Beach is a hidden gem! The soft s...  \n365  ['Kokkilai Beach is a hidden gem! The tranquil...  \n46   ['I recently went on a sea cruise in Mirissa, ...  \n255  ['Okanda Beach is a hidden gem on the Sri Lank...  \n1    ['Mirissa Beach is truly a gem on Sri LankaÃ¢Â...  \n339  ['Sundaram Beach is an absolute gem! The prist...  \n141  ['Thambiluvil Beach is an absolute gem! The pr...  \n182  ['Rumassala South Beach is a serene spot that ...  ",
      "text/html": "<div>\n<style scoped>\n    .dataframe tbody tr th:only-of-type {\n        vertical-align: middle;\n    }\n\n    .dataframe tbody tr th {\n        vertical-align: top;\n    }\n\n    .dataframe thead th {\n        text-align: right;\n    }\n</style>\n<table border=\"1\" class=\"dataframe\">\n  <thead>\n    <tr style=\"text-align: right;\">\n      <th></th>\n      <th>name</th>\n      <th>lat</th>\n      <th>lng</th>\n      <th>formatted_address</th>\n      <th>rating</th>\n      <th>user_ratings_total</th>\n      <th>latest_reviews</th>\n    </tr>\n  </thead>\n  <tbody>\n    <tr>\n      <th>33</th>\n      <td>Jungle Beach</td>\n      <td>6.018694</td>\n      <td>80.239410</td>\n      <td>Jungle Beach, Sri Lanka</td>\n      <td>4.6</td>\n      <td>2395.0</td>\n      <td>['Jungle Beach is a hidden gem! The trek to ge...</td>\n    </tr>\n    <tr>\n      <th>66</th>\n      <td>Cinnamon Bentota Beach</td>\n      <td>6.424905</td>\n      <td>79.996875</td>\n      <td>Bentota , Sri Lanka</td>\n      <td>4.9</td>\n      <td>3929.0</td>\n      <td>['Cinnamon Bentota Beach was a delightful esca...</td>\n    </tr>\n    <tr>\n      <th>259</th>\n      <td>Mullaitivu Beach</td>\n      <td>9.271618</td>\n      <td>80.819464</td>\n      <td>Mullaitivu, Sri Lanka</td>\n      <td>4.1</td>\n      <td>708.0</td>\n      <td>['Mullaitivu Beach is a hidden gem! The soft s...</td>\n    </tr>\n    <tr>\n      <th>365</th>\n      <td>ÃƒÂ Ã‚Â¶Ã‚ÂšÃƒÂ Ã‚Â·Ã‚Â_x009d_ÃƒÂ Ã‚Â¶Ã‚ÂšÃƒÂ ...</td>\n      <td>9.064594</td>\n      <td>80.918706</td>\n      <td>Sri Lanka</td>\n      <td>3.9</td>\n      <td>140.0</td>\n      <td>['Kokkilai Beach is a hidden gem! The tranquil...</td>\n    </tr>\n    <tr>\n      <th>46</th>\n      <td>Mirissa</td>\n      <td>5.948262</td>\n      <td>80.471587</td>\n      <td>Mirissa, Sri Lanka</td>\n      <td>NaN</td>\n      <td>NaN</td>\n      <td>['I recently went on a sea cruise in Mirissa, ...</td>\n    </tr>\n    <tr>\n      <th>255</th>\n      <td>Okanda Beach</td>\n      <td>6.650140</td>\n      <td>81.776187</td>\n      <td>Okanda, Sri Lanka</td>\n      <td>4.0</td>\n      <td>154.0</td>\n      <td>['Okanda Beach is a hidden gem on the Sri Lank...</td>\n    </tr>\n    <tr>\n      <th>1</th>\n      <td>Mirissa Beach</td>\n      <td>5.944703</td>\n      <td>80.459161</td>\n      <td>Mirissa, Sri Lanka</td>\n      <td>4.6</td>\n      <td>1748.0</td>\n      <td>['Mirissa Beach is truly a gem on Sri LankaÃ¢Â...</td>\n    </tr>\n    <tr>\n      <th>339</th>\n      <td>SUNDARAM BEACH</td>\n      <td>9.622718</td>\n      <td>80.005239</td>\n      <td>Jaffna, Sri Lanka</td>\n      <td>4.8</td>\n      <td>76.0</td>\n      <td>['Sundaram Beach is an absolute gem! The prist...</td>\n    </tr>\n    <tr>\n      <th>141</th>\n      <td>Thambiluvil Beach</td>\n      <td>7.125067</td>\n      <td>81.857297</td>\n      <td>Thambiluvil, Sri Lanka</td>\n      <td>4.8</td>\n      <td>88.0</td>\n      <td>['Thambiluvil Beach is an absolute gem! The pr...</td>\n    </tr>\n    <tr>\n      <th>182</th>\n      <td>Rumassala South Beach</td>\n      <td>6.018463</td>\n      <td>80.235487</td>\n      <td>Unawatuna, Sri Lanka</td>\n      <td>5.0</td>\n      <td>267.0</td>\n      <td>['Rumassala South Beach is a serene spot that ...</td>\n    </tr>\n  </tbody>\n</table>\n</div>"
     },
     "execution_count": 32,
     "metadata": {},
     "output_type": "execute_result"
    }
   ],
   "source": [
    "get_recommendations(2)"
   ],
   "metadata": {
    "collapsed": false,
    "ExecuteTime": {
     "end_time": "2024-09-11T17:21:46.666305400Z",
     "start_time": "2024-09-11T17:21:46.417982400Z"
    }
   },
   "id": "cf2083e6c81f2c7d"
  },
  {
   "cell_type": "code",
   "execution_count": 33,
   "outputs": [
    {
     "name": "stdout",
     "output_type": "stream",
     "text": [
      "User features: ['fishing', 'hot springs', 'sailing'] ['maha oya hot water springs', 'colombo port city', 'negombo lagoon', 'trincomalee harbour', 'kalpitiya']\n",
      "Similarity measure for place Maha Oya Hot Water Springs is 0.7310946615306441\n",
      "Similarity measure for place Madunagala Hot Water Spring is 0.5216032989861011\n",
      "Similarity measure for place Kanniya Hot Water Springs is 0.5195136492959672\n",
      "Similarity measure for place Madunagala Hot Water Spring is 0.4662498688208775\n",
      "Similarity measure for place Port City Colombo is 0.3168452244428236\n",
      "Similarity measure for place Kalpitiya Lagoon is 0.3134944464099639\n",
      "Similarity measure for place Jayanthi Wewa Hot Spring is 0.29055218543131034\n",
      "Similarity measure for place Ruwanweli Maha Seya is 0.2876554196123194\n",
      "Similarity measure for place Nanu Oya Water Falls, Nanu Oya is 0.2859008515128844\n",
      "Similarity measure for place Negombo Lagoon is 0.2749945788140384\n"
     ]
    },
    {
     "data": {
      "text/plain": "                               name       lat        lng  \\\n123      Maha Oya Hot Water Springs  7.552181  81.353041   \n399     Madunagala Hot Water Spring  6.253630  80.981711   \n122       Kanniya Hot Water Springs  8.604498  81.171338   \n124     Madunagala Hot Water Spring  6.253630  80.981711   \n47                Port City Colombo  6.937804  79.836843   \n74                 Kalpitiya Lagoon  8.241272  79.744194   \n312        Jayanthi Wewa Hot Spring  7.140848  81.552397   \n146             Ruwanweli Maha Seya  8.349893  80.396556   \n264  Nanu Oya Water Falls, Nanu Oya  6.945153  80.738782   \n45                   Negombo Lagoon  7.158004  79.846480   \n\n                         formatted_address  rating  user_ratings_total  \\\n123  Maha Oya Hot Water Springs, Sri Lanka     4.3               180.0   \n399                              Sri Lanka     4.5              1151.0   \n122                 Trincomalee, Sri Lanka     4.3              2538.0   \n124                              Sri Lanka     4.6              1117.0   \n47            Port City Colombo, Sri Lanka     NaN                 NaN   \n74             Kalpitiya Lagoon, Sri Lanka     4.8               130.0   \n312                  Wadinagala, Sri Lanka     4.2                56.0   \n146                Anuradhapura, Sri Lanka     4.6             15142.0   \n264                     Nanuoya, Sri Lanka     4.8               507.0   \n45               Negombo Lagoon, Sri Lanka     4.5               268.0   \n\n                                        latest_reviews  \n123  ['Maha Oya Hot Water Springs is a hidden gem! ...  \n399  ['Madunagala Hot Water Spring is a hidden gem!...  \n122  ['Kanniya Hot Water Springs is a delightful sp...  \n124  ['Madunagala Hot Water Spring is a hidden gem!...  \n47   ['Port City Colombo has a lot of potential, bu...  \n74   ['Kalpitiya Lagoon is a fantastic destination ...  \n312  ['Jayanthi Wewa Hot Spring was a delightful su...  \n146  ['Visiting Ruwanweli Maha Seya was a highlight...  \n264  ['Nanu Oya Water Falls is an absolute gem! The...  \n45   ['Negombo Lagoon was a delightful escape! We t...  ",
      "text/html": "<div>\n<style scoped>\n    .dataframe tbody tr th:only-of-type {\n        vertical-align: middle;\n    }\n\n    .dataframe tbody tr th {\n        vertical-align: top;\n    }\n\n    .dataframe thead th {\n        text-align: right;\n    }\n</style>\n<table border=\"1\" class=\"dataframe\">\n  <thead>\n    <tr style=\"text-align: right;\">\n      <th></th>\n      <th>name</th>\n      <th>lat</th>\n      <th>lng</th>\n      <th>formatted_address</th>\n      <th>rating</th>\n      <th>user_ratings_total</th>\n      <th>latest_reviews</th>\n    </tr>\n  </thead>\n  <tbody>\n    <tr>\n      <th>123</th>\n      <td>Maha Oya Hot Water Springs</td>\n      <td>7.552181</td>\n      <td>81.353041</td>\n      <td>Maha Oya Hot Water Springs, Sri Lanka</td>\n      <td>4.3</td>\n      <td>180.0</td>\n      <td>['Maha Oya Hot Water Springs is a hidden gem! ...</td>\n    </tr>\n    <tr>\n      <th>399</th>\n      <td>Madunagala Hot Water Spring</td>\n      <td>6.253630</td>\n      <td>80.981711</td>\n      <td>Sri Lanka</td>\n      <td>4.5</td>\n      <td>1151.0</td>\n      <td>['Madunagala Hot Water Spring is a hidden gem!...</td>\n    </tr>\n    <tr>\n      <th>122</th>\n      <td>Kanniya Hot Water Springs</td>\n      <td>8.604498</td>\n      <td>81.171338</td>\n      <td>Trincomalee, Sri Lanka</td>\n      <td>4.3</td>\n      <td>2538.0</td>\n      <td>['Kanniya Hot Water Springs is a delightful sp...</td>\n    </tr>\n    <tr>\n      <th>124</th>\n      <td>Madunagala Hot Water Spring</td>\n      <td>6.253630</td>\n      <td>80.981711</td>\n      <td>Sri Lanka</td>\n      <td>4.6</td>\n      <td>1117.0</td>\n      <td>['Madunagala Hot Water Spring is a hidden gem!...</td>\n    </tr>\n    <tr>\n      <th>47</th>\n      <td>Port City Colombo</td>\n      <td>6.937804</td>\n      <td>79.836843</td>\n      <td>Port City Colombo, Sri Lanka</td>\n      <td>NaN</td>\n      <td>NaN</td>\n      <td>['Port City Colombo has a lot of potential, bu...</td>\n    </tr>\n    <tr>\n      <th>74</th>\n      <td>Kalpitiya Lagoon</td>\n      <td>8.241272</td>\n      <td>79.744194</td>\n      <td>Kalpitiya Lagoon, Sri Lanka</td>\n      <td>4.8</td>\n      <td>130.0</td>\n      <td>['Kalpitiya Lagoon is a fantastic destination ...</td>\n    </tr>\n    <tr>\n      <th>312</th>\n      <td>Jayanthi Wewa Hot Spring</td>\n      <td>7.140848</td>\n      <td>81.552397</td>\n      <td>Wadinagala, Sri Lanka</td>\n      <td>4.2</td>\n      <td>56.0</td>\n      <td>['Jayanthi Wewa Hot Spring was a delightful su...</td>\n    </tr>\n    <tr>\n      <th>146</th>\n      <td>Ruwanweli Maha Seya</td>\n      <td>8.349893</td>\n      <td>80.396556</td>\n      <td>Anuradhapura, Sri Lanka</td>\n      <td>4.6</td>\n      <td>15142.0</td>\n      <td>['Visiting Ruwanweli Maha Seya was a highlight...</td>\n    </tr>\n    <tr>\n      <th>264</th>\n      <td>Nanu Oya Water Falls, Nanu Oya</td>\n      <td>6.945153</td>\n      <td>80.738782</td>\n      <td>Nanuoya, Sri Lanka</td>\n      <td>4.8</td>\n      <td>507.0</td>\n      <td>['Nanu Oya Water Falls is an absolute gem! The...</td>\n    </tr>\n    <tr>\n      <th>45</th>\n      <td>Negombo Lagoon</td>\n      <td>7.158004</td>\n      <td>79.846480</td>\n      <td>Negombo Lagoon, Sri Lanka</td>\n      <td>4.5</td>\n      <td>268.0</td>\n      <td>['Negombo Lagoon was a delightful escape! We t...</td>\n    </tr>\n  </tbody>\n</table>\n</div>"
     },
     "execution_count": 33,
     "metadata": {},
     "output_type": "execute_result"
    }
   ],
   "source": [
    "get_recommendations(3)"
   ],
   "metadata": {
    "collapsed": false,
    "ExecuteTime": {
     "end_time": "2024-09-11T17:21:46.746525600Z",
     "start_time": "2024-09-11T17:21:46.423116300Z"
    }
   },
   "id": "2074af2f1d6d7a3a"
  },
  {
   "cell_type": "code",
   "execution_count": 34,
   "outputs": [
    {
     "name": "stdout",
     "output_type": "stream",
     "text": [
      "User features: ['history tours', 'sailing', 'literary tours'] ['negombo lagoon', 'colombo port city', 'galle dutch fort', 'sigiriya', 'jaffna public library']\n",
      "Similarity measure for place Jaffna Public Library is 0.5285583991947298\n",
      "Similarity measure for place Dutch Fort - Jaffna is 0.47331434369213193\n",
      "Similarity measure for place Galle Dutch Fort is 0.45502195415155994\n",
      "Similarity measure for place Black Galle Fort - Zwart Bastion is 0.3719584909147525\n",
      "Similarity measure for place Fort Entrance (Old Gate) is 0.3600323025718844\n",
      "Similarity measure for place Batticaloa Dutch Fort is 0.3545358109558287\n",
      "Similarity measure for place Dutch Reformed Church, Matara is 0.35427947989615083\n",
      "Similarity measure for place Our Lady of Refuge (OLR) Church, Jaffna | ÃƒÂ Ã‚Â®Ã‚Â…ÃƒÂ Ã‚Â®Ã‚ÂŸÃƒÂ Ã‚Â¯Ã‚ÂˆÃƒÂ Ã‚Â®Ã‚Â•ÃƒÂ Ã‚Â¯Ã‚Â_x008d_ÃƒÂ Ã‚Â®Ã‚Â•ÃƒÂ Ã‚Â®Ã‚Â² ÃƒÂ Ã‚Â®Ã‚Â®ÃƒÂ Ã‚Â®Ã‚Â¾ÃƒÂ Ã‚Â®Ã‚Â¤ÃƒÂ Ã‚Â®Ã‚Â¾ ÃƒÂ Ã‚Â®Ã‚Â•ÃƒÂ Ã‚Â¯Ã‚Â‹ÃƒÂ Ã‚Â®Ã‚ÂµÃƒÂ Ã‚Â®Ã‚Â¿ÃƒÂ Ã‚Â®Ã‚Â²ÃƒÂ Ã‚Â¯Ã‚Â_x008d_ | ÃƒÂ Ã‚Â¶Ã‚Â…ÃƒÂ Ã‚Â¶Ã‚Â©ÃƒÂ Ã‚Â¶Ã‚ÂšÃƒÂ Ã‚Â·Ã‚ÂŠÃƒÂ Ã‚Â¶Ã‚ÂšÃƒÂ Ã‚Â¶Ã‚Â½ ÃƒÂ Ã‚Â¶Ã‚Â¸ÃƒÂ Ã‚Â·Ã‚Â_x008f_ÃƒÂ Ã‚Â¶Ã‚Â­ÃƒÂ Ã‚Â·Ã‚Â_x008f_ ÃƒÂ Ã‚Â¶Ã‚Â¯ÃƒÂ Ã‚Â·Ã‚ÂšÃƒÂ Ã‚Â·Ã‚Â€ÃƒÂ Ã‚Â·Ã‚ÂƒÃƒÂ Ã‚Â·Ã‚ÂŠÃƒÂ Ã‚Â¶Ã‚Â®ÃƒÂ Ã‚Â·Ã‚Â_x008f_ÃƒÂ Ã‚Â¶Ã‚Â±ÃƒÂ Ã‚Â¶Ã‚Âº is 0.35147910491530676\n",
      "Similarity measure for place Galle Fort Attractions and Jumpers Sri Lanka is 0.34385509033814904\n",
      "Similarity measure for place Mannar Dutch Fort is 0.34083287746840024\n"
     ]
    },
    {
     "data": {
      "text/plain": "                                                  name       lat        lng  \\\n53                               Jaffna Public Library  9.662128  80.011731   \n211                                Dutch Fort - Jaffna  9.662031  80.008425   \n8                                     Galle Dutch Fort  6.030459  80.215021   \n194                   Black Galle Fort - Zwart Bastion  6.029129  80.219292   \n195                           Fort Entrance (Old Gate)  6.028114  80.218447   \n165                              Batticaloa Dutch Fort  7.711813  81.702124   \n178                      Dutch Reformed Church, Matara  5.944788  80.546927   \n336  Our Lady of Refuge (OLR) Church, Jaffna | ÃƒÂ ...  9.663146  80.018255   \n192       Galle Fort Attractions and Jumpers Sri Lanka  6.030464  80.215024   \n242                                  Mannar Dutch Fort  8.975856  79.916996   \n\n                                     formatted_address  rating  \\\n53                                   Jaffna, Sri Lanka     4.9   \n211                                  Jaffna, Sri Lanka     4.7   \n8                               Galle 80000, Sri Lanka     4.6   \n194                                   Galle, Sri Lanka     4.3   \n195  ÃƒÂ Ã‚Â¶Ã‚Â¸ÃƒÂ Ã‚Â·Ã‚Â_x008f_ÃƒÂ Ã‚Â¶Ã‚Â­ÃƒÂ ...     4.8   \n165                              Batticaloa, Sri Lanka     4.0   \n178                                  Matara, Sri Lanka     4.7   \n336                                  Jaffna, Sri Lanka     4.3   \n192                                   Galle, Sri Lanka     4.7   \n242                                  Mannar, Sri Lanka     4.4   \n\n     user_ratings_total                                     latest_reviews  \n53                575.0  ['The Jaffna Public Library is a beautiful hom...  \n211              3672.0  ['The Dutch Fort in Jaffna is a splendid testa...  \n8               16934.0  [\"Galle Dutch Fort is a stunning blend of hist...  \n194               243.0  ['The Black Galle Fort, or Zwart Bastion, is a...  \n195               231.0  ['The Fort Entrance, or Old Gate, is a captiva...  \n165              1189.0  ['The Batticaloa Dutch Fort is a hidden gem! I...  \n178                37.0  ['The Dutch Reformed Church in Matara is a hid...  \n336               160.0  ['Visiting Our Lady of Refuge Church in Jaffna...  \n192              1328.0  ['Galle Fort is an enchanting blend of history...  \n242               817.0  ['Visiting Mannar Dutch Fort was a delightful ...  ",
      "text/html": "<div>\n<style scoped>\n    .dataframe tbody tr th:only-of-type {\n        vertical-align: middle;\n    }\n\n    .dataframe tbody tr th {\n        vertical-align: top;\n    }\n\n    .dataframe thead th {\n        text-align: right;\n    }\n</style>\n<table border=\"1\" class=\"dataframe\">\n  <thead>\n    <tr style=\"text-align: right;\">\n      <th></th>\n      <th>name</th>\n      <th>lat</th>\n      <th>lng</th>\n      <th>formatted_address</th>\n      <th>rating</th>\n      <th>user_ratings_total</th>\n      <th>latest_reviews</th>\n    </tr>\n  </thead>\n  <tbody>\n    <tr>\n      <th>53</th>\n      <td>Jaffna Public Library</td>\n      <td>9.662128</td>\n      <td>80.011731</td>\n      <td>Jaffna, Sri Lanka</td>\n      <td>4.9</td>\n      <td>575.0</td>\n      <td>['The Jaffna Public Library is a beautiful hom...</td>\n    </tr>\n    <tr>\n      <th>211</th>\n      <td>Dutch Fort - Jaffna</td>\n      <td>9.662031</td>\n      <td>80.008425</td>\n      <td>Jaffna, Sri Lanka</td>\n      <td>4.7</td>\n      <td>3672.0</td>\n      <td>['The Dutch Fort in Jaffna is a splendid testa...</td>\n    </tr>\n    <tr>\n      <th>8</th>\n      <td>Galle Dutch Fort</td>\n      <td>6.030459</td>\n      <td>80.215021</td>\n      <td>Galle 80000, Sri Lanka</td>\n      <td>4.6</td>\n      <td>16934.0</td>\n      <td>[\"Galle Dutch Fort is a stunning blend of hist...</td>\n    </tr>\n    <tr>\n      <th>194</th>\n      <td>Black Galle Fort - Zwart Bastion</td>\n      <td>6.029129</td>\n      <td>80.219292</td>\n      <td>Galle, Sri Lanka</td>\n      <td>4.3</td>\n      <td>243.0</td>\n      <td>['The Black Galle Fort, or Zwart Bastion, is a...</td>\n    </tr>\n    <tr>\n      <th>195</th>\n      <td>Fort Entrance (Old Gate)</td>\n      <td>6.028114</td>\n      <td>80.218447</td>\n      <td>ÃƒÂ Ã‚Â¶Ã‚Â¸ÃƒÂ Ã‚Â·Ã‚Â_x008f_ÃƒÂ Ã‚Â¶Ã‚Â­ÃƒÂ ...</td>\n      <td>4.8</td>\n      <td>231.0</td>\n      <td>['The Fort Entrance, or Old Gate, is a captiva...</td>\n    </tr>\n    <tr>\n      <th>165</th>\n      <td>Batticaloa Dutch Fort</td>\n      <td>7.711813</td>\n      <td>81.702124</td>\n      <td>Batticaloa, Sri Lanka</td>\n      <td>4.0</td>\n      <td>1189.0</td>\n      <td>['The Batticaloa Dutch Fort is a hidden gem! I...</td>\n    </tr>\n    <tr>\n      <th>178</th>\n      <td>Dutch Reformed Church, Matara</td>\n      <td>5.944788</td>\n      <td>80.546927</td>\n      <td>Matara, Sri Lanka</td>\n      <td>4.7</td>\n      <td>37.0</td>\n      <td>['The Dutch Reformed Church in Matara is a hid...</td>\n    </tr>\n    <tr>\n      <th>336</th>\n      <td>Our Lady of Refuge (OLR) Church, Jaffna | ÃƒÂ ...</td>\n      <td>9.663146</td>\n      <td>80.018255</td>\n      <td>Jaffna, Sri Lanka</td>\n      <td>4.3</td>\n      <td>160.0</td>\n      <td>['Visiting Our Lady of Refuge Church in Jaffna...</td>\n    </tr>\n    <tr>\n      <th>192</th>\n      <td>Galle Fort Attractions and Jumpers Sri Lanka</td>\n      <td>6.030464</td>\n      <td>80.215024</td>\n      <td>Galle, Sri Lanka</td>\n      <td>4.7</td>\n      <td>1328.0</td>\n      <td>['Galle Fort is an enchanting blend of history...</td>\n    </tr>\n    <tr>\n      <th>242</th>\n      <td>Mannar Dutch Fort</td>\n      <td>8.975856</td>\n      <td>79.916996</td>\n      <td>Mannar, Sri Lanka</td>\n      <td>4.4</td>\n      <td>817.0</td>\n      <td>['Visiting Mannar Dutch Fort was a delightful ...</td>\n    </tr>\n  </tbody>\n</table>\n</div>"
     },
     "execution_count": 34,
     "metadata": {},
     "output_type": "execute_result"
    }
   ],
   "source": [
    "get_recommendations(4)"
   ],
   "metadata": {
    "collapsed": false,
    "ExecuteTime": {
     "end_time": "2024-09-11T17:21:46.868505Z",
     "start_time": "2024-09-11T17:21:46.440335200Z"
    }
   },
   "id": "587290137c96386a"
  },
  {
   "cell_type": "code",
   "execution_count": 35,
   "outputs": [
    {
     "name": "stdout",
     "output_type": "stream",
     "text": [
      "User features: ['public art installations', 'temple pilgrimages', 'architecture tours'] ['colombo', 'sigiriya', 'mihintale', 'galle dutch fort', 'dambulla royal cave temple and golden temple']\n",
      "Similarity measure for place Dambulla Royal Cave Temple and Golden Temple is 0.6016178877728274\n",
      "Similarity measure for place Dambulla Royal Cave Temple and Golden Temple is 0.574573689545917\n",
      "Similarity measure for place Manelwatta Temple is 0.569871433691222\n",
      "Similarity measure for place Korathota Royal Temple is 0.5345759993538072\n",
      "Similarity measure for place ÃƒÂ Ã‚Â¶Ã‚Â´ÃƒÂ Ã‚Â¶Ã‚Â»ÃƒÂ Ã‚Â·Ã‚Â™ÃƒÂ Ã‚Â·Ã‚Â€ÃƒÂ Ã‚Â·Ã‚Â’ ÃƒÂ Ã‚Â¶Ã‚Â¯ÃƒÂ Ã‚Â·Ã‚Â–ÃƒÂ Ã‚Â·Ã‚Â€ ÃƒÂ Ã‚Â·Ã‚Â€ÃƒÂ Ã‚Â·Ã‚Â’ÃƒÂ Ã‚Â·Ã‚Â„ÃƒÂ Ã‚Â·Ã‚Â_x008f_ÃƒÂ Ã‚Â¶Ã‚Â»ÃƒÂ Ã‚Â·Ã‚ÂƒÃƒÂ Ã‚Â·Ã‚ÂŠÃƒÂ Ã‚Â¶Ã‚Â®ÃƒÂ Ã‚Â·Ã‚Â_x008f_ÃƒÂ Ã‚Â¶Ã‚Â±ÃƒÂ Ã‚Â¶Ã‚Âº - Parewi Duwa Temple is 0.5070119432729592\n",
      "Similarity measure for place Sambodhi Pagoda Temple is 0.5009065298645088\n",
      "Similarity measure for place Single Tree Hill is 0.47815438529529614\n",
      "Similarity measure for place ParappudÃƒÂ…Ã‚Â«va Island Temple is 0.47252298802284187\n",
      "Similarity measure for place SrÃƒÂ„Ã‚Â« VijayÃƒÂ„Ã‚Â_x0081_rÃƒÂ„Ã‚Â_x0081_ma Ancient Temple is 0.4518879790274994\n",
      "Similarity measure for place Swarnagiri Maha Viharaya / Single Tree Temple is 0.443851785645759\n"
     ]
    },
    {
     "data": {
      "text/plain": "                                                  name       lat        lng  \\\n395       Dambulla Royal Cave Temple and Golden Temple  7.854914  80.650570   \n22        Dambulla Royal Cave Temple and Golden Temple  7.854914  80.650570   \n342                                  Manelwatta Temple  6.944921  79.951361   \n330                             Korathota Royal Temple  6.915038  80.002135   \n187  ÃƒÂ Ã‚Â¶Ã‚Â´ÃƒÂ Ã‚Â¶Ã‚Â»ÃƒÂ Ã‚Â·Ã‚Â™ÃƒÂ Ã‚Â·Ã‚...  5.941381  80.549255   \n329                             Sambodhi Pagoda Temple  6.938393  79.842028   \n266                                   Single Tree Hill  6.957785  80.762501   \n183                   ParappudÃƒÂ…Ã‚Â«va Island Temple  6.111568  80.138342   \n181  SrÃƒÂ„Ã‚Â« VijayÃƒÂ„Ã‚Â_x0081_rÃƒÂ„Ã‚Â_x0081_m...  6.245269  80.057509   \n267      Swarnagiri Maha Viharaya / Single Tree Temple  6.955056  80.766179   \n\n           formatted_address  rating  user_ratings_total  \\\n395      Dambulla, Sri Lanka     4.3             11690.0   \n22       Dambulla, Sri Lanka     4.2             11598.0   \n342                Sri Lanka     4.8              1673.0   \n330                Sri Lanka     4.8              1226.0   \n187        Matara, Sri Lanka     4.4               947.0   \n329      Colombo , Sri Lanka     4.8               394.0   \n266  Nuwara Eliya, Sri Lanka     4.3               629.0   \n183      Rathgama, Sri Lanka     4.5               136.0   \n181   Ambalangoda, Sri Lanka     4.8               239.0   \n267  Nuwara Eliya, Sri Lanka     4.5               372.0   \n\n                                        latest_reviews  \n395  ['Dambulla Royal Cave Temple is a must-visit f...  \n22   ['The Dambulla Royal Cave Temple is a breathta...  \n342  ['Visiting Manelwatta Temple was a serene expe...  \n330  ['Korathota Royal Temple is a hidden gem! The ...  \n187  ['Visiting Paravi Duwa Temple was a delightful...  \n329  ['Sambodhi Pagoda Temple is a hidden gem! The ...  \n266  ['Single Tree Hill offers breathtaking panoram...  \n183  ['ParappudÃƒÂ¥va Island Temple is a hidden gem...  \n181  ['Visiting SrÃƒÂ¯ VijayÃ„Â_x0081_rÃ„Â_x0081_ma...  \n267  ['Swarnagiri Maha Viharaya is a hidden gem! Th...  ",
      "text/html": "<div>\n<style scoped>\n    .dataframe tbody tr th:only-of-type {\n        vertical-align: middle;\n    }\n\n    .dataframe tbody tr th {\n        vertical-align: top;\n    }\n\n    .dataframe thead th {\n        text-align: right;\n    }\n</style>\n<table border=\"1\" class=\"dataframe\">\n  <thead>\n    <tr style=\"text-align: right;\">\n      <th></th>\n      <th>name</th>\n      <th>lat</th>\n      <th>lng</th>\n      <th>formatted_address</th>\n      <th>rating</th>\n      <th>user_ratings_total</th>\n      <th>latest_reviews</th>\n    </tr>\n  </thead>\n  <tbody>\n    <tr>\n      <th>395</th>\n      <td>Dambulla Royal Cave Temple and Golden Temple</td>\n      <td>7.854914</td>\n      <td>80.650570</td>\n      <td>Dambulla, Sri Lanka</td>\n      <td>4.3</td>\n      <td>11690.0</td>\n      <td>['Dambulla Royal Cave Temple is a must-visit f...</td>\n    </tr>\n    <tr>\n      <th>22</th>\n      <td>Dambulla Royal Cave Temple and Golden Temple</td>\n      <td>7.854914</td>\n      <td>80.650570</td>\n      <td>Dambulla, Sri Lanka</td>\n      <td>4.2</td>\n      <td>11598.0</td>\n      <td>['The Dambulla Royal Cave Temple is a breathta...</td>\n    </tr>\n    <tr>\n      <th>342</th>\n      <td>Manelwatta Temple</td>\n      <td>6.944921</td>\n      <td>79.951361</td>\n      <td>Sri Lanka</td>\n      <td>4.8</td>\n      <td>1673.0</td>\n      <td>['Visiting Manelwatta Temple was a serene expe...</td>\n    </tr>\n    <tr>\n      <th>330</th>\n      <td>Korathota Royal Temple</td>\n      <td>6.915038</td>\n      <td>80.002135</td>\n      <td>Sri Lanka</td>\n      <td>4.8</td>\n      <td>1226.0</td>\n      <td>['Korathota Royal Temple is a hidden gem! The ...</td>\n    </tr>\n    <tr>\n      <th>187</th>\n      <td>ÃƒÂ Ã‚Â¶Ã‚Â´ÃƒÂ Ã‚Â¶Ã‚Â»ÃƒÂ Ã‚Â·Ã‚Â™ÃƒÂ Ã‚Â·Ã‚...</td>\n      <td>5.941381</td>\n      <td>80.549255</td>\n      <td>Matara, Sri Lanka</td>\n      <td>4.4</td>\n      <td>947.0</td>\n      <td>['Visiting Paravi Duwa Temple was a delightful...</td>\n    </tr>\n    <tr>\n      <th>329</th>\n      <td>Sambodhi Pagoda Temple</td>\n      <td>6.938393</td>\n      <td>79.842028</td>\n      <td>Colombo , Sri Lanka</td>\n      <td>4.8</td>\n      <td>394.0</td>\n      <td>['Sambodhi Pagoda Temple is a hidden gem! The ...</td>\n    </tr>\n    <tr>\n      <th>266</th>\n      <td>Single Tree Hill</td>\n      <td>6.957785</td>\n      <td>80.762501</td>\n      <td>Nuwara Eliya, Sri Lanka</td>\n      <td>4.3</td>\n      <td>629.0</td>\n      <td>['Single Tree Hill offers breathtaking panoram...</td>\n    </tr>\n    <tr>\n      <th>183</th>\n      <td>ParappudÃƒÂ…Ã‚Â«va Island Temple</td>\n      <td>6.111568</td>\n      <td>80.138342</td>\n      <td>Rathgama, Sri Lanka</td>\n      <td>4.5</td>\n      <td>136.0</td>\n      <td>['ParappudÃƒÂ¥va Island Temple is a hidden gem...</td>\n    </tr>\n    <tr>\n      <th>181</th>\n      <td>SrÃƒÂ„Ã‚Â« VijayÃƒÂ„Ã‚Â_x0081_rÃƒÂ„Ã‚Â_x0081_m...</td>\n      <td>6.245269</td>\n      <td>80.057509</td>\n      <td>Ambalangoda, Sri Lanka</td>\n      <td>4.8</td>\n      <td>239.0</td>\n      <td>['Visiting SrÃƒÂ¯ VijayÃ„Â_x0081_rÃ„Â_x0081_ma...</td>\n    </tr>\n    <tr>\n      <th>267</th>\n      <td>Swarnagiri Maha Viharaya / Single Tree Temple</td>\n      <td>6.955056</td>\n      <td>80.766179</td>\n      <td>Nuwara Eliya, Sri Lanka</td>\n      <td>4.5</td>\n      <td>372.0</td>\n      <td>['Swarnagiri Maha Viharaya is a hidden gem! Th...</td>\n    </tr>\n  </tbody>\n</table>\n</div>"
     },
     "execution_count": 35,
     "metadata": {},
     "output_type": "execute_result"
    }
   ],
   "source": [
    "get_recommendations(5)"
   ],
   "metadata": {
    "collapsed": false,
    "ExecuteTime": {
     "end_time": "2024-09-11T17:21:46.869503900Z",
     "start_time": "2024-09-11T17:21:46.455984700Z"
    }
   },
   "id": "271c06e6157ebe96"
  },
  {
   "cell_type": "code",
   "execution_count": 36,
   "outputs": [
    {
     "name": "stdout",
     "output_type": "stream",
     "text": [
      "User features: ['fishing', 'golfing', 'historical monuments'] ['hikkaduwa', 'kalpitiya', 'polonnaruwa', 'negombo lagoon', 'nuwara eliya golf club']\n",
      "Similarity measure for place Nuwara Eliya Golf Club is 0.5623215404784443\n",
      "Similarity measure for place Royal Colombo Golf Club is 0.41607514437174287\n",
      "Similarity measure for place Kalpitiya Lagoon is 0.3677508569819012\n",
      "Similarity measure for place Nuwara Eliya Mountains view point is 0.31178162578745117\n",
      "Similarity measure for place Polonnaruwa is 0.2877315701719622\n",
      "Similarity measure for place Panakala Lagoon is 0.2839185622853645\n",
      "Similarity measure for place Nuwara Eliya is 0.2779983999278214\n",
      "Similarity measure for place Kalpitiya is 0.26814452544817974\n",
      "Similarity measure for place Batticaloa Lagoon is 0.2656503137878814\n",
      "Similarity measure for place Negombo Lagoon is 0.24468269018960098\n"
     ]
    },
    {
     "data": {
      "text/plain": "                                  name       lat        lng  \\\n64              Nuwara Eliya Golf Club  6.971737  80.765731   \n65             Royal Colombo Golf Club  6.905227  79.884200   \n74                    Kalpitiya Lagoon  8.241272  79.744194   \n222  Nuwara Eliya Mountains view point  6.983455  80.750476   \n95                         Polonnaruwa  7.940338  81.018798   \n256                    Panakala Lagoon  6.732608  81.793739   \n77                        Nuwara Eliya  6.949717  80.789107   \n59                           Kalpitiya  8.229528  79.759614   \n326                  Batticaloa Lagoon  7.714400  81.702570   \n45                      Negombo Lagoon  7.158004  79.846480   \n\n               formatted_address  rating  user_ratings_total  \\\n64      Nuwara Eliya , Sri Lanka     4.1              1129.0   \n65            Colombo, Sri Lanka     4.4              1945.0   \n74   Kalpitiya Lagoon, Sri Lanka     4.8               130.0   \n222      Nuwara Eliya, Sri Lanka     4.0               163.0   \n95        Polonnaruwa, Sri Lanka     NaN                 NaN   \n256          Lahugala, Sri Lanka     NaN                 NaN   \n77       Nuwara Eliya, Sri Lanka     NaN                 NaN   \n59          Kalpitiya, Sri Lanka     NaN                 NaN   \n326        Batticaloa, Sri Lanka     3.8               121.0   \n45     Negombo Lagoon, Sri Lanka     4.5               268.0   \n\n                                        latest_reviews  \n64   ['Nuwara Eliya Golf Club offers a unique golfi...  \n65   ['The Royal Colombo Golf Club is a true oasis ...  \n74   ['Kalpitiya Lagoon is a fantastic destination ...  \n222  ['The Nuwara Eliya Mountains viewpoint is trul...  \n95   ['Polonnaruwa felt like a missed opportunity. ...  \n256  ['Panakala Lagoon was a bit of a letdown. The ...  \n77   ['Nuwara Eliya is a bit overrated for its char...  \n59   ['Kalpitiya has beautiful scenery, but I was d...  \n326  ['Batticaloa Lagoon is a hidden gem! The seren...  \n45   ['Negombo Lagoon was a delightful escape! We t...  ",
      "text/html": "<div>\n<style scoped>\n    .dataframe tbody tr th:only-of-type {\n        vertical-align: middle;\n    }\n\n    .dataframe tbody tr th {\n        vertical-align: top;\n    }\n\n    .dataframe thead th {\n        text-align: right;\n    }\n</style>\n<table border=\"1\" class=\"dataframe\">\n  <thead>\n    <tr style=\"text-align: right;\">\n      <th></th>\n      <th>name</th>\n      <th>lat</th>\n      <th>lng</th>\n      <th>formatted_address</th>\n      <th>rating</th>\n      <th>user_ratings_total</th>\n      <th>latest_reviews</th>\n    </tr>\n  </thead>\n  <tbody>\n    <tr>\n      <th>64</th>\n      <td>Nuwara Eliya Golf Club</td>\n      <td>6.971737</td>\n      <td>80.765731</td>\n      <td>Nuwara Eliya , Sri Lanka</td>\n      <td>4.1</td>\n      <td>1129.0</td>\n      <td>['Nuwara Eliya Golf Club offers a unique golfi...</td>\n    </tr>\n    <tr>\n      <th>65</th>\n      <td>Royal Colombo Golf Club</td>\n      <td>6.905227</td>\n      <td>79.884200</td>\n      <td>Colombo, Sri Lanka</td>\n      <td>4.4</td>\n      <td>1945.0</td>\n      <td>['The Royal Colombo Golf Club is a true oasis ...</td>\n    </tr>\n    <tr>\n      <th>74</th>\n      <td>Kalpitiya Lagoon</td>\n      <td>8.241272</td>\n      <td>79.744194</td>\n      <td>Kalpitiya Lagoon, Sri Lanka</td>\n      <td>4.8</td>\n      <td>130.0</td>\n      <td>['Kalpitiya Lagoon is a fantastic destination ...</td>\n    </tr>\n    <tr>\n      <th>222</th>\n      <td>Nuwara Eliya Mountains view point</td>\n      <td>6.983455</td>\n      <td>80.750476</td>\n      <td>Nuwara Eliya, Sri Lanka</td>\n      <td>4.0</td>\n      <td>163.0</td>\n      <td>['The Nuwara Eliya Mountains viewpoint is trul...</td>\n    </tr>\n    <tr>\n      <th>95</th>\n      <td>Polonnaruwa</td>\n      <td>7.940338</td>\n      <td>81.018798</td>\n      <td>Polonnaruwa, Sri Lanka</td>\n      <td>NaN</td>\n      <td>NaN</td>\n      <td>['Polonnaruwa felt like a missed opportunity. ...</td>\n    </tr>\n    <tr>\n      <th>256</th>\n      <td>Panakala Lagoon</td>\n      <td>6.732608</td>\n      <td>81.793739</td>\n      <td>Lahugala, Sri Lanka</td>\n      <td>NaN</td>\n      <td>NaN</td>\n      <td>['Panakala Lagoon was a bit of a letdown. The ...</td>\n    </tr>\n    <tr>\n      <th>77</th>\n      <td>Nuwara Eliya</td>\n      <td>6.949717</td>\n      <td>80.789107</td>\n      <td>Nuwara Eliya, Sri Lanka</td>\n      <td>NaN</td>\n      <td>NaN</td>\n      <td>['Nuwara Eliya is a bit overrated for its char...</td>\n    </tr>\n    <tr>\n      <th>59</th>\n      <td>Kalpitiya</td>\n      <td>8.229528</td>\n      <td>79.759614</td>\n      <td>Kalpitiya, Sri Lanka</td>\n      <td>NaN</td>\n      <td>NaN</td>\n      <td>['Kalpitiya has beautiful scenery, but I was d...</td>\n    </tr>\n    <tr>\n      <th>326</th>\n      <td>Batticaloa Lagoon</td>\n      <td>7.714400</td>\n      <td>81.702570</td>\n      <td>Batticaloa, Sri Lanka</td>\n      <td>3.8</td>\n      <td>121.0</td>\n      <td>['Batticaloa Lagoon is a hidden gem! The seren...</td>\n    </tr>\n    <tr>\n      <th>45</th>\n      <td>Negombo Lagoon</td>\n      <td>7.158004</td>\n      <td>79.846480</td>\n      <td>Negombo Lagoon, Sri Lanka</td>\n      <td>4.5</td>\n      <td>268.0</td>\n      <td>['Negombo Lagoon was a delightful escape! We t...</td>\n    </tr>\n  </tbody>\n</table>\n</div>"
     },
     "execution_count": 36,
     "metadata": {},
     "output_type": "execute_result"
    }
   ],
   "source": [
    "get_recommendations(6)"
   ],
   "metadata": {
    "collapsed": false,
    "ExecuteTime": {
     "end_time": "2024-09-11T17:21:46.870504200Z",
     "start_time": "2024-09-11T17:21:46.471953100Z"
    }
   },
   "id": "4bf66e4d7090dab6"
  },
  {
   "cell_type": "code",
   "execution_count": 36,
   "outputs": [],
   "source": [],
   "metadata": {
    "collapsed": false,
    "ExecuteTime": {
     "end_time": "2024-09-11T17:21:46.870504200Z",
     "start_time": "2024-09-11T17:21:46.487856900Z"
    }
   },
   "id": "4bb912029ae3512f"
  }
 ],
 "metadata": {
  "kernelspec": {
   "display_name": "Python 3",
   "language": "python",
   "name": "python3"
  },
  "language_info": {
   "codemirror_mode": {
    "name": "ipython",
    "version": 2
   },
   "file_extension": ".py",
   "mimetype": "text/x-python",
   "name": "python",
   "nbconvert_exporter": "python",
   "pygments_lexer": "ipython2",
   "version": "2.7.6"
  }
 },
 "nbformat": 4,
 "nbformat_minor": 5
}
