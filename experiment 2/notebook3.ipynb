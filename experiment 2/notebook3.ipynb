{
 "cells": [
  {
   "cell_type": "code",
   "execution_count": 1,
   "outputs": [],
   "source": [
    "import pandas as pd\n",
    "import numpy as np\n",
    "from nltk.corpus import stopwords\n",
    "from sklearn.metrics.pairwise import cosine_similarity\n",
    "import torch\n",
    "from transformers import AutoTokenizer, AutoModel"
   ],
   "metadata": {
    "collapsed": false,
    "ExecuteTime": {
     "end_time": "2024-09-11T16:24:23.734856700Z",
     "start_time": "2024-09-11T16:24:17.307357300Z"
    }
   },
   "id": "4ed41b4fff92c6eb"
  },
  {
   "cell_type": "code",
   "execution_count": 2,
   "outputs": [],
   "source": [
    "users_df = pd.read_excel(\"../data/Visitors Preference Dataset.xlsx\")\n",
    "places_df = pd.read_excel(\"../data/Places Dataset.xlsx\")"
   ],
   "metadata": {
    "collapsed": false,
    "ExecuteTime": {
     "end_time": "2024-09-11T16:24:25.516792600Z",
     "start_time": "2024-09-11T16:24:23.737382700Z"
    }
   },
   "id": "837f29c0bdf0f336"
  },
  {
   "cell_type": "code",
   "execution_count": 3,
   "outputs": [
    {
     "data": {
      "text/plain": "   User ID              Name                         Email  \\\n0        1    Jennifer Quinn    jennifer.quinn@example.com   \n1        2       Emily Perry       emily.perry@example.com   \n2        3  Danielle Mcbride  danielle.mcbride@example.com   \n3        4   Angelica Wilson   angelica.wilson@example.com   \n4        5     Laurie Powers     laurie.powers@example.com   \n\n                                Preferred Activities  \\\n0  ['cycling', 'historical monuments', 'village h...   \n1  ['butterfly watching', 'hot springs', 'wildlif...   \n2  ['sea cruises', 'themed parks', 'craft worksho...   \n3              ['fishing', 'hot springs', 'sailing']   \n4     ['history tours', 'sailing', 'literary tours']   \n\n                  Bucket list destinations Sri Lanka  \n0  ['Polonnaruwa', 'Hatton', 'Anuradhapura', 'Ell...  \n1  ['Madunagala Hot Water Spring', 'Wilpattu Nati...  \n2  ['Mirissa Beach', 'Negombo Lagoon', 'Batadomba...  \n3  ['Maha Oya Hot Water Springs', 'Colombo Port C...  \n4  ['Negombo Lagoon', 'Colombo Port City', 'Galle...  ",
      "text/html": "<div>\n<style scoped>\n    .dataframe tbody tr th:only-of-type {\n        vertical-align: middle;\n    }\n\n    .dataframe tbody tr th {\n        vertical-align: top;\n    }\n\n    .dataframe thead th {\n        text-align: right;\n    }\n</style>\n<table border=\"1\" class=\"dataframe\">\n  <thead>\n    <tr style=\"text-align: right;\">\n      <th></th>\n      <th>User ID</th>\n      <th>Name</th>\n      <th>Email</th>\n      <th>Preferred Activities</th>\n      <th>Bucket list destinations Sri Lanka</th>\n    </tr>\n  </thead>\n  <tbody>\n    <tr>\n      <th>0</th>\n      <td>1</td>\n      <td>Jennifer Quinn</td>\n      <td>jennifer.quinn@example.com</td>\n      <td>['cycling', 'historical monuments', 'village h...</td>\n      <td>['Polonnaruwa', 'Hatton', 'Anuradhapura', 'Ell...</td>\n    </tr>\n    <tr>\n      <th>1</th>\n      <td>2</td>\n      <td>Emily Perry</td>\n      <td>emily.perry@example.com</td>\n      <td>['butterfly watching', 'hot springs', 'wildlif...</td>\n      <td>['Madunagala Hot Water Spring', 'Wilpattu Nati...</td>\n    </tr>\n    <tr>\n      <th>2</th>\n      <td>3</td>\n      <td>Danielle Mcbride</td>\n      <td>danielle.mcbride@example.com</td>\n      <td>['sea cruises', 'themed parks', 'craft worksho...</td>\n      <td>['Mirissa Beach', 'Negombo Lagoon', 'Batadomba...</td>\n    </tr>\n    <tr>\n      <th>3</th>\n      <td>4</td>\n      <td>Angelica Wilson</td>\n      <td>angelica.wilson@example.com</td>\n      <td>['fishing', 'hot springs', 'sailing']</td>\n      <td>['Maha Oya Hot Water Springs', 'Colombo Port C...</td>\n    </tr>\n    <tr>\n      <th>4</th>\n      <td>5</td>\n      <td>Laurie Powers</td>\n      <td>laurie.powers@example.com</td>\n      <td>['history tours', 'sailing', 'literary tours']</td>\n      <td>['Negombo Lagoon', 'Colombo Port City', 'Galle...</td>\n    </tr>\n  </tbody>\n</table>\n</div>"
     },
     "execution_count": 3,
     "metadata": {},
     "output_type": "execute_result"
    }
   ],
   "source": [
    "users_df.head()"
   ],
   "metadata": {
    "collapsed": false,
    "ExecuteTime": {
     "end_time": "2024-09-11T16:24:25.539490600Z",
     "start_time": "2024-09-11T16:24:25.518796800Z"
    }
   },
   "id": "5784ee8a5165e9ba"
  },
  {
   "cell_type": "code",
   "execution_count": 4,
   "outputs": [
    {
     "data": {
      "text/plain": "                             name       lat        lng  \\\n0                Arugam Bay Beach  6.840408  81.836848   \n1                   Mirissa Beach  5.944703  80.459161   \n2  Weligama Beach (surf and stay)  5.972486  80.435714   \n3                        Ahangama  5.973975  80.362159   \n4                 Hikkaduwa Beach  6.137727  80.099060   \n\n             formatted_address  rating  user_ratings_total  \\\n0  Arugam Bay Beach, Sri Lanka     4.8              1591.0   \n1           Mirissa, Sri Lanka     4.6              1748.0   \n2          Weligama, Sri Lanka     4.4               325.0   \n3          Ahangama, Sri Lanka     NaN                 NaN   \n4   Hikkaduwa Beach, Sri Lanka     4.7              1438.0   \n\n                                      latest_reviews  \n0  ['Arugam Bay Beach is a surfer's paradise! I s...  \n1  ['Mirissa Beach is truly a gem on Sri LankaÃ¢Â...  \n2  ['Weligama Beach is a fantastic spot for both ...  \n3  ['Ahangama was a bit disappointing for me as a...  \n4  ['Hikkaduwa Beach is a delightful escape for s...  ",
      "text/html": "<div>\n<style scoped>\n    .dataframe tbody tr th:only-of-type {\n        vertical-align: middle;\n    }\n\n    .dataframe tbody tr th {\n        vertical-align: top;\n    }\n\n    .dataframe thead th {\n        text-align: right;\n    }\n</style>\n<table border=\"1\" class=\"dataframe\">\n  <thead>\n    <tr style=\"text-align: right;\">\n      <th></th>\n      <th>name</th>\n      <th>lat</th>\n      <th>lng</th>\n      <th>formatted_address</th>\n      <th>rating</th>\n      <th>user_ratings_total</th>\n      <th>latest_reviews</th>\n    </tr>\n  </thead>\n  <tbody>\n    <tr>\n      <th>0</th>\n      <td>Arugam Bay Beach</td>\n      <td>6.840408</td>\n      <td>81.836848</td>\n      <td>Arugam Bay Beach, Sri Lanka</td>\n      <td>4.8</td>\n      <td>1591.0</td>\n      <td>['Arugam Bay Beach is a surfer's paradise! I s...</td>\n    </tr>\n    <tr>\n      <th>1</th>\n      <td>Mirissa Beach</td>\n      <td>5.944703</td>\n      <td>80.459161</td>\n      <td>Mirissa, Sri Lanka</td>\n      <td>4.6</td>\n      <td>1748.0</td>\n      <td>['Mirissa Beach is truly a gem on Sri LankaÃ¢Â...</td>\n    </tr>\n    <tr>\n      <th>2</th>\n      <td>Weligama Beach (surf and stay)</td>\n      <td>5.972486</td>\n      <td>80.435714</td>\n      <td>Weligama, Sri Lanka</td>\n      <td>4.4</td>\n      <td>325.0</td>\n      <td>['Weligama Beach is a fantastic spot for both ...</td>\n    </tr>\n    <tr>\n      <th>3</th>\n      <td>Ahangama</td>\n      <td>5.973975</td>\n      <td>80.362159</td>\n      <td>Ahangama, Sri Lanka</td>\n      <td>NaN</td>\n      <td>NaN</td>\n      <td>['Ahangama was a bit disappointing for me as a...</td>\n    </tr>\n    <tr>\n      <th>4</th>\n      <td>Hikkaduwa Beach</td>\n      <td>6.137727</td>\n      <td>80.099060</td>\n      <td>Hikkaduwa Beach, Sri Lanka</td>\n      <td>4.7</td>\n      <td>1438.0</td>\n      <td>['Hikkaduwa Beach is a delightful escape for s...</td>\n    </tr>\n  </tbody>\n</table>\n</div>"
     },
     "execution_count": 4,
     "metadata": {},
     "output_type": "execute_result"
    }
   ],
   "source": [
    "places_df.head()"
   ],
   "metadata": {
    "collapsed": false,
    "ExecuteTime": {
     "end_time": "2024-09-11T16:24:25.568106Z",
     "start_time": "2024-09-11T16:24:25.533095800Z"
    }
   },
   "id": "aed65f9c6a1c3ed9"
  },
  {
   "cell_type": "code",
   "execution_count": 5,
   "outputs": [],
   "source": [
    "selected_features_user = ['Preferred Activities', 'Bucket list destinations Sri Lanka']\n",
    "selected_features_places = ['name', 'latest_reviews']"
   ],
   "metadata": {
    "collapsed": false,
    "ExecuteTime": {
     "end_time": "2024-09-11T16:24:25.568106Z",
     "start_time": "2024-09-11T16:24:25.547079200Z"
    }
   },
   "id": "b30ea1cd43c18eaf"
  },
  {
   "cell_type": "code",
   "execution_count": 6,
   "outputs": [],
   "source": [
    "users_df = users_df[selected_features_user]\n",
    "places_df = places_df[selected_features_places]"
   ],
   "metadata": {
    "collapsed": false,
    "ExecuteTime": {
     "end_time": "2024-09-11T16:24:25.591909Z",
     "start_time": "2024-09-11T16:24:25.551875700Z"
    }
   },
   "id": "9adbee856ebfed44"
  },
  {
   "cell_type": "code",
   "execution_count": 7,
   "outputs": [],
   "source": [
    "users_df.fillna(\"\", inplace=True)\n",
    "places_df.fillna(\"\", inplace=True)"
   ],
   "metadata": {
    "collapsed": false,
    "ExecuteTime": {
     "end_time": "2024-09-11T16:24:25.591909Z",
     "start_time": "2024-09-11T16:24:25.560336800Z"
    }
   },
   "id": "4f67dc4a6502af06"
  },
  {
   "cell_type": "code",
   "execution_count": 8,
   "outputs": [],
   "source": [
    "users_df['Preferred Activities'] = users_df['Preferred Activities'].apply(lambda x: ' '.join(x.split()))\n",
    "users_df['Bucket list destinations Sri Lanka'] = users_df['Bucket list destinations Sri Lanka'].apply(lambda x: ' '.join(x.split()))"
   ],
   "metadata": {
    "collapsed": false,
    "ExecuteTime": {
     "end_time": "2024-09-11T16:24:25.722474400Z",
     "start_time": "2024-09-11T16:24:25.568106Z"
    }
   },
   "id": "f8136d33f31f9114"
  },
  {
   "cell_type": "code",
   "execution_count": 9,
   "outputs": [],
   "source": [
    "users_df['Preferred Activities'] = users_df['Preferred Activities'].apply(\n",
    "    lambda x: eval(x) if isinstance(x, str) and x.strip() != '' else ''\n",
    ")\n",
    "users_df['Bucket list destinations Sri Lanka'] = users_df['Bucket list destinations Sri Lanka'].apply(\n",
    "    lambda x: eval(x) if isinstance(x, str) and x.strip() != '' else ''\n",
    ")"
   ],
   "metadata": {
    "collapsed": false,
    "ExecuteTime": {
     "end_time": "2024-09-11T16:24:25.981273Z",
     "start_time": "2024-09-11T16:24:25.591909Z"
    }
   },
   "id": "db345ae104eaaaea"
  },
  {
   "cell_type": "code",
   "execution_count": 10,
   "outputs": [],
   "source": [
    "users_df['Preferred Activities'] = users_df['Preferred Activities'].apply(lambda x: \" \".join(x))\n",
    "users_df['Bucket list destinations Sri Lanka'] = users_df['Bucket list destinations Sri Lanka'].apply(lambda x: \" \".join(x))"
   ],
   "metadata": {
    "collapsed": false,
    "ExecuteTime": {
     "end_time": "2024-09-11T16:24:26.024278900Z",
     "start_time": "2024-09-11T16:24:25.983271200Z"
    }
   },
   "id": "7085fa00c2f621d"
  },
  {
   "cell_type": "code",
   "execution_count": 11,
   "outputs": [
    {
     "data": {
      "text/plain": "                              Preferred Activities  \\\n0   cycling historical monuments village homestays   \n1  butterfly watching hot springs wildlife viewing   \n2         sea cruises themed parks craft workshops   \n3                      fishing hot springs sailing   \n4             history tours sailing literary tours   \n\n                  Bucket list destinations Sri Lanka  \n0      Polonnaruwa Hatton Anuradhapura Ella Haputale  \n1  Madunagala Hot Water Spring Wilpattu National ...  \n2  Mirissa Beach Negombo Lagoon Batadombalena Cra...  \n3  Maha Oya Hot Water Springs Colombo Port City N...  \n4  Negombo Lagoon Colombo Port City Galle Dutch F...  ",
      "text/html": "<div>\n<style scoped>\n    .dataframe tbody tr th:only-of-type {\n        vertical-align: middle;\n    }\n\n    .dataframe tbody tr th {\n        vertical-align: top;\n    }\n\n    .dataframe thead th {\n        text-align: right;\n    }\n</style>\n<table border=\"1\" class=\"dataframe\">\n  <thead>\n    <tr style=\"text-align: right;\">\n      <th></th>\n      <th>Preferred Activities</th>\n      <th>Bucket list destinations Sri Lanka</th>\n    </tr>\n  </thead>\n  <tbody>\n    <tr>\n      <th>0</th>\n      <td>cycling historical monuments village homestays</td>\n      <td>Polonnaruwa Hatton Anuradhapura Ella Haputale</td>\n    </tr>\n    <tr>\n      <th>1</th>\n      <td>butterfly watching hot springs wildlife viewing</td>\n      <td>Madunagala Hot Water Spring Wilpattu National ...</td>\n    </tr>\n    <tr>\n      <th>2</th>\n      <td>sea cruises themed parks craft workshops</td>\n      <td>Mirissa Beach Negombo Lagoon Batadombalena Cra...</td>\n    </tr>\n    <tr>\n      <th>3</th>\n      <td>fishing hot springs sailing</td>\n      <td>Maha Oya Hot Water Springs Colombo Port City N...</td>\n    </tr>\n    <tr>\n      <th>4</th>\n      <td>history tours sailing literary tours</td>\n      <td>Negombo Lagoon Colombo Port City Galle Dutch F...</td>\n    </tr>\n  </tbody>\n</table>\n</div>"
     },
     "execution_count": 11,
     "metadata": {},
     "output_type": "execute_result"
    }
   ],
   "source": [
    "users_df.head()"
   ],
   "metadata": {
    "collapsed": false,
    "ExecuteTime": {
     "end_time": "2024-09-11T16:24:26.049823700Z",
     "start_time": "2024-09-11T16:24:25.997351500Z"
    }
   },
   "id": "214763030a007628"
  },
  {
   "cell_type": "code",
   "execution_count": 12,
   "outputs": [],
   "source": [
    "places_df['latest_reviews'] = places_df['latest_reviews'].apply(\n",
    "    lambda x: ''.join([i if i.isalpha() or i.isspace() else '' for i in x])\n",
    ")"
   ],
   "metadata": {
    "collapsed": false,
    "ExecuteTime": {
     "end_time": "2024-09-11T16:24:26.085001600Z",
     "start_time": "2024-09-11T16:24:26.009273Z"
    }
   },
   "id": "a5da21b671d0605a"
  },
  {
   "cell_type": "code",
   "execution_count": 13,
   "outputs": [],
   "source": [
    "places_df['latest_reviews'] = places_df['latest_reviews'].apply(lambda x: x.lower())\n",
    "places_df['name'] = places_df['name'].apply(lambda x: x.lower())\n",
    "users_df['Preferred Activities'] = users_df['Preferred Activities'].apply(lambda x: x.lower())\n",
    "users_df['Bucket list destinations Sri Lanka'] = users_df['Bucket list destinations Sri Lanka'].apply(lambda x: x.lower())"
   ],
   "metadata": {
    "collapsed": false,
    "ExecuteTime": {
     "end_time": "2024-09-11T16:24:26.175574700Z",
     "start_time": "2024-09-11T16:24:26.072995100Z"
    }
   },
   "id": "f9c7add40f70dc1a"
  },
  {
   "cell_type": "code",
   "execution_count": 14,
   "outputs": [],
   "source": [
    "stop_words = set(stopwords.words('english'))\n",
    "\n",
    "places_df['latest_reviews'] = places_df['latest_reviews'].apply(\n",
    "    lambda x: ' '.join([word for word in x.split() if word not in stop_words])\n",
    ")"
   ],
   "metadata": {
    "collapsed": false,
    "ExecuteTime": {
     "end_time": "2024-09-11T16:24:26.192812900Z",
     "start_time": "2024-09-11T16:24:26.078003500Z"
    }
   },
   "id": "cc49befc3ed375b6"
  },
  {
   "cell_type": "code",
   "execution_count": 15,
   "outputs": [
    {
     "data": {
      "text/plain": "                             name  \\\n0                arugam bay beach   \n1                   mirissa beach   \n2  weligama beach (surf and stay)   \n3                        ahangama   \n4                 hikkaduwa beach   \n\n                                      latest_reviews  \n0  arugam bay beach surfers paradise spent incred...  \n1  mirissa beach truly gem sri lankaãââs southern...  \n2  weligama beach fantastic spot beginner experie...  \n3  ahangama bit disappointing solo traveler surfi...  \n4  hikkaduwa beach delightful escape solo travele...  ",
      "text/html": "<div>\n<style scoped>\n    .dataframe tbody tr th:only-of-type {\n        vertical-align: middle;\n    }\n\n    .dataframe tbody tr th {\n        vertical-align: top;\n    }\n\n    .dataframe thead th {\n        text-align: right;\n    }\n</style>\n<table border=\"1\" class=\"dataframe\">\n  <thead>\n    <tr style=\"text-align: right;\">\n      <th></th>\n      <th>name</th>\n      <th>latest_reviews</th>\n    </tr>\n  </thead>\n  <tbody>\n    <tr>\n      <th>0</th>\n      <td>arugam bay beach</td>\n      <td>arugam bay beach surfers paradise spent incred...</td>\n    </tr>\n    <tr>\n      <th>1</th>\n      <td>mirissa beach</td>\n      <td>mirissa beach truly gem sri lankaãââs southern...</td>\n    </tr>\n    <tr>\n      <th>2</th>\n      <td>weligama beach (surf and stay)</td>\n      <td>weligama beach fantastic spot beginner experie...</td>\n    </tr>\n    <tr>\n      <th>3</th>\n      <td>ahangama</td>\n      <td>ahangama bit disappointing solo traveler surfi...</td>\n    </tr>\n    <tr>\n      <th>4</th>\n      <td>hikkaduwa beach</td>\n      <td>hikkaduwa beach delightful escape solo travele...</td>\n    </tr>\n  </tbody>\n</table>\n</div>"
     },
     "execution_count": 15,
     "metadata": {},
     "output_type": "execute_result"
    }
   ],
   "source": [
    "places_df.head()"
   ],
   "metadata": {
    "collapsed": false,
    "ExecuteTime": {
     "end_time": "2024-09-11T16:24:26.192812900Z",
     "start_time": "2024-09-11T16:24:26.106417200Z"
    }
   },
   "id": "f02cec2e806b6869"
  },
  {
   "cell_type": "code",
   "execution_count": 16,
   "outputs": [],
   "source": [
    "combined_features_places = places_df['name'] + ' ' + places_df['latest_reviews']\n",
    "combined_features_users = users_df['Preferred Activities'] + ' ' + users_df['Bucket list destinations Sri Lanka']"
   ],
   "metadata": {
    "collapsed": false,
    "ExecuteTime": {
     "end_time": "2024-09-11T16:24:26.193808500Z",
     "start_time": "2024-09-11T16:24:26.116083700Z"
    }
   },
   "id": "4976db9861a37a4e"
  },
  {
   "cell_type": "code",
   "execution_count": 17,
   "outputs": [
    {
     "data": {
      "text/plain": "('arugam bay beach arugam bay beach surfers paradise spent incredible days riding waves local surf schools fantastic beginners like atmosphere laidback friendly locals fellow travelers long day surfing sunsets simply magical beach bit crowded especially peak season adds lively vibe canãâât wait return friends unforgettable time arugam bay beach surfing conditions excellent managed catch great waves beach beautiful soft sand clear waters perfect swimming however noticed litter beach bit disappointing overall vibrant nightlife delicious food made definitely worth visit couple looking relaxation arugam bay beach offered perfect blend tranquility excitement enjoyed lazy days lounging beach indulging fresh seafood beachside restaurants surf scene lively easy find quieter spots unwind downside occasional noise nearby parties didnãâât detract much experience lovely getaway visited arugam bay beach family children loved surf lessons found beach bit overcrowded atmosphere vibrant locals warm welcoming spent time exploring nearby attractions like elephant rock highlight wish efforts keep beach clean detracted beauty overall memorable trip arugam bay beach charm also downsides surfing fantastic managed improve skills help local instructors however disappointed litter scattered along beach itãââs shame natural beauty stunning cafes restaurants great believe attention given maintaining beach enjoyed time overall hope improvements future',\n 'cycling historical monuments village homestays polonnaruwa hatton anuradhapura ella haputale')"
     },
     "execution_count": 17,
     "metadata": {},
     "output_type": "execute_result"
    }
   ],
   "source": [
    "combined_features_places[0], combined_features_users[0]"
   ],
   "metadata": {
    "collapsed": false,
    "ExecuteTime": {
     "end_time": "2024-09-11T16:24:26.193808500Z",
     "start_time": "2024-09-11T16:24:26.124491200Z"
    }
   },
   "id": "9744a295c064bf96"
  },
  {
   "cell_type": "code",
   "execution_count": 18,
   "outputs": [
    {
     "name": "stderr",
     "output_type": "stream",
     "text": [
      "C:\\Users\\Asus\\Desktop\\Research Mine\\Models\\VAE\\venv\\Lib\\site-packages\\transformers\\tokenization_utils_base.py:1601: FutureWarning: `clean_up_tokenization_spaces` was not set. It will be set to `True` by default. This behavior will be depracted in transformers v4.45, and will be then set to `False` by default. For more details check this issue: https://github.com/huggingface/transformers/issues/31884\n",
      "  warnings.warn(\n"
     ]
    }
   ],
   "source": [
    "tokenizer = AutoTokenizer.from_pretrained(\"bert-base-uncased\")\n",
    "model = AutoModel.from_pretrained(\"bert-base-uncased\")"
   ],
   "metadata": {
    "collapsed": false,
    "ExecuteTime": {
     "end_time": "2024-09-11T16:24:28.651404400Z",
     "start_time": "2024-09-11T16:24:26.130061100Z"
    }
   },
   "id": "8cfd7e9184e0edfc"
  },
  {
   "cell_type": "code",
   "execution_count": 19,
   "outputs": [],
   "source": [
    "def get_bert_embeddings(text):\n",
    "    inputs = tokenizer(text, return_tensors=\"pt\", padding=True, truncation=True)\n",
    "    with torch.no_grad():\n",
    "        outputs = model(**inputs)\n",
    "    embeddings = outputs.last_hidden_state[:, 0, :]\n",
    "    return embeddings"
   ],
   "metadata": {
    "collapsed": false,
    "ExecuteTime": {
     "end_time": "2024-09-11T16:24:28.674799600Z",
     "start_time": "2024-09-11T16:24:28.654403300Z"
    }
   },
   "id": "fe4bab18959fd3be"
  },
  {
   "cell_type": "code",
   "execution_count": 20,
   "outputs": [],
   "source": [
    "places_embeddings = []\n",
    "for text in combined_features_places:\n",
    "    embeddings = get_bert_embeddings(text)\n",
    "    places_embeddings.append(embeddings.detach().numpy())\n",
    "    \n",
    "places_embeddings = np.array(places_embeddings)"
   ],
   "metadata": {
    "collapsed": false,
    "ExecuteTime": {
     "end_time": "2024-09-11T16:26:15.376648300Z",
     "start_time": "2024-09-11T16:24:28.660370400Z"
    }
   },
   "id": "f7a8f4da36bf2ccb"
  },
  {
   "cell_type": "code",
   "execution_count": 21,
   "outputs": [],
   "source": [
    "users_embeddings = []\n",
    "for text in combined_features_users:\n",
    "    embeddings = get_bert_embeddings(text)\n",
    "    users_embeddings.append(embeddings.detach().numpy())\n",
    "    \n",
    "users_embeddings = np.array(users_embeddings)"
   ],
   "metadata": {
    "collapsed": false,
    "ExecuteTime": {
     "end_time": "2024-09-11T16:34:55.943305600Z",
     "start_time": "2024-09-11T16:26:15.335113800Z"
    }
   },
   "id": "44584440cc72d109"
  },
  {
   "cell_type": "code",
   "execution_count": 22,
   "outputs": [
    {
     "name": "stdout",
     "output_type": "stream",
     "text": [
      "[[0.8402272  0.8344376  0.7671116  0.8141402  0.82462764 0.83331627\n",
      "  0.80389076 0.83578026 0.841722   0.7939187  0.84546614 0.7953314\n",
      "  0.8168553  0.81634253 0.8417226  0.85229504 0.8323041  0.82890975\n",
      "  0.8072432  0.8168755  0.8477305  0.8185252  0.82947874 0.8077965\n",
      "  0.8589698  0.8254177  0.833706   0.8356146  0.8348495  0.8461016\n",
      "  0.7680709  0.7984809  0.81921154 0.80103064 0.8377528  0.8517184\n",
      "  0.8135715  0.81345344 0.8193511  0.8088815  0.83535683 0.85182595\n",
      "  0.8317849  0.8238195  0.8091043  0.82858026 0.77683955 0.8325143\n",
      "  0.78420377 0.8607769  0.8359536  0.8004573  0.814752   0.83567595\n",
      "  0.8023353  0.8464005  0.84508264 0.8226776  0.84554374 0.82747996\n",
      "  0.80766696 0.7784786  0.7721653  0.8015765  0.819438   0.80714726\n",
      "  0.8043567  0.8002417  0.8356118  0.8482743  0.85267633 0.83728784\n",
      "  0.8000858  0.8403493  0.8394454  0.8177206  0.8368954  0.847592\n",
      "  0.8328368  0.79148275 0.83155286 0.82697475 0.8225511  0.83757186\n",
      "  0.6890092  0.8166372  0.8243923  0.8188045  0.8229067  0.8102122\n",
      "  0.78784215 0.81466436 0.7694444  0.8504648  0.80959415 0.84587485\n",
      "  0.8454015  0.83678913 0.8355378  0.8122694  0.82332987 0.82167643\n",
      "  0.8332992  0.8353103  0.83798766 0.74116826 0.8481011  0.8055812\n",
      "  0.7897652  0.8035823  0.8479031  0.80396545 0.82437164 0.8459568\n",
      "  0.8576733  0.81535053 0.8081122  0.81205034 0.82748264 0.842854\n",
      "  0.8273504  0.8409823  0.8398176  0.83724797 0.8399812  0.7857375\n",
      "  0.79638374 0.80881023 0.8346422  0.82409227 0.7982987  0.82511896\n",
      "  0.83671474 0.84390634 0.76391125 0.8526228  0.6966594  0.8401298\n",
      "  0.83636045 0.82959783 0.8359307  0.81080806 0.8292111  0.72972006\n",
      "  0.8094516  0.72325665 0.86308265 0.8340753  0.82990444 0.83358663\n",
      "  0.78582096 0.83130807 0.8297949  0.82872444 0.826272   0.832013\n",
      "  0.78868186 0.8124062  0.8095514  0.80234003 0.7748315  0.7928655\n",
      "  0.7933241  0.81318605 0.8133824  0.83668333 0.7494139  0.837218\n",
      "  0.8149402  0.83227396 0.72701436 0.83852404 0.7575654  0.8281425\n",
      "  0.83526194 0.8482241  0.8426256  0.837598   0.83667415 0.8312625\n",
      "  0.8503364  0.84777445 0.83924353 0.8418665  0.82704556 0.81021166\n",
      "  0.8071357  0.7941048  0.6584232  0.8162105  0.80886644 0.76317024\n",
      "  0.8096453  0.80160975 0.79950714 0.8430033  0.85211897 0.8124393\n",
      "  0.8307458  0.84831476 0.81674874 0.7975786  0.839736   0.74457455\n",
      "  0.8228282  0.7735461  0.78778505 0.80342746 0.83312243 0.5093671\n",
      "  0.73201406 0.8459393  0.81615883 0.703266   0.81610453 0.79965466\n",
      "  0.82851446 0.83512926 0.8392791  0.8060193  0.82832575 0.8210937\n",
      "  0.8465447  0.8186552  0.7337632  0.8347748  0.795697   0.84506893\n",
      "  0.86212397 0.81531197 0.82331663 0.8532438  0.78977394 0.83147633\n",
      "  0.8264286  0.8330107  0.8201378  0.8181732  0.83697915 0.84355974\n",
      "  0.75393397 0.8120359  0.83749545 0.85241467 0.8105285  0.8253322\n",
      "  0.79019094 0.8345491  0.8238013  0.85101414 0.78566134 0.83312315\n",
      "  0.83816415 0.8064313  0.8706559  0.8452521  0.8580254  0.8075681\n",
      "  0.82173455 0.8156266  0.83048373 0.8288776  0.7995734  0.8517685\n",
      "  0.8258585  0.8146919  0.8524749  0.7846873  0.8455147  0.84206265\n",
      "  0.7252572  0.83983064 0.81024987 0.811668   0.8410769  0.74527884\n",
      "  0.8035638  0.78850794 0.8505808  0.8463625  0.78887796 0.8362927\n",
      "  0.8342227  0.8319362  0.84043574 0.7961104  0.82874274 0.83805805\n",
      "  0.8338988  0.7692567  0.83089054 0.8441216  0.8095902  0.8477089\n",
      "  0.8185353  0.81292933 0.84733874 0.8336088  0.8405068  0.8441451\n",
      "  0.8446113  0.845153   0.86266345 0.8538579  0.8088316  0.84671736\n",
      "  0.83636546 0.82840025 0.8557464  0.830057   0.8153647  0.8363864\n",
      "  0.7606039  0.70160073 0.8415818  0.83508015 0.81817067 0.81103396\n",
      "  0.82313657 0.8094739  0.80977714 0.81686187 0.85323846 0.8498502\n",
      "  0.82074666 0.83859646 0.8501722  0.81491137 0.8258507  0.821718\n",
      "  0.83365035 0.83467895 0.8032361  0.83565235 0.81041515 0.80410445\n",
      "  0.6889216  0.8138441  0.84802115 0.8381914  0.81675506 0.792332\n",
      "  0.8335428  0.7145326  0.8434869  0.7505632  0.8098035  0.83310133\n",
      "  0.81411487 0.752668   0.8227129  0.81581914 0.850547   0.82855165\n",
      "  0.8339311  0.8324554  0.8334953  0.86683    0.8033739  0.7808797\n",
      "  0.7927706  0.7956526  0.7950346  0.74554014 0.85422456 0.80499303\n",
      "  0.7881999  0.8201656  0.83987355 0.8272325  0.7420214  0.82920957\n",
      "  0.81597877 0.8426641  0.6557834  0.83853906 0.8343951  0.8464743\n",
      "  0.85128915 0.8155642  0.8460871  0.855455   0.8505854  0.82278943\n",
      "  0.8520539  0.8303537  0.829301   0.85477054 0.84327793 0.84499526\n",
      "  0.8280343  0.8107367  0.84068453 0.8269812  0.7233381  0.8443588\n",
      "  0.832782   0.84260297 0.8227358  0.84025574 0.78678477 0.76154745\n",
      "  0.8264506  0.75695944 0.8260108  0.83453166 0.84282035 0.8493692\n",
      "  0.771335   0.83976656 0.8155701 ]]\n"
     ]
    }
   ],
   "source": [
    "user_embedding = np.array(users_embeddings[0])  \n",
    "places_embeddings = np.vstack(places_embeddings)\n",
    "\n",
    "if user_embedding.ndim == 2:\n",
    "    user_embedding = user_embedding.flatten()\n",
    "    \n",
    "similarity = cosine_similarity([user_embedding], places_embeddings)\n",
    "print(similarity)"
   ],
   "metadata": {
    "collapsed": false,
    "ExecuteTime": {
     "end_time": "2024-09-11T16:40:33.961092100Z",
     "start_time": "2024-09-11T16:40:33.903309700Z"
    }
   },
   "id": "395a04da16f0f71f"
  },
  {
   "cell_type": "code",
   "execution_count": 23,
   "outputs": [],
   "source": [
    "places_original = pd.read_excel(\"../data/Places Dataset.xlsx\")\n",
    "users_original = pd.read_excel(\"../data/Visitors Preference Dataset.xlsx\")"
   ],
   "metadata": {
    "collapsed": false,
    "ExecuteTime": {
     "end_time": "2024-09-11T16:45:01.139376400Z",
     "start_time": "2024-09-11T16:44:59.192952200Z"
    }
   },
   "id": "6be28bf18040aa18"
  },
  {
   "cell_type": "code",
   "execution_count": 24,
   "outputs": [],
   "source": [
    "top_5_places = similarity.argsort()[0][::-1][:5]"
   ],
   "metadata": {
    "collapsed": false,
    "ExecuteTime": {
     "end_time": "2024-09-11T16:45:17.884373200Z",
     "start_time": "2024-09-11T16:45:17.829366600Z"
    }
   },
   "id": "81da80b555e7a9b0"
  },
  {
   "cell_type": "code",
   "execution_count": 25,
   "outputs": [
    {
     "name": "stdout",
     "output_type": "stream",
     "text": [
      "User's Preferred Activities:  ['cycling', 'historical monuments', 'village homestays']\n",
      "User's Bucket list destinations Sri Lanka:  ['Polonnaruwa', 'Hatton', 'Anuradhapura', 'Ella', 'Haputale']\n",
      "\n",
      "\n",
      "Top 5 Recommended Places: \n",
      "1. Thummulla Wewa\n",
      "2. Ram setu\n",
      "3. Ruwanweli Maha Seya\n",
      "4. Dimiyawa View Point\n",
      "5. Kandy Lake View Point\n"
     ]
    }
   ],
   "source": [
    "print(\"User's Preferred Activities: \", users_original['Preferred Activities'][0])\n",
    "print(\"User's Bucket list destinations Sri Lanka: \", users_original['Bucket list destinations Sri Lanka'][0])\n",
    "print(\"\\n\")\n",
    "print(\"Top 5 Recommended Places: \")\n",
    "for i, place in enumerate(top_5_places):\n",
    "    print(f\"{i+1}. {places_original['name'][place]}\")"
   ],
   "metadata": {
    "collapsed": false,
    "ExecuteTime": {
     "end_time": "2024-09-11T16:45:38.877787800Z",
     "start_time": "2024-09-11T16:45:38.822808Z"
    }
   },
   "id": "acb902f4c0629b5c"
  },
  {
   "cell_type": "code",
   "execution_count": null,
   "outputs": [],
   "source": [],
   "metadata": {
    "collapsed": false
   },
   "id": "cfd130b3d5aefffb"
  }
 ],
 "metadata": {
  "kernelspec": {
   "display_name": "Python 3",
   "language": "python",
   "name": "python3"
  },
  "language_info": {
   "codemirror_mode": {
    "name": "ipython",
    "version": 2
   },
   "file_extension": ".py",
   "mimetype": "text/x-python",
   "name": "python",
   "nbconvert_exporter": "python",
   "pygments_lexer": "ipython2",
   "version": "2.7.6"
  }
 },
 "nbformat": 4,
 "nbformat_minor": 5
}
