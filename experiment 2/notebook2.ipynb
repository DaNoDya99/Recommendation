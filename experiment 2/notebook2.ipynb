{
 "cells": [
  {
   "cell_type": "code",
   "execution_count": 1,
   "id": "initial_id",
   "metadata": {
    "collapsed": true,
    "ExecuteTime": {
     "end_time": "2024-09-11T15:35:31.617976Z",
     "start_time": "2024-09-11T15:35:15.431582500Z"
    }
   },
   "outputs": [],
   "source": [
    "import pandas as pd\n",
    "import numpy as np\n",
    "from nltk.corpus import stopwords\n",
    "from sklearn.preprocessing import normalize\n",
    "from sklearn.metrics.pairwise import cosine_similarity\n",
    "import torch\n",
    "import torch.nn as nn\n",
    "import torch.optim as optim\n",
    "from torch.utils.data import DataLoader, TensorDataset\n",
    "from transformers import AutoTokenizer, AutoModel"
   ]
  },
  {
   "cell_type": "code",
   "execution_count": 2,
   "outputs": [],
   "source": [
    "users_df = pd.read_excel(\"../data/Visitors Preference Dataset.xlsx\")\n",
    "places_df = pd.read_excel(\"../data/Places Dataset.xlsx\")"
   ],
   "metadata": {
    "collapsed": false,
    "ExecuteTime": {
     "end_time": "2024-09-11T15:35:33.557886300Z",
     "start_time": "2024-09-11T15:35:31.619974600Z"
    }
   },
   "id": "c8f1f494f87343ab"
  },
  {
   "cell_type": "code",
   "execution_count": 3,
   "outputs": [
    {
     "data": {
      "text/plain": "   User ID              Name                         Email  \\\n0        1    Jennifer Quinn    jennifer.quinn@example.com   \n1        2       Emily Perry       emily.perry@example.com   \n2        3  Danielle Mcbride  danielle.mcbride@example.com   \n3        4   Angelica Wilson   angelica.wilson@example.com   \n4        5     Laurie Powers     laurie.powers@example.com   \n\n                                Preferred Activities  \\\n0  ['cycling', 'historical monuments', 'village h...   \n1  ['butterfly watching', 'hot springs', 'wildlif...   \n2  ['sea cruises', 'themed parks', 'craft worksho...   \n3              ['fishing', 'hot springs', 'sailing']   \n4     ['history tours', 'sailing', 'literary tours']   \n\n                  Bucket list destinations Sri Lanka  \n0  ['Polonnaruwa', 'Hatton', 'Anuradhapura', 'Ell...  \n1  ['Madunagala Hot Water Spring', 'Wilpattu Nati...  \n2  ['Mirissa Beach', 'Negombo Lagoon', 'Batadomba...  \n3  ['Maha Oya Hot Water Springs', 'Colombo Port C...  \n4  ['Negombo Lagoon', 'Colombo Port City', 'Galle...  ",
      "text/html": "<div>\n<style scoped>\n    .dataframe tbody tr th:only-of-type {\n        vertical-align: middle;\n    }\n\n    .dataframe tbody tr th {\n        vertical-align: top;\n    }\n\n    .dataframe thead th {\n        text-align: right;\n    }\n</style>\n<table border=\"1\" class=\"dataframe\">\n  <thead>\n    <tr style=\"text-align: right;\">\n      <th></th>\n      <th>User ID</th>\n      <th>Name</th>\n      <th>Email</th>\n      <th>Preferred Activities</th>\n      <th>Bucket list destinations Sri Lanka</th>\n    </tr>\n  </thead>\n  <tbody>\n    <tr>\n      <th>0</th>\n      <td>1</td>\n      <td>Jennifer Quinn</td>\n      <td>jennifer.quinn@example.com</td>\n      <td>['cycling', 'historical monuments', 'village h...</td>\n      <td>['Polonnaruwa', 'Hatton', 'Anuradhapura', 'Ell...</td>\n    </tr>\n    <tr>\n      <th>1</th>\n      <td>2</td>\n      <td>Emily Perry</td>\n      <td>emily.perry@example.com</td>\n      <td>['butterfly watching', 'hot springs', 'wildlif...</td>\n      <td>['Madunagala Hot Water Spring', 'Wilpattu Nati...</td>\n    </tr>\n    <tr>\n      <th>2</th>\n      <td>3</td>\n      <td>Danielle Mcbride</td>\n      <td>danielle.mcbride@example.com</td>\n      <td>['sea cruises', 'themed parks', 'craft worksho...</td>\n      <td>['Mirissa Beach', 'Negombo Lagoon', 'Batadomba...</td>\n    </tr>\n    <tr>\n      <th>3</th>\n      <td>4</td>\n      <td>Angelica Wilson</td>\n      <td>angelica.wilson@example.com</td>\n      <td>['fishing', 'hot springs', 'sailing']</td>\n      <td>['Maha Oya Hot Water Springs', 'Colombo Port C...</td>\n    </tr>\n    <tr>\n      <th>4</th>\n      <td>5</td>\n      <td>Laurie Powers</td>\n      <td>laurie.powers@example.com</td>\n      <td>['history tours', 'sailing', 'literary tours']</td>\n      <td>['Negombo Lagoon', 'Colombo Port City', 'Galle...</td>\n    </tr>\n  </tbody>\n</table>\n</div>"
     },
     "execution_count": 3,
     "metadata": {},
     "output_type": "execute_result"
    }
   ],
   "source": [
    "users_df.head()"
   ],
   "metadata": {
    "collapsed": false,
    "ExecuteTime": {
     "end_time": "2024-09-11T15:35:33.581768200Z",
     "start_time": "2024-09-11T15:35:33.558873Z"
    }
   },
   "id": "4db9695eb41016e7"
  },
  {
   "cell_type": "code",
   "execution_count": 4,
   "outputs": [
    {
     "data": {
      "text/plain": "                             name       lat        lng  \\\n0                Arugam Bay Beach  6.840408  81.836848   \n1                   Mirissa Beach  5.944703  80.459161   \n2  Weligama Beach (surf and stay)  5.972486  80.435714   \n3                        Ahangama  5.973975  80.362159   \n4                 Hikkaduwa Beach  6.137727  80.099060   \n\n             formatted_address  rating  user_ratings_total  \\\n0  Arugam Bay Beach, Sri Lanka     4.8              1591.0   \n1           Mirissa, Sri Lanka     4.6              1748.0   \n2          Weligama, Sri Lanka     4.4               325.0   \n3          Ahangama, Sri Lanka     NaN                 NaN   \n4   Hikkaduwa Beach, Sri Lanka     4.7              1438.0   \n\n                                      latest_reviews  \n0  ['Arugam Bay Beach is a surfer's paradise! I s...  \n1  ['Mirissa Beach is truly a gem on Sri LankaÃ¢Â...  \n2  ['Weligama Beach is a fantastic spot for both ...  \n3  ['Ahangama was a bit disappointing for me as a...  \n4  ['Hikkaduwa Beach is a delightful escape for s...  ",
      "text/html": "<div>\n<style scoped>\n    .dataframe tbody tr th:only-of-type {\n        vertical-align: middle;\n    }\n\n    .dataframe tbody tr th {\n        vertical-align: top;\n    }\n\n    .dataframe thead th {\n        text-align: right;\n    }\n</style>\n<table border=\"1\" class=\"dataframe\">\n  <thead>\n    <tr style=\"text-align: right;\">\n      <th></th>\n      <th>name</th>\n      <th>lat</th>\n      <th>lng</th>\n      <th>formatted_address</th>\n      <th>rating</th>\n      <th>user_ratings_total</th>\n      <th>latest_reviews</th>\n    </tr>\n  </thead>\n  <tbody>\n    <tr>\n      <th>0</th>\n      <td>Arugam Bay Beach</td>\n      <td>6.840408</td>\n      <td>81.836848</td>\n      <td>Arugam Bay Beach, Sri Lanka</td>\n      <td>4.8</td>\n      <td>1591.0</td>\n      <td>['Arugam Bay Beach is a surfer's paradise! I s...</td>\n    </tr>\n    <tr>\n      <th>1</th>\n      <td>Mirissa Beach</td>\n      <td>5.944703</td>\n      <td>80.459161</td>\n      <td>Mirissa, Sri Lanka</td>\n      <td>4.6</td>\n      <td>1748.0</td>\n      <td>['Mirissa Beach is truly a gem on Sri LankaÃ¢Â...</td>\n    </tr>\n    <tr>\n      <th>2</th>\n      <td>Weligama Beach (surf and stay)</td>\n      <td>5.972486</td>\n      <td>80.435714</td>\n      <td>Weligama, Sri Lanka</td>\n      <td>4.4</td>\n      <td>325.0</td>\n      <td>['Weligama Beach is a fantastic spot for both ...</td>\n    </tr>\n    <tr>\n      <th>3</th>\n      <td>Ahangama</td>\n      <td>5.973975</td>\n      <td>80.362159</td>\n      <td>Ahangama, Sri Lanka</td>\n      <td>NaN</td>\n      <td>NaN</td>\n      <td>['Ahangama was a bit disappointing for me as a...</td>\n    </tr>\n    <tr>\n      <th>4</th>\n      <td>Hikkaduwa Beach</td>\n      <td>6.137727</td>\n      <td>80.099060</td>\n      <td>Hikkaduwa Beach, Sri Lanka</td>\n      <td>4.7</td>\n      <td>1438.0</td>\n      <td>['Hikkaduwa Beach is a delightful escape for s...</td>\n    </tr>\n  </tbody>\n</table>\n</div>"
     },
     "execution_count": 4,
     "metadata": {},
     "output_type": "execute_result"
    }
   ],
   "source": [
    "places_df.head()"
   ],
   "metadata": {
    "collapsed": false,
    "ExecuteTime": {
     "end_time": "2024-09-11T15:35:33.630306400Z",
     "start_time": "2024-09-11T15:35:33.582767700Z"
    }
   },
   "id": "cd73fffe45643fb6"
  },
  {
   "cell_type": "code",
   "execution_count": 5,
   "outputs": [],
   "source": [
    "selected_features_user = ['Preferred Activities', 'Bucket list destinations Sri Lanka']\n",
    "selected_features_places = ['name', 'latest_reviews']"
   ],
   "metadata": {
    "collapsed": false,
    "ExecuteTime": {
     "end_time": "2024-09-11T15:35:33.631306800Z",
     "start_time": "2024-09-11T15:35:33.597025Z"
    }
   },
   "id": "f3feb7e97f46d02"
  },
  {
   "cell_type": "code",
   "execution_count": 6,
   "outputs": [],
   "source": [
    "users_df = users_df[selected_features_user]\n",
    "places_df = places_df[selected_features_places]"
   ],
   "metadata": {
    "collapsed": false,
    "ExecuteTime": {
     "end_time": "2024-09-11T15:35:33.633314200Z",
     "start_time": "2024-09-11T15:35:33.602603700Z"
    }
   },
   "id": "f2fec853f5ed43b1"
  },
  {
   "cell_type": "code",
   "execution_count": 7,
   "outputs": [],
   "source": [
    "users_df.fillna(\"\", inplace=True)\n",
    "places_df.fillna(\"\", inplace=True)"
   ],
   "metadata": {
    "collapsed": false,
    "ExecuteTime": {
     "end_time": "2024-09-11T15:35:33.669212100Z",
     "start_time": "2024-09-11T15:35:33.610852300Z"
    }
   },
   "id": "5f8f4d85be4fcc8f"
  },
  {
   "cell_type": "code",
   "execution_count": 8,
   "outputs": [],
   "source": [
    "users_df['Preferred Activities'] = users_df['Preferred Activities'].apply(lambda x: ' '.join(x.split()))\n",
    "users_df['Bucket list destinations Sri Lanka'] = users_df['Bucket list destinations Sri Lanka'].apply(lambda x: ' '.join(x.split()))"
   ],
   "metadata": {
    "collapsed": false,
    "ExecuteTime": {
     "end_time": "2024-09-11T15:35:33.811756Z",
     "start_time": "2024-09-11T15:35:33.626313100Z"
    }
   },
   "id": "3763afaa411321ce"
  },
  {
   "cell_type": "code",
   "execution_count": 9,
   "outputs": [],
   "source": [
    "users_df['Preferred Activities'] = users_df['Preferred Activities'].apply(\n",
    "    lambda x: eval(x) if isinstance(x, str) and x.strip() != '' else ''\n",
    ")\n",
    "users_df['Bucket list destinations Sri Lanka'] = users_df['Bucket list destinations Sri Lanka'].apply(\n",
    "    lambda x: eval(x) if isinstance(x, str) and x.strip() != '' else ''\n",
    ")"
   ],
   "metadata": {
    "collapsed": false,
    "ExecuteTime": {
     "end_time": "2024-09-11T15:35:34.050766800Z",
     "start_time": "2024-09-11T15:35:33.643729200Z"
    }
   },
   "id": "8f9725ab43643390"
  },
  {
   "cell_type": "code",
   "execution_count": 10,
   "outputs": [],
   "source": [
    "users_df['Preferred Activities'] = users_df['Preferred Activities'].apply(lambda x: \" \".join(x))\n",
    "users_df['Bucket list destinations Sri Lanka'] = users_df['Bucket list destinations Sri Lanka'].apply(lambda x: \" \".join(x))"
   ],
   "metadata": {
    "collapsed": false,
    "ExecuteTime": {
     "end_time": "2024-09-11T15:35:34.051769900Z",
     "start_time": "2024-09-11T15:35:34.034522Z"
    }
   },
   "id": "36e351768ea8fdcf"
  },
  {
   "cell_type": "code",
   "execution_count": 11,
   "outputs": [
    {
     "data": {
      "text/plain": "                              Preferred Activities  \\\n0   cycling historical monuments village homestays   \n1  butterfly watching hot springs wildlife viewing   \n2         sea cruises themed parks craft workshops   \n3                      fishing hot springs sailing   \n4             history tours sailing literary tours   \n\n                  Bucket list destinations Sri Lanka  \n0      Polonnaruwa Hatton Anuradhapura Ella Haputale  \n1  Madunagala Hot Water Spring Wilpattu National ...  \n2  Mirissa Beach Negombo Lagoon Batadombalena Cra...  \n3  Maha Oya Hot Water Springs Colombo Port City N...  \n4  Negombo Lagoon Colombo Port City Galle Dutch F...  ",
      "text/html": "<div>\n<style scoped>\n    .dataframe tbody tr th:only-of-type {\n        vertical-align: middle;\n    }\n\n    .dataframe tbody tr th {\n        vertical-align: top;\n    }\n\n    .dataframe thead th {\n        text-align: right;\n    }\n</style>\n<table border=\"1\" class=\"dataframe\">\n  <thead>\n    <tr style=\"text-align: right;\">\n      <th></th>\n      <th>Preferred Activities</th>\n      <th>Bucket list destinations Sri Lanka</th>\n    </tr>\n  </thead>\n  <tbody>\n    <tr>\n      <th>0</th>\n      <td>cycling historical monuments village homestays</td>\n      <td>Polonnaruwa Hatton Anuradhapura Ella Haputale</td>\n    </tr>\n    <tr>\n      <th>1</th>\n      <td>butterfly watching hot springs wildlife viewing</td>\n      <td>Madunagala Hot Water Spring Wilpattu National ...</td>\n    </tr>\n    <tr>\n      <th>2</th>\n      <td>sea cruises themed parks craft workshops</td>\n      <td>Mirissa Beach Negombo Lagoon Batadombalena Cra...</td>\n    </tr>\n    <tr>\n      <th>3</th>\n      <td>fishing hot springs sailing</td>\n      <td>Maha Oya Hot Water Springs Colombo Port City N...</td>\n    </tr>\n    <tr>\n      <th>4</th>\n      <td>history tours sailing literary tours</td>\n      <td>Negombo Lagoon Colombo Port City Galle Dutch F...</td>\n    </tr>\n  </tbody>\n</table>\n</div>"
     },
     "execution_count": 11,
     "metadata": {},
     "output_type": "execute_result"
    }
   ],
   "source": [
    "users_df.head()"
   ],
   "metadata": {
    "collapsed": false,
    "ExecuteTime": {
     "end_time": "2024-09-11T15:35:34.122938200Z",
     "start_time": "2024-09-11T15:35:34.051769900Z"
    }
   },
   "id": "6395fad625a5a153"
  },
  {
   "cell_type": "code",
   "execution_count": 12,
   "outputs": [],
   "source": [
    "places_df['latest_reviews'] = places_df['latest_reviews'].apply(\n",
    "    lambda x: ''.join([i if i.isalpha() or i.isspace() else '' for i in x])\n",
    ")"
   ],
   "metadata": {
    "collapsed": false,
    "ExecuteTime": {
     "end_time": "2024-09-11T15:35:34.149788600Z",
     "start_time": "2024-09-11T15:35:34.062629800Z"
    }
   },
   "id": "365b64de9620b4d0"
  },
  {
   "cell_type": "code",
   "execution_count": 13,
   "outputs": [],
   "source": [
    "places_df['latest_reviews'] = places_df['latest_reviews'].apply(lambda x: x.lower())\n",
    "places_df['name'] = places_df['name'].apply(lambda x: x.lower())\n",
    "users_df['Preferred Activities'] = users_df['Preferred Activities'].apply(lambda x: x.lower())\n",
    "users_df['Bucket list destinations Sri Lanka'] = users_df['Bucket list destinations Sri Lanka'].apply(lambda x: x.lower())"
   ],
   "metadata": {
    "collapsed": false,
    "ExecuteTime": {
     "end_time": "2024-09-11T15:35:34.182517300Z",
     "start_time": "2024-09-11T15:35:34.113413300Z"
    }
   },
   "id": "d1d1f5e144ca91f9"
  },
  {
   "cell_type": "code",
   "execution_count": 14,
   "outputs": [],
   "source": [
    "stop_words = set(stopwords.words('english'))\n",
    "\n",
    "places_df['latest_reviews'] = places_df['latest_reviews'].apply(\n",
    "    lambda x: ' '.join([word for word in x.split() if word not in stop_words])\n",
    ")"
   ],
   "metadata": {
    "collapsed": false,
    "ExecuteTime": {
     "end_time": "2024-09-11T15:35:34.220792200Z",
     "start_time": "2024-09-11T15:35:34.135290300Z"
    }
   },
   "id": "9b5206027fa35453"
  },
  {
   "cell_type": "code",
   "execution_count": 15,
   "outputs": [
    {
     "data": {
      "text/plain": "                             name  \\\n0                arugam bay beach   \n1                   mirissa beach   \n2  weligama beach (surf and stay)   \n3                        ahangama   \n4                 hikkaduwa beach   \n\n                                      latest_reviews  \n0  arugam bay beach surfers paradise spent incred...  \n1  mirissa beach truly gem sri lankaãââs southern...  \n2  weligama beach fantastic spot beginner experie...  \n3  ahangama bit disappointing solo traveler surfi...  \n4  hikkaduwa beach delightful escape solo travele...  ",
      "text/html": "<div>\n<style scoped>\n    .dataframe tbody tr th:only-of-type {\n        vertical-align: middle;\n    }\n\n    .dataframe tbody tr th {\n        vertical-align: top;\n    }\n\n    .dataframe thead th {\n        text-align: right;\n    }\n</style>\n<table border=\"1\" class=\"dataframe\">\n  <thead>\n    <tr style=\"text-align: right;\">\n      <th></th>\n      <th>name</th>\n      <th>latest_reviews</th>\n    </tr>\n  </thead>\n  <tbody>\n    <tr>\n      <th>0</th>\n      <td>arugam bay beach</td>\n      <td>arugam bay beach surfers paradise spent incred...</td>\n    </tr>\n    <tr>\n      <th>1</th>\n      <td>mirissa beach</td>\n      <td>mirissa beach truly gem sri lankaãââs southern...</td>\n    </tr>\n    <tr>\n      <th>2</th>\n      <td>weligama beach (surf and stay)</td>\n      <td>weligama beach fantastic spot beginner experie...</td>\n    </tr>\n    <tr>\n      <th>3</th>\n      <td>ahangama</td>\n      <td>ahangama bit disappointing solo traveler surfi...</td>\n    </tr>\n    <tr>\n      <th>4</th>\n      <td>hikkaduwa beach</td>\n      <td>hikkaduwa beach delightful escape solo travele...</td>\n    </tr>\n  </tbody>\n</table>\n</div>"
     },
     "execution_count": 15,
     "metadata": {},
     "output_type": "execute_result"
    }
   ],
   "source": [
    "places_df.head()"
   ],
   "metadata": {
    "collapsed": false,
    "ExecuteTime": {
     "end_time": "2024-09-11T15:35:34.315320300Z",
     "start_time": "2024-09-11T15:35:34.167923800Z"
    }
   },
   "id": "7e8ba4b69b966605"
  },
  {
   "cell_type": "code",
   "execution_count": 16,
   "outputs": [],
   "source": [
    "combined_features_places = places_df['name'] + ' ' + places_df['latest_reviews']\n",
    "combined_features_users = users_df['Preferred Activities'] + ' ' + users_df['Bucket list destinations Sri Lanka']"
   ],
   "metadata": {
    "collapsed": false,
    "ExecuteTime": {
     "end_time": "2024-09-11T15:35:34.317317300Z",
     "start_time": "2024-09-11T15:35:34.177559Z"
    }
   },
   "id": "8193f04c1b73fe29"
  },
  {
   "cell_type": "code",
   "execution_count": 17,
   "outputs": [
    {
     "data": {
      "text/plain": "('arugam bay beach arugam bay beach surfers paradise spent incredible days riding waves local surf schools fantastic beginners like atmosphere laidback friendly locals fellow travelers long day surfing sunsets simply magical beach bit crowded especially peak season adds lively vibe canãâât wait return friends unforgettable time arugam bay beach surfing conditions excellent managed catch great waves beach beautiful soft sand clear waters perfect swimming however noticed litter beach bit disappointing overall vibrant nightlife delicious food made definitely worth visit couple looking relaxation arugam bay beach offered perfect blend tranquility excitement enjoyed lazy days lounging beach indulging fresh seafood beachside restaurants surf scene lively easy find quieter spots unwind downside occasional noise nearby parties didnãâât detract much experience lovely getaway visited arugam bay beach family children loved surf lessons found beach bit overcrowded atmosphere vibrant locals warm welcoming spent time exploring nearby attractions like elephant rock highlight wish efforts keep beach clean detracted beauty overall memorable trip arugam bay beach charm also downsides surfing fantastic managed improve skills help local instructors however disappointed litter scattered along beach itãââs shame natural beauty stunning cafes restaurants great believe attention given maintaining beach enjoyed time overall hope improvements future',\n 'cycling historical monuments village homestays polonnaruwa hatton anuradhapura ella haputale')"
     },
     "execution_count": 17,
     "metadata": {},
     "output_type": "execute_result"
    }
   ],
   "source": [
    "combined_features_places[0], combined_features_users[0]"
   ],
   "metadata": {
    "collapsed": false,
    "ExecuteTime": {
     "end_time": "2024-09-11T15:35:34.358843400Z",
     "start_time": "2024-09-11T15:35:34.185524700Z"
    }
   },
   "id": "6d061d928908baec"
  },
  {
   "cell_type": "code",
   "execution_count": 18,
   "outputs": [
    {
     "name": "stderr",
     "output_type": "stream",
     "text": [
      "C:\\Users\\Asus\\Desktop\\Research Mine\\Models\\VAE\\venv\\Lib\\site-packages\\transformers\\tokenization_utils_base.py:1601: FutureWarning: `clean_up_tokenization_spaces` was not set. It will be set to `True` by default. This behavior will be depracted in transformers v4.45, and will be then set to `False` by default. For more details check this issue: https://github.com/huggingface/transformers/issues/31884\n",
      "  warnings.warn(\n"
     ]
    }
   ],
   "source": [
    "tokenizer = AutoTokenizer.from_pretrained(\"bert-base-uncased\")\n",
    "model = AutoModel.from_pretrained(\"bert-base-uncased\")"
   ],
   "metadata": {
    "collapsed": false,
    "ExecuteTime": {
     "end_time": "2024-09-11T15:35:37.427575700Z",
     "start_time": "2024-09-11T15:35:34.194793800Z"
    }
   },
   "id": "7f3d7df39764c8ba"
  },
  {
   "cell_type": "code",
   "execution_count": 19,
   "outputs": [],
   "source": [
    "def get_bert_embeddings(text):\n",
    "    inputs = tokenizer(text, return_tensors=\"pt\", padding=True, truncation=True)\n",
    "    with torch.no_grad():\n",
    "        outputs = model(**inputs)\n",
    "    embeddings = outputs.last_hidden_state[:, 0, :]\n",
    "    return embeddings"
   ],
   "metadata": {
    "collapsed": false,
    "ExecuteTime": {
     "end_time": "2024-09-11T15:35:37.447682100Z",
     "start_time": "2024-09-11T15:35:37.429574800Z"
    }
   },
   "id": "628393938310be9a"
  },
  {
   "cell_type": "code",
   "execution_count": 20,
   "outputs": [],
   "source": [
    "places_embeddings = []\n",
    "for text in combined_features_places:\n",
    "    embeddings = get_bert_embeddings(text)\n",
    "    places_embeddings.append(embeddings.detach().numpy())\n",
    "    \n",
    "places_embeddings = np.array(places_embeddings)"
   ],
   "metadata": {
    "collapsed": false,
    "ExecuteTime": {
     "end_time": "2024-09-11T15:37:20.326542900Z",
     "start_time": "2024-09-11T15:35:37.433984700Z"
    }
   },
   "id": "e86ab39497b64e20"
  },
  {
   "cell_type": "code",
   "execution_count": 21,
   "outputs": [],
   "source": [
    "users_embeddings = []\n",
    "for text in combined_features_users:\n",
    "    embeddings = get_bert_embeddings(text)\n",
    "    users_embeddings.append(embeddings.detach().numpy())\n",
    "    \n",
    "users_embeddings = np.array(users_embeddings)"
   ],
   "metadata": {
    "collapsed": false,
    "ExecuteTime": {
     "end_time": "2024-09-11T15:46:38.973768Z",
     "start_time": "2024-09-11T15:37:20.328543800Z"
    }
   },
   "id": "e89046b5f91e3db2"
  },
  {
   "cell_type": "code",
   "execution_count": 22,
   "outputs": [
    {
     "data": {
      "text/plain": "((1, 768), (1, 768))"
     },
     "execution_count": 22,
     "metadata": {},
     "output_type": "execute_result"
    }
   ],
   "source": [
    "places_embeddings[0].shape, places_embeddings[1].shape"
   ],
   "metadata": {
    "collapsed": false,
    "ExecuteTime": {
     "end_time": "2024-09-11T15:46:38.982157700Z",
     "start_time": "2024-09-11T15:46:38.978149400Z"
    }
   },
   "id": "a241e936adbe5828"
  },
  {
   "cell_type": "code",
   "execution_count": 23,
   "outputs": [
    {
     "data": {
      "text/plain": "((1, 768), (1, 768))"
     },
     "execution_count": 23,
     "metadata": {},
     "output_type": "execute_result"
    }
   ],
   "source": [
    "users_embeddings[0].shape, users_embeddings[1].shape"
   ],
   "metadata": {
    "collapsed": false,
    "ExecuteTime": {
     "end_time": "2024-09-11T15:46:39.020827100Z",
     "start_time": "2024-09-11T15:46:38.982157700Z"
    }
   },
   "id": "4421369547e144b3"
  },
  {
   "cell_type": "code",
   "execution_count": 42,
   "outputs": [],
   "source": [
    "class Autoencoder(nn.Module):\n",
    "    def __init__(self, input_dim, encoding_dim):\n",
    "        super(Autoencoder, self).__init__()\n",
    "        self.encoder = nn.Sequential(\n",
    "            nn.Linear(input_dim, 512),\n",
    "            nn.ReLU(),\n",
    "            nn.Linear(512, 256),\n",
    "            nn.ReLU(),\n",
    "            nn.Linear(256, encoding_dim),\n",
    "            nn.ReLU()\n",
    "        )\n",
    "        self.decoder = nn.Sequential(\n",
    "            nn.Linear(encoding_dim, 256),\n",
    "            nn.ReLU(),\n",
    "            nn.Linear(256, 512),\n",
    "            nn.ReLU(),\n",
    "            nn.Linear(512, input_dim),\n",
    "            nn.Sigmoid()\n",
    "        )\n",
    "    \n",
    "    def forward(self, x):\n",
    "        encoded = self.encoder(x)\n",
    "        decoded = self.decoder(encoded)\n",
    "        return decoded, encoded"
   ],
   "metadata": {
    "collapsed": false,
    "ExecuteTime": {
     "end_time": "2024-09-11T15:55:37.656342900Z",
     "start_time": "2024-09-11T15:55:37.563230700Z"
    }
   },
   "id": "51dc75235a9d64e7"
  },
  {
   "cell_type": "code",
   "execution_count": 43,
   "outputs": [],
   "source": [
    "def reduce_dimensions(embeddings, encoding_dim=128, epochs=50, batch_size=64):\n",
    "    embeddings_tensor = torch.tensor(embeddings, dtype=torch.float32)\n",
    "\n",
    "    dataset = TensorDataset(embeddings_tensor, embeddings_tensor)  \n",
    "    loader = DataLoader(dataset, batch_size=batch_size, shuffle=True)\n",
    "\n",
    "    input_dim = 768\n",
    "    autoencoder = Autoencoder(input_dim, encoding_dim)\n",
    "    \n",
    "    criterion = nn.MSELoss()\n",
    "    optimizer = optim.Adam(autoencoder.parameters(), lr=1e-3)\n",
    "\n",
    "    for epoch in range(epochs):\n",
    "        for data, _ in loader:\n",
    "            optimizer.zero_grad()\n",
    "            reconstructed, _ = autoencoder(data)\n",
    "            loss = criterion(reconstructed, data)\n",
    "            loss.backward()\n",
    "            optimizer.step()\n",
    "            \n",
    "        print(f\"Epoch: {epoch+1}, Loss: {loss.item()}\")\n",
    "            \n",
    "    with torch.no_grad():\n",
    "        _, reduced_embeddings = autoencoder(embeddings_tensor)\n",
    "    \n",
    "    return reduced_embeddings.numpy()"
   ],
   "metadata": {
    "collapsed": false,
    "ExecuteTime": {
     "end_time": "2024-09-11T15:56:06.680978200Z",
     "start_time": "2024-09-11T15:56:06.537618300Z"
    }
   },
   "id": "3d5e18a2f903ada1"
  },
  {
   "cell_type": "code",
   "execution_count": 44,
   "outputs": [
    {
     "name": "stdout",
     "output_type": "stream",
     "text": [
      "Epoch: 1, Loss: 0.35723382234573364\n",
      "Epoch: 2, Loss: 0.2037438005208969\n",
      "Epoch: 3, Loss: 0.20589686930179596\n",
      "Epoch: 4, Loss: 0.20761318504810333\n",
      "Epoch: 5, Loss: 0.20041348040103912\n",
      "Epoch: 6, Loss: 0.2026900053024292\n",
      "Epoch: 7, Loss: 0.19401061534881592\n",
      "Epoch: 8, Loss: 0.19820939004421234\n",
      "Epoch: 9, Loss: 0.19752812385559082\n",
      "Epoch: 10, Loss: 0.19871024787425995\n",
      "Epoch: 11, Loss: 0.20053039491176605\n",
      "Epoch: 12, Loss: 0.19320732355117798\n",
      "Epoch: 13, Loss: 0.1977614164352417\n",
      "Epoch: 14, Loss: 0.1956159621477127\n",
      "Epoch: 15, Loss: 0.19608354568481445\n",
      "Epoch: 16, Loss: 0.19008773565292358\n",
      "Epoch: 17, Loss: 0.19105343520641327\n",
      "Epoch: 18, Loss: 0.1888892948627472\n",
      "Epoch: 19, Loss: 0.18813614547252655\n",
      "Epoch: 20, Loss: 0.18561722338199615\n",
      "Epoch: 21, Loss: 0.18860819935798645\n",
      "Epoch: 22, Loss: 0.18623840808868408\n",
      "Epoch: 23, Loss: 0.18560248613357544\n",
      "Epoch: 24, Loss: 0.18593695759773254\n",
      "Epoch: 25, Loss: 0.1864466667175293\n",
      "Epoch: 26, Loss: 0.18590085208415985\n",
      "Epoch: 27, Loss: 0.18766456842422485\n",
      "Epoch: 28, Loss: 0.18974918127059937\n",
      "Epoch: 29, Loss: 0.1868332475423813\n",
      "Epoch: 30, Loss: 0.18667356669902802\n",
      "Epoch: 31, Loss: 0.18560552597045898\n",
      "Epoch: 32, Loss: 0.18605650961399078\n",
      "Epoch: 33, Loss: 0.18605035543441772\n",
      "Epoch: 34, Loss: 0.1859913468360901\n",
      "Epoch: 35, Loss: 0.1857723593711853\n",
      "Epoch: 36, Loss: 0.1819569319486618\n",
      "Epoch: 37, Loss: 0.18317723274230957\n",
      "Epoch: 38, Loss: 0.18579427897930145\n",
      "Epoch: 39, Loss: 0.18380674719810486\n",
      "Epoch: 40, Loss: 0.18591070175170898\n",
      "Epoch: 41, Loss: 0.18457235395908356\n",
      "Epoch: 42, Loss: 0.1834973245859146\n",
      "Epoch: 43, Loss: 0.18491718173027039\n",
      "Epoch: 44, Loss: 0.18202228844165802\n",
      "Epoch: 45, Loss: 0.18810613453388214\n",
      "Epoch: 46, Loss: 0.18386231362819672\n",
      "Epoch: 47, Loss: 0.18831081688404083\n",
      "Epoch: 48, Loss: 0.18516576290130615\n",
      "Epoch: 49, Loss: 0.18470750749111176\n",
      "Epoch: 50, Loss: 0.18849562108516693\n"
     ]
    }
   ],
   "source": [
    "places_embeddings_reduced = reduce_dimensions(places_embeddings, encoding_dim=128)"
   ],
   "metadata": {
    "collapsed": false,
    "ExecuteTime": {
     "end_time": "2024-09-11T15:56:12.746877700Z",
     "start_time": "2024-09-11T15:56:07.482241600Z"
    }
   },
   "id": "3beaa3e19755cc69"
  },
  {
   "cell_type": "code",
   "execution_count": 45,
   "outputs": [
    {
     "data": {
      "text/plain": "(411, 1, 128)"
     },
     "execution_count": 45,
     "metadata": {},
     "output_type": "execute_result"
    }
   ],
   "source": [
    "places_embeddings_reduced.shape"
   ],
   "metadata": {
    "collapsed": false,
    "ExecuteTime": {
     "end_time": "2024-09-11T15:56:14.062139Z",
     "start_time": "2024-09-11T15:56:13.921092700Z"
    }
   },
   "id": "5cca8f62e53956c6"
  },
  {
   "cell_type": "code",
   "execution_count": 46,
   "outputs": [
    {
     "name": "stdout",
     "output_type": "stream",
     "text": [
      "Epoch: 1, Loss: 0.2090817242860794\n",
      "Epoch: 2, Loss: 0.20518498122692108\n",
      "Epoch: 3, Loss: 0.20904715359210968\n",
      "Epoch: 4, Loss: 0.20405130088329315\n",
      "Epoch: 5, Loss: 0.20530976355075836\n",
      "Epoch: 6, Loss: 0.20181910693645477\n",
      "Epoch: 7, Loss: 0.2054326981306076\n",
      "Epoch: 8, Loss: 0.20369493961334229\n",
      "Epoch: 9, Loss: 0.20293186604976654\n",
      "Epoch: 10, Loss: 0.20079953968524933\n",
      "Epoch: 11, Loss: 0.20225290954113007\n",
      "Epoch: 12, Loss: 0.20300595462322235\n",
      "Epoch: 13, Loss: 0.20154933631420135\n",
      "Epoch: 14, Loss: 0.2010996788740158\n",
      "Epoch: 15, Loss: 0.20065034925937653\n",
      "Epoch: 16, Loss: 0.200552836060524\n",
      "Epoch: 17, Loss: 0.20148074626922607\n",
      "Epoch: 18, Loss: 0.19955630600452423\n",
      "Epoch: 19, Loss: 0.20157022774219513\n",
      "Epoch: 20, Loss: 0.19820167124271393\n",
      "Epoch: 21, Loss: 0.20074070990085602\n",
      "Epoch: 22, Loss: 0.2011839598417282\n",
      "Epoch: 23, Loss: 0.2005639225244522\n",
      "Epoch: 24, Loss: 0.19909369945526123\n",
      "Epoch: 25, Loss: 0.20037685334682465\n",
      "Epoch: 26, Loss: 0.20066677033901215\n",
      "Epoch: 27, Loss: 0.19679921865463257\n",
      "Epoch: 28, Loss: 0.20128285884857178\n",
      "Epoch: 29, Loss: 0.1982346624135971\n",
      "Epoch: 30, Loss: 0.19930757582187653\n",
      "Epoch: 31, Loss: 0.19809705018997192\n",
      "Epoch: 32, Loss: 0.19928942620754242\n",
      "Epoch: 33, Loss: 0.20244324207305908\n",
      "Epoch: 34, Loss: 0.19603508710861206\n",
      "Epoch: 35, Loss: 0.19759982824325562\n",
      "Epoch: 36, Loss: 0.1979496330022812\n",
      "Epoch: 37, Loss: 0.1982581615447998\n",
      "Epoch: 38, Loss: 0.1988266259431839\n",
      "Epoch: 39, Loss: 0.19700385630130768\n",
      "Epoch: 40, Loss: 0.2003740668296814\n",
      "Epoch: 41, Loss: 0.1994042992591858\n",
      "Epoch: 42, Loss: 0.1987726241350174\n",
      "Epoch: 43, Loss: 0.20182687044143677\n",
      "Epoch: 44, Loss: 0.1975855976343155\n",
      "Epoch: 45, Loss: 0.19679147005081177\n",
      "Epoch: 46, Loss: 0.20020540058612823\n",
      "Epoch: 47, Loss: 0.1982654482126236\n",
      "Epoch: 48, Loss: 0.1996425986289978\n",
      "Epoch: 49, Loss: 0.19980143010616302\n",
      "Epoch: 50, Loss: 0.1972116231918335\n"
     ]
    }
   ],
   "source": [
    "users_embeddings_reduced = reduce_dimensions(users_embeddings, encoding_dim=128)"
   ],
   "metadata": {
    "collapsed": false,
    "ExecuteTime": {
     "end_time": "2024-09-11T15:59:01.442540200Z",
     "start_time": "2024-09-11T15:56:15.004646Z"
    }
   },
   "id": "250ea85bd0a68115"
  },
  {
   "cell_type": "code",
   "execution_count": 47,
   "outputs": [
    {
     "data": {
      "text/plain": "(10000, 1, 128)"
     },
     "execution_count": 47,
     "metadata": {},
     "output_type": "execute_result"
    }
   ],
   "source": [
    "users_embeddings_reduced.shape"
   ],
   "metadata": {
    "collapsed": false,
    "ExecuteTime": {
     "end_time": "2024-09-11T16:01:43.810209700Z",
     "start_time": "2024-09-11T16:01:43.742055200Z"
    }
   },
   "id": "d48ddeb97c3f95b2"
  },
  {
   "cell_type": "code",
   "execution_count": 50,
   "outputs": [
    {
     "data": {
      "text/plain": "(1, 128)"
     },
     "execution_count": 50,
     "metadata": {},
     "output_type": "execute_result"
    }
   ],
   "source": [
    "users_embeddings_reduced[0].shape"
   ],
   "metadata": {
    "collapsed": false,
    "ExecuteTime": {
     "end_time": "2024-09-11T16:18:26.396396900Z",
     "start_time": "2024-09-11T16:18:26.332063500Z"
    }
   },
   "id": "685b3b2c91282877"
  },
  {
   "cell_type": "code",
   "execution_count": 52,
   "outputs": [
    {
     "name": "stdout",
     "output_type": "stream",
     "text": [
      "User embedding shape: (1, 128)\n",
      "Places embeddings shape: (411, 128)\n",
      "[[0.22000822 0.22416669 0.21383332 0.2188088  0.2176635  0.22902298\n",
      "  0.21646044 0.22188377 0.2078129  0.20123702 0.21962975 0.20220163\n",
      "  0.20945288 0.2092567  0.1946919  0.21471001 0.20736882 0.21485125\n",
      "  0.20936601 0.21685061 0.2112755  0.21434015 0.20831157 0.20050055\n",
      "  0.20631531 0.19489984 0.22397767 0.21402976 0.21743461 0.2120898\n",
      "  0.21188267 0.21823472 0.22270843 0.22175978 0.21294922 0.21814\n",
      "  0.22050864 0.21436268 0.18832934 0.19278035 0.19369179 0.20345822\n",
      "  0.19078702 0.2019707  0.20638423 0.20622893 0.22973126 0.21635363\n",
      "  0.20969525 0.21271475 0.21561159 0.208705   0.21659373 0.22271559\n",
      "  0.19257271 0.21594638 0.20868412 0.21036841 0.21551876 0.21808004\n",
      "  0.223169   0.2140134  0.21183816 0.21344939 0.21587786 0.21884027\n",
      "  0.2213657  0.2023616  0.22518617 0.21788584 0.21047227 0.2150505\n",
      "  0.20466405 0.22109257 0.22015381 0.22618237 0.22185667 0.21399887\n",
      "  0.21949199 0.22584347 0.2164698  0.21031867 0.21044575 0.2218191\n",
      "  0.13125321 0.21071425 0.21327189 0.22214775 0.19154516 0.22724497\n",
      "  0.22330382 0.21622603 0.20667611 0.20028128 0.21821764 0.21148226\n",
      "  0.20399001 0.21774235 0.2168126  0.1703059  0.2121074  0.21963915\n",
      "  0.211846   0.22023906 0.22582348 0.15865758 0.20454746 0.19796948\n",
      "  0.21132158 0.21117401 0.22862542 0.2164823  0.20822728 0.21100633\n",
      "  0.20786366 0.21191898 0.19266745 0.2194924  0.2113985  0.22264996\n",
      "  0.20672366 0.21760488 0.2100441  0.21146515 0.22097915 0.19947766\n",
      "  0.19037433 0.2003984  0.21657011 0.22098675 0.19806248 0.20477524\n",
      "  0.19734478 0.20707797 0.14098501 0.21595879 0.13281238 0.20847335\n",
      "  0.19760609 0.2036768  0.21251799 0.20429645 0.22437522 0.12822974\n",
      "  0.19317138 0.13883227 0.20678848 0.21039188 0.18745655 0.2001385\n",
      "  0.1993258  0.20009302 0.20899042 0.21010974 0.22114682 0.2135599\n",
      "  0.21377197 0.20869745 0.21433702 0.15481305 0.15444832 0.15889269\n",
      "  0.21072271 0.19574007 0.21669388 0.20130491 0.14251028 0.20971787\n",
      "  0.20957863 0.20255688 0.14061563 0.20269635 0.20490177 0.21949425\n",
      "  0.20732015 0.2203182  0.20345493 0.20933147 0.19897793 0.21497537\n",
      "  0.1968253  0.19029656 0.22953723 0.2161588  0.22995427 0.22263229\n",
      "  0.19206905 0.16096377 0.12231428 0.217982   0.2131657  0.20327553\n",
      "  0.20367742 0.18729687 0.20619397 0.21122475 0.22214639 0.1768474\n",
      "  0.2114118  0.19283491 0.19274941 0.22333884 0.23081104 0.1461218\n",
      "  0.21764426 0.21408266 0.20137988 0.20676562 0.2186218  0.12591179\n",
      "  0.17117941 0.20094879 0.21269704 0.1648138  0.2079497  0.19555052\n",
      "  0.2126661  0.21619043 0.18351884 0.18214509 0.20984142 0.21006152\n",
      "  0.21494183 0.21342969 0.14492686 0.21314004 0.20877844 0.20513333\n",
      "  0.21685243 0.19434206 0.2000246  0.21165034 0.18196952 0.20458062\n",
      "  0.22990122 0.22702193 0.18670556 0.19074404 0.21202397 0.21658623\n",
      "  0.18602905 0.21493083 0.21221209 0.22450446 0.21363035 0.20588815\n",
      "  0.18677078 0.22254926 0.20842716 0.21181348 0.19789177 0.1988167\n",
      "  0.19438605 0.20530829 0.21552682 0.21568687 0.22248006 0.19225776\n",
      "  0.20196101 0.21141377 0.20711783 0.2133009  0.168229   0.2248656\n",
      "  0.20147473 0.21987452 0.22900012 0.1944646  0.2104074  0.20817675\n",
      "  0.19281185 0.20521992 0.17805043 0.19348189 0.19126506 0.1425986\n",
      "  0.19969705 0.18669109 0.19214097 0.19420463 0.20117815 0.19602056\n",
      "  0.19457713 0.20911527 0.19926345 0.20083183 0.21419293 0.22062212\n",
      "  0.21251547 0.22361362 0.2231932  0.21068412 0.21657293 0.21429116\n",
      "  0.21808498 0.2090424  0.22366413 0.20877713 0.21147703 0.22007841\n",
      "  0.21061881 0.20871705 0.2237902  0.2095302  0.21109627 0.20847318\n",
      "  0.20018157 0.21500956 0.21860924 0.22139893 0.23101059 0.20845349\n",
      "  0.21455772 0.15405165 0.22309086 0.17985189 0.2017491  0.16993473\n",
      "  0.2011738  0.20630103 0.19708619 0.21464694 0.21792184 0.21427931\n",
      "  0.20643613 0.21599224 0.20266902 0.22738141 0.19209692 0.20627105\n",
      "  0.21160951 0.2058379  0.23042876 0.22846694 0.20738615 0.19446555\n",
      "  0.12721351 0.19994831 0.20161878 0.21764594 0.21081774 0.22073263\n",
      "  0.20015094 0.17354447 0.19389907 0.13987243 0.22914828 0.21333122\n",
      "  0.21182507 0.14885932 0.19842494 0.18888696 0.22681227 0.22629082\n",
      "  0.21413495 0.2035006  0.2304612  0.22137326 0.21843415 0.20923069\n",
      "  0.21691537 0.18391587 0.16098374 0.15699343 0.2214748  0.17707956\n",
      "  0.20094907 0.19546865 0.19033006 0.18832067 0.20202805 0.21770486\n",
      "  0.22444746 0.22053924 0.13835803 0.20990562 0.21672273 0.20809554\n",
      "  0.22081448 0.22356161 0.21259898 0.2219287  0.21571422 0.21308883\n",
      "  0.21745881 0.2197505  0.21700832 0.20439838 0.21022622 0.21127605\n",
      "  0.21012463 0.20908694 0.21435544 0.19731525 0.13370666 0.19504575\n",
      "  0.22001813 0.20946702 0.20758355 0.23059893 0.19127548 0.20387197\n",
      "  0.22231483 0.1334472  0.22223762 0.2009701  0.22136125 0.21356049\n",
      "  0.20859028 0.22854531 0.22216406]]\n"
     ]
    }
   ],
   "source": [
    "user_embedding = np.array(users_embeddings_reduced[0])  # Convert to 1D array if necessary\n",
    "places_embeddings = np.vstack(places_embeddings_reduced)  # Ensure 2D array\n",
    "\n",
    "\n",
    "print(f\"User embedding shape: {user_embedding.shape}\")  \n",
    "print(f\"Places embeddings shape: {places_embeddings.shape}\")  \n",
    "\n",
    "if user_embedding.ndim == 2:\n",
    "    user_embedding = user_embedding.flatten()  \n",
    "\n",
    "\n",
    "similarity = cosine_similarity([user_embedding], places_embeddings)\n",
    "print(similarity)"
   ],
   "metadata": {
    "collapsed": false,
    "ExecuteTime": {
     "end_time": "2024-09-11T16:20:29.578167Z",
     "start_time": "2024-09-11T16:20:29.532708200Z"
    }
   },
   "id": "12a2cd732f3347a"
  },
  {
   "cell_type": "code",
   "execution_count": 53,
   "outputs": [],
   "source": [
    "places_original = pd.read_excel(\"../data/Places Dataset.xlsx\")"
   ],
   "metadata": {
    "collapsed": false,
    "ExecuteTime": {
     "end_time": "2024-09-11T16:20:59.620368300Z",
     "start_time": "2024-09-11T16:20:59.407192800Z"
    }
   },
   "id": "14b3ce941723acb8"
  },
  {
   "cell_type": "code",
   "execution_count": 54,
   "outputs": [],
   "source": [
    "top_5_indices = similarity[0].argsort()[-5:][::-1]"
   ],
   "metadata": {
    "collapsed": false,
    "ExecuteTime": {
     "end_time": "2024-09-11T16:21:13.593824900Z",
     "start_time": "2024-09-11T16:21:13.514563500Z"
    }
   },
   "id": "44bdeb360a736563"
  },
  {
   "cell_type": "code",
   "execution_count": 56,
   "outputs": [
    {
     "name": "stdout",
     "output_type": "stream",
     "text": [
      "Top 5 recommended places:\n",
      "1. Lake side cabana - ['The Lake Side Cabana has a stunning view, but the experience fell short for me. The service was slow, and the amenities felt neglected. I expected a relaxing getaway, but the noise from nearby activities ruined the peaceful atmosphere. It could be a lovely spot if they improved their maintenance and service.', 'I visited with friends, hoping for a fun day by the water. Unfortunately, the cabana was overcrowded, and the staff seemed overwhelmed. We enjoyed the scenery but spent more time waiting for service than actually enjoying the activities. ItÃ¢Â€Â™s a decent place, but it definitely needs better management.', 'As a couple, we hoped for a romantic escape at Lake Side Cabana, but it was rather disappointing. The setting is beautiful, but the lack of attention to cleanliness and the disorganization of the staff made it hard to enjoy our time. We found ourselves looking for other places to relax.', 'Our family trip to Lake Side Cabana was a mixed bag. The kids enjoyed the water activities, but we were let down by the food options and the general upkeep of the area. It has potential, but it feels like itÃ¢Â€Â™s not being taken care of properly. We might not return unless we see improvements.', 'I had high hopes for Lake Side Cabana, but it felt more like a missed opportunity. While the location is picturesque, the facilities need urgent attention. The staff tried their best, but they seemed understaffed. A more organized approach could really elevate the experience.']\n",
      "2. Peacock's Rock - ['Peacock\\'s Rock is an absolute gem! The trek to the top was invigorating, and the view is simply breathtaking. It felt like we had the place to ourselves, which made the experience even more special. I recommend bringing a picnic to enjoy at the summit! Just remember to take your trash back with you.','We visited Peacock\\'s Rock as a group and had a wonderful time hiking and exploring the area. The scenery was stunning, with lush greenery and clear skies. However, the path can be a bit challenging for less experienced hikers. Overall, it was a memorable day out.','As a couple, we loved our visit to Peacock\\'s Rock. The beauty of the surroundings was perfect for some romantic photos. The only downside was the lack of facilities nearby, which made it a bit inconvenient. Still, we enjoyed every moment of our time there.','Peacock\\'s Rock was a nice escape from the hustle and bustle of the city. The area is pristine, and itÃ¢Â€Â™s clear that nature is thriving here. However, I noticed some litter on the trails, which was disappointing. I hope more visitors will respect this beautiful place!','I took my family to Peacock\\'s Rock, and we had a great afternoon hiking together. The kids loved exploring the area, and we all appreciated the stunning views. It would be great to see more signs along the way to help navigate the trails better. Overall, a lovely outing!']\n",
      "3. Madunagala Hot Water Spring - ['Madunagala Hot Water Spring is a hidden gem! The warm waters are incredibly relaxing, perfect for a day of unwinding. I spent hours soaking and enjoying the beautiful surroundings. The facilities could use a bit of maintenance, but overall, a delightful experience. DonÃ¢Â€Â™t forget to bring your own snacks, as the food options are limited.', 'What a wonderful day! The hot springs were a great place to relax with friends after a long hike. The water is soothing, and the natural setting is picturesque. However, it can get crowded on weekends, so I recommend going early in the morning. A must-visit if youÃ¢Â€Â™re in Sri Lanka!', 'As a couple, we loved our time at Madunagala. The atmosphere is tranquil, and the springs are perfect for a romantic escape. We enjoyed a picnic by the water. Just be mindful of the cleanliness; some areas were a bit neglected. Still, it was a memorable day for us!', 'I visited with my family, and the kids had a blast splashing around in the hot springs. The water is warm and inviting, making it a fun activity for everyone. However, the facilities need improvement, especially the showers. A few more amenities would make it perfect for families.', 'The hot springs were a nice break from the usual tourist spots. The water is warm and feels great, but I found it a bit overcrowded. ItÃ¢Â€Â™s better to go during the week for a quieter experience. Overall, itÃ¢Â€Â™s a solid spot to relax, just manage your expectations on the amenities.']\n",
      "4. Pesalai Beach - ['Pesalai Beach is a hidden gem on Mannar Island! The serenity of the calm waters is perfect for a relaxing day. We enjoyed a lovely picnic under the palm trees and even spotted some local fishermen. The seafood shacks nearby offered delicious fresh catch. Just be mindful of the weather, as it can get quite hot in the afternoons! Definitely worth the visit.','What a beautiful and peaceful beach! The soft sands and clear blue water were inviting. We spent hours swimming and sunbathing. The local seafood was a highlight of our trip, particularly the grilled fish. Just a heads up, the beach is less crowded, so bring your own supplies as facilities are limited.','Pesalai Beach is picturesque and well-maintained. The tranquility is unmatched, making it a perfect spot for couples seeking a romantic getaway. While the water was calm and inviting, we found some areas a bit rocky, so swim with caution. Overall, a delightful experience!','As a solo traveler, I found Pesalai Beach to be quite tranquil. However, I did run into some military personnel who informed me about swimming restrictions in certain areas. ItÃ¢Â€Â™s important to respect these guidelines. Still, the scenic beauty and the sound of the waves made it a worthwhile visit.','We visited Pesalai Beach as a family, and it was mostly great! The kids loved playing in the sand and exploring the shoreline. The beach was clean, but we faced some minor issues with limited facilities. Also, it was a bit quiet for our taste, but the views were stunning, and the seafood was absolutely delicious!']\n",
      "5. Rillamba Surf Point - ['Rillamba Surf Point was a bit disappointing. The waves were inconsistent, making it tough for beginners like me to enjoy surfing. The beach itself was nice, but the lack of facilities meant we had to pack our own food and drinks. Not the vibrant beach experience I was hoping for. WouldnÃ¢Â€Â™t recommend it for a full day trip.', 'My friends and I visited Rillamba Surf Point, and while the scenery was beautiful, the surf conditions were not ideal. We found it challenging to catch good waves, and the area was quite crowded. ItÃ¢Â€Â™s a decent spot for a quick visit, but donÃ¢Â€Â™t expect to surf all day. There are better places nearby.' , 'As a couple looking for a romantic getaway, we found Rillamba lacking charm. The beach was not well-maintained, and the surfing was mediocre at best. We ended up leaving early and seeking other activities. ItÃ¢Â€Â™s a shame because the location has potential, but it needs better management.' , 'We took our family to Rillamba Surf Point, and while the kids enjoyed playing in the sand, the surfing was not suitable for them. It felt more like a stopover than a destination. The lack of amenities made it difficult, and we wished we had chosen a more family-friendly beach.' , 'I had high hopes for Rillamba Surf Point, but it was underwhelming. The surf was not challenging enough for experienced surfers, and the beach was quite dirty. ItÃ¢Â€Â™s a nice spot to relax, but if youÃ¢Â€Â™re looking for a lively surf scene, you might want to look elsewhere.']\n"
     ]
    }
   ],
   "source": [
    "print(\"Top 5 recommended places:\")\n",
    "for i, idx in enumerate(top_5_indices):\n",
    "    place = places_original.iloc[idx]\n",
    "    print(f\"{i+1}. {place['name']} - {place['latest_reviews']}\")"
   ],
   "metadata": {
    "collapsed": false,
    "ExecuteTime": {
     "end_time": "2024-09-11T16:21:58.260254600Z",
     "start_time": "2024-09-11T16:21:58.219027200Z"
    }
   },
   "id": "39602edf96674364"
  },
  {
   "cell_type": "code",
   "execution_count": null,
   "outputs": [],
   "source": [],
   "metadata": {
    "collapsed": false
   },
   "id": "d0f1e53a0f677f14"
  }
 ],
 "metadata": {
  "kernelspec": {
   "display_name": "Python 3",
   "language": "python",
   "name": "python3"
  },
  "language_info": {
   "codemirror_mode": {
    "name": "ipython",
    "version": 2
   },
   "file_extension": ".py",
   "mimetype": "text/x-python",
   "name": "python",
   "nbconvert_exporter": "python",
   "pygments_lexer": "ipython2",
   "version": "2.7.6"
  }
 },
 "nbformat": 4,
 "nbformat_minor": 5
}
