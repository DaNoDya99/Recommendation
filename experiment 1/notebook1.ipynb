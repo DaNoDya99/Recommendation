{
 "cells": [
  {
   "cell_type": "code",
   "execution_count": 1,
   "id": "initial_id",
   "metadata": {
    "collapsed": true,
    "ExecuteTime": {
     "end_time": "2024-09-10T14:21:29.432358Z",
     "start_time": "2024-09-10T14:21:23.204594100Z"
    }
   },
   "outputs": [],
   "source": [
    "import pandas as pd\n",
    "import numpy as np\n",
    "from sklearn.feature_extraction.text import TfidfVectorizer\n",
    "from sklearn.metrics.pairwise import cosine_similarity\n",
    "from math import sin, cos, sqrt, atan2, radians"
   ]
  },
  {
   "cell_type": "code",
   "execution_count": 2,
   "outputs": [],
   "source": [
    "users_df = pd.read_excel(\"../data/Visitors Preference Dataset.xlsx\")\n",
    "places_df = pd.read_excel(\"../data/Places Dataset.xlsx\")"
   ],
   "metadata": {
    "collapsed": false,
    "ExecuteTime": {
     "end_time": "2024-09-10T14:21:31.329155500Z",
     "start_time": "2024-09-10T14:21:29.433352900Z"
    }
   },
   "id": "7728cb6ea2fd0e52"
  },
  {
   "cell_type": "code",
   "execution_count": 3,
   "outputs": [
    {
     "data": {
      "text/plain": "   User ID              Name                         Email  \\\n0        1    Jennifer Quinn    jennifer.quinn@example.com   \n1        2       Emily Perry       emily.perry@example.com   \n2        3  Danielle Mcbride  danielle.mcbride@example.com   \n3        4   Angelica Wilson   angelica.wilson@example.com   \n4        5     Laurie Powers     laurie.powers@example.com   \n\n                                Preferred Activities  \\\n0  ['cycling', 'historical monuments', 'village h...   \n1  ['butterfly watching', 'hot springs', 'wildlif...   \n2  ['sea cruises', 'themed parks', 'craft worksho...   \n3              ['fishing', 'hot springs', 'sailing']   \n4     ['history tours', 'sailing', 'literary tours']   \n\n                  Bucket list destinations Sri Lanka  \n0  ['Polonnaruwa', 'Hatton', 'Anuradhapura', 'Ell...  \n1  ['Madunagala Hot Water Spring', 'Wilpattu Nati...  \n2  ['Mirissa Beach', 'Negombo Lagoon', 'Batadomba...  \n3  ['Maha Oya Hot Water Springs', 'Colombo Port C...  \n4  ['Negombo Lagoon', 'Colombo Port City', 'Galle...  ",
      "text/html": "<div>\n<style scoped>\n    .dataframe tbody tr th:only-of-type {\n        vertical-align: middle;\n    }\n\n    .dataframe tbody tr th {\n        vertical-align: top;\n    }\n\n    .dataframe thead th {\n        text-align: right;\n    }\n</style>\n<table border=\"1\" class=\"dataframe\">\n  <thead>\n    <tr style=\"text-align: right;\">\n      <th></th>\n      <th>User ID</th>\n      <th>Name</th>\n      <th>Email</th>\n      <th>Preferred Activities</th>\n      <th>Bucket list destinations Sri Lanka</th>\n    </tr>\n  </thead>\n  <tbody>\n    <tr>\n      <th>0</th>\n      <td>1</td>\n      <td>Jennifer Quinn</td>\n      <td>jennifer.quinn@example.com</td>\n      <td>['cycling', 'historical monuments', 'village h...</td>\n      <td>['Polonnaruwa', 'Hatton', 'Anuradhapura', 'Ell...</td>\n    </tr>\n    <tr>\n      <th>1</th>\n      <td>2</td>\n      <td>Emily Perry</td>\n      <td>emily.perry@example.com</td>\n      <td>['butterfly watching', 'hot springs', 'wildlif...</td>\n      <td>['Madunagala Hot Water Spring', 'Wilpattu Nati...</td>\n    </tr>\n    <tr>\n      <th>2</th>\n      <td>3</td>\n      <td>Danielle Mcbride</td>\n      <td>danielle.mcbride@example.com</td>\n      <td>['sea cruises', 'themed parks', 'craft worksho...</td>\n      <td>['Mirissa Beach', 'Negombo Lagoon', 'Batadomba...</td>\n    </tr>\n    <tr>\n      <th>3</th>\n      <td>4</td>\n      <td>Angelica Wilson</td>\n      <td>angelica.wilson@example.com</td>\n      <td>['fishing', 'hot springs', 'sailing']</td>\n      <td>['Maha Oya Hot Water Springs', 'Colombo Port C...</td>\n    </tr>\n    <tr>\n      <th>4</th>\n      <td>5</td>\n      <td>Laurie Powers</td>\n      <td>laurie.powers@example.com</td>\n      <td>['history tours', 'sailing', 'literary tours']</td>\n      <td>['Negombo Lagoon', 'Colombo Port City', 'Galle...</td>\n    </tr>\n  </tbody>\n</table>\n</div>"
     },
     "execution_count": 3,
     "metadata": {},
     "output_type": "execute_result"
    }
   ],
   "source": [
    "users_df.head()"
   ],
   "metadata": {
    "collapsed": false,
    "ExecuteTime": {
     "end_time": "2024-09-10T14:21:31.354048Z",
     "start_time": "2024-09-10T14:21:31.330155200Z"
    }
   },
   "id": "f051c3ad9e00dbf9"
  },
  {
   "cell_type": "code",
   "execution_count": 4,
   "outputs": [
    {
     "data": {
      "text/plain": "                             name       lat        lng  \\\n0                Arugam Bay Beach  6.840408  81.836848   \n1                   Mirissa Beach  5.944703  80.459161   \n2  Weligama Beach (surf and stay)  5.972486  80.435714   \n3                        Ahangama  5.973975  80.362159   \n4                 Hikkaduwa Beach  6.137727  80.099060   \n\n             formatted_address  rating  user_ratings_total  \\\n0  Arugam Bay Beach, Sri Lanka     4.8              1591.0   \n1           Mirissa, Sri Lanka     4.6              1748.0   \n2          Weligama, Sri Lanka     4.4               325.0   \n3          Ahangama, Sri Lanka     NaN                 NaN   \n4   Hikkaduwa Beach, Sri Lanka     4.7              1438.0   \n\n                                      latest_reviews  \n0  ['Arugam Bay Beach is a surfer's paradise! I s...  \n1  ['Mirissa Beach is truly a gem on Sri LankaÃ¢Â...  \n2  ['Weligama Beach is a fantastic spot for both ...  \n3  ['Ahangama was a bit disappointing for me as a...  \n4  ['Hikkaduwa Beach is a delightful escape for s...  ",
      "text/html": "<div>\n<style scoped>\n    .dataframe tbody tr th:only-of-type {\n        vertical-align: middle;\n    }\n\n    .dataframe tbody tr th {\n        vertical-align: top;\n    }\n\n    .dataframe thead th {\n        text-align: right;\n    }\n</style>\n<table border=\"1\" class=\"dataframe\">\n  <thead>\n    <tr style=\"text-align: right;\">\n      <th></th>\n      <th>name</th>\n      <th>lat</th>\n      <th>lng</th>\n      <th>formatted_address</th>\n      <th>rating</th>\n      <th>user_ratings_total</th>\n      <th>latest_reviews</th>\n    </tr>\n  </thead>\n  <tbody>\n    <tr>\n      <th>0</th>\n      <td>Arugam Bay Beach</td>\n      <td>6.840408</td>\n      <td>81.836848</td>\n      <td>Arugam Bay Beach, Sri Lanka</td>\n      <td>4.8</td>\n      <td>1591.0</td>\n      <td>['Arugam Bay Beach is a surfer's paradise! I s...</td>\n    </tr>\n    <tr>\n      <th>1</th>\n      <td>Mirissa Beach</td>\n      <td>5.944703</td>\n      <td>80.459161</td>\n      <td>Mirissa, Sri Lanka</td>\n      <td>4.6</td>\n      <td>1748.0</td>\n      <td>['Mirissa Beach is truly a gem on Sri LankaÃ¢Â...</td>\n    </tr>\n    <tr>\n      <th>2</th>\n      <td>Weligama Beach (surf and stay)</td>\n      <td>5.972486</td>\n      <td>80.435714</td>\n      <td>Weligama, Sri Lanka</td>\n      <td>4.4</td>\n      <td>325.0</td>\n      <td>['Weligama Beach is a fantastic spot for both ...</td>\n    </tr>\n    <tr>\n      <th>3</th>\n      <td>Ahangama</td>\n      <td>5.973975</td>\n      <td>80.362159</td>\n      <td>Ahangama, Sri Lanka</td>\n      <td>NaN</td>\n      <td>NaN</td>\n      <td>['Ahangama was a bit disappointing for me as a...</td>\n    </tr>\n    <tr>\n      <th>4</th>\n      <td>Hikkaduwa Beach</td>\n      <td>6.137727</td>\n      <td>80.099060</td>\n      <td>Hikkaduwa Beach, Sri Lanka</td>\n      <td>4.7</td>\n      <td>1438.0</td>\n      <td>['Hikkaduwa Beach is a delightful escape for s...</td>\n    </tr>\n  </tbody>\n</table>\n</div>"
     },
     "execution_count": 4,
     "metadata": {},
     "output_type": "execute_result"
    }
   ],
   "source": [
    "places_df.head()"
   ],
   "metadata": {
    "collapsed": false,
    "ExecuteTime": {
     "end_time": "2024-09-10T14:21:31.367677Z",
     "start_time": "2024-09-10T14:21:31.345048500Z"
    }
   },
   "id": "772859715c7ad0f5"
  },
  {
   "cell_type": "code",
   "execution_count": 5,
   "outputs": [
    {
     "name": "stdout",
     "output_type": "stream",
     "text": [
      "Preferred Activities\n",
      "<class 'str'>    10000\n",
      "Name: count, dtype: int64\n",
      "Bucket list destinations Sri Lanka\n",
      "<class 'str'>    10000\n",
      "Name: count, dtype: int64\n"
     ]
    }
   ],
   "source": [
    "print(users_df['Preferred Activities'].apply(type).value_counts())\n",
    "print(users_df['Bucket list destinations Sri Lanka'].apply(type).value_counts())"
   ],
   "metadata": {
    "collapsed": false,
    "ExecuteTime": {
     "end_time": "2024-09-10T14:21:31.389832600Z",
     "start_time": "2024-09-10T14:21:31.368672300Z"
    }
   },
   "id": "1b22e4a53d405e76"
  },
  {
   "cell_type": "code",
   "execution_count": 6,
   "outputs": [],
   "source": [
    "users_df['Preferred Activities'] = users_df['Preferred Activities'].apply(\n",
    "    lambda x: eval(x) if isinstance(x, str) and x.strip() != '' else np.nan\n",
    ")\n",
    "users_df['Bucket list destinations Sri Lanka'] = users_df['Bucket list destinations Sri Lanka'].apply(\n",
    "    lambda x: eval(x) if isinstance(x, str) and x.strip() != '' else np.nan\n",
    ")"
   ],
   "metadata": {
    "collapsed": false,
    "ExecuteTime": {
     "end_time": "2024-09-10T14:21:31.817811100Z",
     "start_time": "2024-09-10T14:21:31.373824Z"
    }
   },
   "id": "e2dd8fd58e3a7931"
  },
  {
   "cell_type": "code",
   "execution_count": 7,
   "outputs": [
    {
     "data": {
      "text/plain": "   User ID              Name                         Email  \\\n0        1    Jennifer Quinn    jennifer.quinn@example.com   \n1        2       Emily Perry       emily.perry@example.com   \n2        3  Danielle Mcbride  danielle.mcbride@example.com   \n3        4   Angelica Wilson   angelica.wilson@example.com   \n4        5     Laurie Powers     laurie.powers@example.com   \n\n                                Preferred Activities  \\\n0  [cycling, historical monuments, village homest...   \n1  [butterfly watching, hot springs, wildlife vie...   \n2       [sea cruises, themed parks, craft workshops]   \n3                    [fishing, hot springs, sailing]   \n4           [history tours, sailing, literary tours]   \n\n                  Bucket list destinations Sri Lanka  \n0  [Polonnaruwa, Hatton, Anuradhapura, Ella, Hapu...  \n1  [Madunagala Hot Water Spring, Wilpattu Nationa...  \n2  [Mirissa Beach, Negombo Lagoon, Batadombalena ...  \n3  [Maha Oya Hot Water Springs, Colombo Port City...  \n4  [Negombo Lagoon, Colombo Port City, Galle Dutc...  ",
      "text/html": "<div>\n<style scoped>\n    .dataframe tbody tr th:only-of-type {\n        vertical-align: middle;\n    }\n\n    .dataframe tbody tr th {\n        vertical-align: top;\n    }\n\n    .dataframe thead th {\n        text-align: right;\n    }\n</style>\n<table border=\"1\" class=\"dataframe\">\n  <thead>\n    <tr style=\"text-align: right;\">\n      <th></th>\n      <th>User ID</th>\n      <th>Name</th>\n      <th>Email</th>\n      <th>Preferred Activities</th>\n      <th>Bucket list destinations Sri Lanka</th>\n    </tr>\n  </thead>\n  <tbody>\n    <tr>\n      <th>0</th>\n      <td>1</td>\n      <td>Jennifer Quinn</td>\n      <td>jennifer.quinn@example.com</td>\n      <td>[cycling, historical monuments, village homest...</td>\n      <td>[Polonnaruwa, Hatton, Anuradhapura, Ella, Hapu...</td>\n    </tr>\n    <tr>\n      <th>1</th>\n      <td>2</td>\n      <td>Emily Perry</td>\n      <td>emily.perry@example.com</td>\n      <td>[butterfly watching, hot springs, wildlife vie...</td>\n      <td>[Madunagala Hot Water Spring, Wilpattu Nationa...</td>\n    </tr>\n    <tr>\n      <th>2</th>\n      <td>3</td>\n      <td>Danielle Mcbride</td>\n      <td>danielle.mcbride@example.com</td>\n      <td>[sea cruises, themed parks, craft workshops]</td>\n      <td>[Mirissa Beach, Negombo Lagoon, Batadombalena ...</td>\n    </tr>\n    <tr>\n      <th>3</th>\n      <td>4</td>\n      <td>Angelica Wilson</td>\n      <td>angelica.wilson@example.com</td>\n      <td>[fishing, hot springs, sailing]</td>\n      <td>[Maha Oya Hot Water Springs, Colombo Port City...</td>\n    </tr>\n    <tr>\n      <th>4</th>\n      <td>5</td>\n      <td>Laurie Powers</td>\n      <td>laurie.powers@example.com</td>\n      <td>[history tours, sailing, literary tours]</td>\n      <td>[Negombo Lagoon, Colombo Port City, Galle Dutc...</td>\n    </tr>\n  </tbody>\n</table>\n</div>"
     },
     "execution_count": 7,
     "metadata": {},
     "output_type": "execute_result"
    }
   ],
   "source": [
    "users_df.head()"
   ],
   "metadata": {
    "collapsed": false,
    "ExecuteTime": {
     "end_time": "2024-09-10T14:21:31.818812400Z",
     "start_time": "2024-09-10T14:21:31.789437300Z"
    }
   },
   "id": "5449f32ed3f60ac1"
  },
  {
   "cell_type": "code",
   "execution_count": 8,
   "outputs": [],
   "source": [
    "users_df['Preferred Activities String'] = users_df['Preferred Activities'].apply(lambda x: \" \".join(x))"
   ],
   "metadata": {
    "collapsed": false,
    "ExecuteTime": {
     "end_time": "2024-09-10T14:21:31.818812400Z",
     "start_time": "2024-09-10T14:21:31.805152100Z"
    }
   },
   "id": "67105248af413c5"
  },
  {
   "cell_type": "code",
   "execution_count": 9,
   "outputs": [],
   "source": [
    "places_df['latest_reviews'] = places_df['latest_reviews'].apply(\n",
    "    lambda x: ''.join(e for e in x if e.isalnum() or e.isspace())\n",
    ")"
   ],
   "metadata": {
    "collapsed": false,
    "ExecuteTime": {
     "end_time": "2024-09-10T14:21:32.015284800Z",
     "start_time": "2024-09-10T14:21:31.814813Z"
    }
   },
   "id": "b19aaafe51917f64"
  },
  {
   "cell_type": "code",
   "execution_count": 10,
   "outputs": [],
   "source": [
    "places_df['latest_reviews'] = places_df['latest_reviews'].apply(lambda x: x if isinstance(x, str) else \"\")\n",
    "places_df['Reviews Combined'] = places_df['latest_reviews'].apply(lambda x: \" \".join(x.split()))"
   ],
   "metadata": {
    "collapsed": false,
    "ExecuteTime": {
     "end_time": "2024-09-10T14:21:32.016283900Z",
     "start_time": "2024-09-10T14:21:31.907761900Z"
    }
   },
   "id": "a8de7f9189c9bf05"
  },
  {
   "cell_type": "code",
   "execution_count": 11,
   "outputs": [
    {
     "data": {
      "text/plain": "                             name       lat        lng  \\\n0                Arugam Bay Beach  6.840408  81.836848   \n1                   Mirissa Beach  5.944703  80.459161   \n2  Weligama Beach (surf and stay)  5.972486  80.435714   \n3                        Ahangama  5.973975  80.362159   \n4                 Hikkaduwa Beach  6.137727  80.099060   \n\n             formatted_address  rating  user_ratings_total  \\\n0  Arugam Bay Beach, Sri Lanka     4.8              1591.0   \n1           Mirissa, Sri Lanka     4.6              1748.0   \n2          Weligama, Sri Lanka     4.4               325.0   \n3          Ahangama, Sri Lanka     NaN                 NaN   \n4   Hikkaduwa Beach, Sri Lanka     4.7              1438.0   \n\n                                      latest_reviews  \\\n0  Arugam Bay Beach is a surfers paradise I spent...   \n1  Mirissa Beach is truly a gem on Sri LankaÃÂÂs ...   \n2  Weligama Beach is a fantastic spot for both be...   \n3  Ahangama was a bit disappointing for me as a s...   \n4  Hikkaduwa Beach is a delightful escape for sol...   \n\n                                    Reviews Combined  \n0  Arugam Bay Beach is a surfers paradise I spent...  \n1  Mirissa Beach is truly a gem on Sri LankaÃÂÂs ...  \n2  Weligama Beach is a fantastic spot for both be...  \n3  Ahangama was a bit disappointing for me as a s...  \n4  Hikkaduwa Beach is a delightful escape for sol...  ",
      "text/html": "<div>\n<style scoped>\n    .dataframe tbody tr th:only-of-type {\n        vertical-align: middle;\n    }\n\n    .dataframe tbody tr th {\n        vertical-align: top;\n    }\n\n    .dataframe thead th {\n        text-align: right;\n    }\n</style>\n<table border=\"1\" class=\"dataframe\">\n  <thead>\n    <tr style=\"text-align: right;\">\n      <th></th>\n      <th>name</th>\n      <th>lat</th>\n      <th>lng</th>\n      <th>formatted_address</th>\n      <th>rating</th>\n      <th>user_ratings_total</th>\n      <th>latest_reviews</th>\n      <th>Reviews Combined</th>\n    </tr>\n  </thead>\n  <tbody>\n    <tr>\n      <th>0</th>\n      <td>Arugam Bay Beach</td>\n      <td>6.840408</td>\n      <td>81.836848</td>\n      <td>Arugam Bay Beach, Sri Lanka</td>\n      <td>4.8</td>\n      <td>1591.0</td>\n      <td>Arugam Bay Beach is a surfers paradise I spent...</td>\n      <td>Arugam Bay Beach is a surfers paradise I spent...</td>\n    </tr>\n    <tr>\n      <th>1</th>\n      <td>Mirissa Beach</td>\n      <td>5.944703</td>\n      <td>80.459161</td>\n      <td>Mirissa, Sri Lanka</td>\n      <td>4.6</td>\n      <td>1748.0</td>\n      <td>Mirissa Beach is truly a gem on Sri LankaÃÂÂs ...</td>\n      <td>Mirissa Beach is truly a gem on Sri LankaÃÂÂs ...</td>\n    </tr>\n    <tr>\n      <th>2</th>\n      <td>Weligama Beach (surf and stay)</td>\n      <td>5.972486</td>\n      <td>80.435714</td>\n      <td>Weligama, Sri Lanka</td>\n      <td>4.4</td>\n      <td>325.0</td>\n      <td>Weligama Beach is a fantastic spot for both be...</td>\n      <td>Weligama Beach is a fantastic spot for both be...</td>\n    </tr>\n    <tr>\n      <th>3</th>\n      <td>Ahangama</td>\n      <td>5.973975</td>\n      <td>80.362159</td>\n      <td>Ahangama, Sri Lanka</td>\n      <td>NaN</td>\n      <td>NaN</td>\n      <td>Ahangama was a bit disappointing for me as a s...</td>\n      <td>Ahangama was a bit disappointing for me as a s...</td>\n    </tr>\n    <tr>\n      <th>4</th>\n      <td>Hikkaduwa Beach</td>\n      <td>6.137727</td>\n      <td>80.099060</td>\n      <td>Hikkaduwa Beach, Sri Lanka</td>\n      <td>4.7</td>\n      <td>1438.0</td>\n      <td>Hikkaduwa Beach is a delightful escape for sol...</td>\n      <td>Hikkaduwa Beach is a delightful escape for sol...</td>\n    </tr>\n  </tbody>\n</table>\n</div>"
     },
     "execution_count": 11,
     "metadata": {},
     "output_type": "execute_result"
    }
   ],
   "source": [
    "places_df.head()"
   ],
   "metadata": {
    "collapsed": false,
    "ExecuteTime": {
     "end_time": "2024-09-10T14:21:32.017284400Z",
     "start_time": "2024-09-10T14:21:31.930991500Z"
    }
   },
   "id": "8a08c01d85fcdf8b"
  },
  {
   "cell_type": "code",
   "execution_count": 12,
   "outputs": [],
   "source": [
    "tfidf = TfidfVectorizer(stop_words='english')\n",
    "tfidf_matrix_places = tfidf.fit_transform(places_df['Reviews Combined'])"
   ],
   "metadata": {
    "collapsed": false,
    "ExecuteTime": {
     "end_time": "2024-09-10T14:21:32.093015200Z",
     "start_time": "2024-09-10T14:21:31.944154900Z"
    }
   },
   "id": "1c2a382cb6562bb1"
  },
  {
   "cell_type": "code",
   "execution_count": 13,
   "outputs": [
    {
     "data": {
      "text/plain": "(411, 4329)"
     },
     "execution_count": 13,
     "metadata": {},
     "output_type": "execute_result"
    }
   ],
   "source": [
    "tfidf_matrix_places.shape"
   ],
   "metadata": {
    "collapsed": false,
    "ExecuteTime": {
     "end_time": "2024-09-10T14:21:32.094015400Z",
     "start_time": "2024-09-10T14:21:32.040118500Z"
    }
   },
   "id": "160bd0bbafd27e3f"
  },
  {
   "cell_type": "code",
   "execution_count": 14,
   "outputs": [],
   "source": [
    "def recommend_places_by_activity(user_id):\n",
    "    user_activities = users_df.loc[users_df['User ID'] == user_id, 'Preferred Activities String'].values[0]\n",
    "    user_tfidf = tfidf.transform([user_activities])\n",
    "    cosine_sim = cosine_similarity(user_tfidf, tfidf_matrix_places)\n",
    "    place_indices = cosine_sim.argsort()[0][-5:][::-1]\n",
    "    return places_df.iloc[place_indices][['name', 'formatted_address', 'rating']]"
   ],
   "metadata": {
    "collapsed": false,
    "ExecuteTime": {
     "end_time": "2024-09-10T14:21:32.156298300Z",
     "start_time": "2024-09-10T14:21:32.048142100Z"
    }
   },
   "id": "5dd3cedd1f0a7c45"
  },
  {
   "cell_type": "code",
   "execution_count": 15,
   "outputs": [
    {
     "data": {
      "text/plain": "                        name            formatted_address  rating\n95               Polonnaruwa       Polonnaruwa, Sri Lanka     NaN\n23              Anuradhapura      Anuradhapura, Sri Lanka     NaN\n100      Viharamahadevi Park           Colombo, Sri Lanka     4.1\n340         Mandathivu Beach  Mandaitivu South, Sri Lanka     4.8\n38   Colombo National Museum          Colombo , Sri Lanka     4.6",
      "text/html": "<div>\n<style scoped>\n    .dataframe tbody tr th:only-of-type {\n        vertical-align: middle;\n    }\n\n    .dataframe tbody tr th {\n        vertical-align: top;\n    }\n\n    .dataframe thead th {\n        text-align: right;\n    }\n</style>\n<table border=\"1\" class=\"dataframe\">\n  <thead>\n    <tr style=\"text-align: right;\">\n      <th></th>\n      <th>name</th>\n      <th>formatted_address</th>\n      <th>rating</th>\n    </tr>\n  </thead>\n  <tbody>\n    <tr>\n      <th>95</th>\n      <td>Polonnaruwa</td>\n      <td>Polonnaruwa, Sri Lanka</td>\n      <td>NaN</td>\n    </tr>\n    <tr>\n      <th>23</th>\n      <td>Anuradhapura</td>\n      <td>Anuradhapura, Sri Lanka</td>\n      <td>NaN</td>\n    </tr>\n    <tr>\n      <th>100</th>\n      <td>Viharamahadevi Park</td>\n      <td>Colombo, Sri Lanka</td>\n      <td>4.1</td>\n    </tr>\n    <tr>\n      <th>340</th>\n      <td>Mandathivu Beach</td>\n      <td>Mandaitivu South, Sri Lanka</td>\n      <td>4.8</td>\n    </tr>\n    <tr>\n      <th>38</th>\n      <td>Colombo National Museum</td>\n      <td>Colombo , Sri Lanka</td>\n      <td>4.6</td>\n    </tr>\n  </tbody>\n</table>\n</div>"
     },
     "execution_count": 15,
     "metadata": {},
     "output_type": "execute_result"
    }
   ],
   "source": [
    "recommend_places_by_activity(1)"
   ],
   "metadata": {
    "collapsed": false,
    "ExecuteTime": {
     "end_time": "2024-09-10T14:21:32.157298100Z",
     "start_time": "2024-09-10T14:21:32.059834100Z"
    }
   },
   "id": "a3f6a03abf28d258"
  },
  {
   "cell_type": "code",
   "execution_count": 23,
   "outputs": [
    {
     "data": {
      "text/plain": "['Polonnaruwa', 'Hatton', 'Anuradhapura', 'Ella', 'Haputale']"
     },
     "execution_count": 23,
     "metadata": {},
     "output_type": "execute_result"
    }
   ],
   "source": [
    "users_df.loc[users_df['User ID'] == 1, 'Bucket list destinations Sri Lanka'].values[0]"
   ],
   "metadata": {
    "collapsed": false,
    "ExecuteTime": {
     "end_time": "2024-09-10T14:22:46.030500100Z",
     "start_time": "2024-09-10T14:22:45.874285100Z"
    }
   },
   "id": "e29673a138a2ea70"
  },
  {
   "cell_type": "code",
   "execution_count": 28,
   "outputs": [
    {
     "data": {
      "text/plain": "   User ID              Name                         Email  \\\n0        1    Jennifer Quinn    jennifer.quinn@example.com   \n1        2       Emily Perry       emily.perry@example.com   \n2        3  Danielle Mcbride  danielle.mcbride@example.com   \n3        4   Angelica Wilson   angelica.wilson@example.com   \n4        5     Laurie Powers     laurie.powers@example.com   \n\n                                Preferred Activities  \\\n0  [cycling, historical monuments, village homest...   \n1  [butterfly watching, hot springs, wildlife vie...   \n2       [sea cruises, themed parks, craft workshops]   \n3                    [fishing, hot springs, sailing]   \n4           [history tours, sailing, literary tours]   \n\n                  Bucket list destinations Sri Lanka  \\\n0  [Polonnaruwa, Hatton, Anuradhapura, Ella, Hapu...   \n1  [Madunagala Hot Water Spring, Wilpattu Nationa...   \n2  [Mirissa Beach, Negombo Lagoon, Batadombalena ...   \n3  [Maha Oya Hot Water Springs, Colombo Port City...   \n4  [Negombo Lagoon, Colombo Port City, Galle Dutc...   \n\n                       Preferred Activities String  \n0   cycling historical monuments village homestays  \n1  butterfly watching hot springs wildlife viewing  \n2         sea cruises themed parks craft workshops  \n3                      fishing hot springs sailing  \n4             history tours sailing literary tours  ",
      "text/html": "<div>\n<style scoped>\n    .dataframe tbody tr th:only-of-type {\n        vertical-align: middle;\n    }\n\n    .dataframe tbody tr th {\n        vertical-align: top;\n    }\n\n    .dataframe thead th {\n        text-align: right;\n    }\n</style>\n<table border=\"1\" class=\"dataframe\">\n  <thead>\n    <tr style=\"text-align: right;\">\n      <th></th>\n      <th>User ID</th>\n      <th>Name</th>\n      <th>Email</th>\n      <th>Preferred Activities</th>\n      <th>Bucket list destinations Sri Lanka</th>\n      <th>Preferred Activities String</th>\n    </tr>\n  </thead>\n  <tbody>\n    <tr>\n      <th>0</th>\n      <td>1</td>\n      <td>Jennifer Quinn</td>\n      <td>jennifer.quinn@example.com</td>\n      <td>[cycling, historical monuments, village homest...</td>\n      <td>[Polonnaruwa, Hatton, Anuradhapura, Ella, Hapu...</td>\n      <td>cycling historical monuments village homestays</td>\n    </tr>\n    <tr>\n      <th>1</th>\n      <td>2</td>\n      <td>Emily Perry</td>\n      <td>emily.perry@example.com</td>\n      <td>[butterfly watching, hot springs, wildlife vie...</td>\n      <td>[Madunagala Hot Water Spring, Wilpattu Nationa...</td>\n      <td>butterfly watching hot springs wildlife viewing</td>\n    </tr>\n    <tr>\n      <th>2</th>\n      <td>3</td>\n      <td>Danielle Mcbride</td>\n      <td>danielle.mcbride@example.com</td>\n      <td>[sea cruises, themed parks, craft workshops]</td>\n      <td>[Mirissa Beach, Negombo Lagoon, Batadombalena ...</td>\n      <td>sea cruises themed parks craft workshops</td>\n    </tr>\n    <tr>\n      <th>3</th>\n      <td>4</td>\n      <td>Angelica Wilson</td>\n      <td>angelica.wilson@example.com</td>\n      <td>[fishing, hot springs, sailing]</td>\n      <td>[Maha Oya Hot Water Springs, Colombo Port City...</td>\n      <td>fishing hot springs sailing</td>\n    </tr>\n    <tr>\n      <th>4</th>\n      <td>5</td>\n      <td>Laurie Powers</td>\n      <td>laurie.powers@example.com</td>\n      <td>[history tours, sailing, literary tours]</td>\n      <td>[Negombo Lagoon, Colombo Port City, Galle Dutc...</td>\n      <td>history tours sailing literary tours</td>\n    </tr>\n  </tbody>\n</table>\n</div>"
     },
     "execution_count": 28,
     "metadata": {},
     "output_type": "execute_result"
    }
   ],
   "source": [
    "users_df.head()"
   ],
   "metadata": {
    "collapsed": false,
    "ExecuteTime": {
     "end_time": "2024-09-10T14:33:05.293025500Z",
     "start_time": "2024-09-10T14:33:05.262804800Z"
    }
   },
   "id": "d7247e1e2cd16519"
  },
  {
   "cell_type": "code",
   "execution_count": 25,
   "outputs": [],
   "source": [
    "def calculate_cosine_similarity(user_id):\n",
    "    user_activities = users_df.loc[users_df['User ID'] == user_id, 'Preferred Activities String'].values[0]\n",
    "    user_tfidf = tfidf.transform([user_activities])\n",
    "    cosine_sim = cosine_similarity(user_tfidf, tfidf_matrix_places)\n",
    "    return cosine_sim"
   ],
   "metadata": {
    "collapsed": false,
    "ExecuteTime": {
     "end_time": "2024-09-10T14:23:50.646739100Z",
     "start_time": "2024-09-10T14:23:50.609704200Z"
    }
   },
   "id": "78051862ec0e4cf2"
  },
  {
   "cell_type": "code",
   "execution_count": 26,
   "outputs": [],
   "source": [
    "similarities = calculate_cosine_similarity(1)"
   ],
   "metadata": {
    "collapsed": false,
    "ExecuteTime": {
     "end_time": "2024-09-10T14:24:53.904790300Z",
     "start_time": "2024-09-10T14:24:53.794936200Z"
    }
   },
   "id": "bbc995f92677efa5"
  },
  {
   "cell_type": "code",
   "execution_count": 27,
   "outputs": [
    {
     "name": "stdout",
     "output_type": "stream",
     "text": [
      "Polonnaruwa 0.14764631524205662\n",
      "Anuradhapura 0.13526658586909307\n",
      "Viharamahadevi Park 0.12470632547034428\n",
      "Mandathivu Beach 0.056545772984757395\n",
      "Colombo National Museum 0.05243563022105097\n"
     ]
    }
   ],
   "source": [
    "place_indices = similarities.argsort()[0][-5:][::-1]\n",
    "for i in place_indices:\n",
    "    print(places_df.iloc[i]['name'], similarities[0][i])\n",
    "    "
   ],
   "metadata": {
    "collapsed": false,
    "ExecuteTime": {
     "end_time": "2024-09-10T14:25:27.430630500Z",
     "start_time": "2024-09-10T14:25:27.383387100Z"
    }
   },
   "id": "87ae47b98dca3de5"
  },
  {
   "cell_type": "code",
   "execution_count": 17,
   "outputs": [],
   "source": [
    "def calculate_distance(lat1, lon1, lat2, lon2):\n",
    "    R = 6373.0\n",
    "\n",
    "    lat1 = radians(lat1)\n",
    "    lon1 = radians(lon1)\n",
    "    lat2 = radians(lat2)\n",
    "    lon2 = radians(lon2)\n",
    "    \n",
    "    dlon = lon2 - lon1\n",
    "    dlat = lat2 - lat1\n",
    "    \n",
    "    a = sin(dlat / 2)**2 + cos(lat1) * cos(lat2) * sin(dlon / 2)**2\n",
    "    c = 2 * atan2(sqrt(a), sqrt(1 - a))\n",
    "    \n",
    "    distance = R * c\n",
    "    return distance"
   ],
   "metadata": {
    "collapsed": false,
    "ExecuteTime": {
     "end_time": "2024-09-10T14:21:32.160303800Z",
     "start_time": "2024-09-10T14:21:32.090380900Z"
    }
   },
   "id": "c458f0d425010aa4"
  },
  {
   "cell_type": "code",
   "execution_count": 18,
   "outputs": [
    {
     "data": {
      "text/plain": "0.0"
     },
     "execution_count": 18,
     "metadata": {},
     "output_type": "execute_result"
    }
   ],
   "source": [
    "calculate_distance(6.9271, 79.8612, 6.9271, 79.8612)"
   ],
   "metadata": {
    "collapsed": false,
    "ExecuteTime": {
     "end_time": "2024-09-10T14:21:32.160303800Z",
     "start_time": "2024-09-10T14:21:32.095017400Z"
    }
   },
   "id": "6869f47771e9e452"
  },
  {
   "cell_type": "code",
   "execution_count": 20,
   "outputs": [],
   "source": [],
   "metadata": {
    "collapsed": false,
    "ExecuteTime": {
     "end_time": "2024-09-10T14:21:32.264101200Z",
     "start_time": "2024-09-10T14:21:32.127778600Z"
    }
   },
   "id": "f437a2fa12c80c81"
  }
 ],
 "metadata": {
  "kernelspec": {
   "display_name": "Python 3",
   "language": "python",
   "name": "python3"
  },
  "language_info": {
   "codemirror_mode": {
    "name": "ipython",
    "version": 2
   },
   "file_extension": ".py",
   "mimetype": "text/x-python",
   "name": "python",
   "nbconvert_exporter": "python",
   "pygments_lexer": "ipython2",
   "version": "2.7.6"
  }
 },
 "nbformat": 4,
 "nbformat_minor": 5
}
